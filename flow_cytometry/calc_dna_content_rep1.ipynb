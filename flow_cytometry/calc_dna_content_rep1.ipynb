{
 "cells": [
  {
   "cell_type": "code",
   "execution_count": null,
   "metadata": {},
   "outputs": [],
   "source": [
    "import FlowCal\n",
    "import subprocess\n",
    "\n",
    "import numpy as np\n",
    "import math\n",
    "from sklearn.linear_model import LinearRegression\n",
    "import pandas as pd\n",
    "\n",
    "import matplotlib.pyplot as plt\n",
    "import seaborn as sns"
   ]
  },
  {
   "cell_type": "code",
   "execution_count": null,
   "metadata": {},
   "outputs": [],
   "source": [
    "# specify path to working directory and outfile\n",
    "workdir = '../../../figshare/flow_cytometry/rep1'\n",
    "outfile = workdir + '/dna_content_rep1.tsv'"
   ]
  },
  {
   "cell_type": "code",
   "execution_count": null,
   "metadata": {},
   "outputs": [],
   "source": [
    "#https://taborlab.github.io/FlowCal/python_tutorial/plot.html"
   ]
  },
  {
   "cell_type": "code",
   "execution_count": null,
   "metadata": {},
   "outputs": [],
   "source": [
    "# create a function for calculating all the stats for a peak of interest\n",
    "def fcs_stats():\n",
    "    data = [strain, time, peak]\n",
    "    \n",
    "    eventcount = peak_density.shape[0]\n",
    "    data.append(eventcount)\n",
    "    \n",
    "    cv = FlowCal.stats.cv(peak_density, channels='FL2-A')\n",
    "    data.append(cv)\n",
    "\n",
    "    gcv = FlowCal.stats.gcv(peak_density, channels='FL2-A')\n",
    "    data.append(gcv)\n",
    "\n",
    "    gmean = FlowCal.stats.gmean(peak_density, channels='FL2-A')\n",
    "    data.append(gmean)\n",
    "\n",
    "    gstd = FlowCal.stats.gstd(peak_density, channels='FL2-A')\n",
    "    data.append(gstd)\n",
    "\n",
    "    iqr = FlowCal.stats.iqr(peak_density, channels='FL2-A')\n",
    "    data.append(iqr)\n",
    "\n",
    "    mean = FlowCal.stats.mean(peak_density, channels='FL2-A')\n",
    "    data.append(mean)\n",
    "\n",
    "    median =  FlowCal.stats.median(peak_density, channels='FL2-A')\n",
    "    data.append(median)\n",
    "\n",
    "    mode = FlowCal.stats.mode(peak_density, channels='FL2-A')\n",
    "    data.append(mode)\n",
    "\n",
    "    rcv = FlowCal.stats.rcv(peak_density, channels='FL2-A')\n",
    "    data.append(rcv)\n",
    "\n",
    "    std = FlowCal.stats.std(peak_density, channels='FL2-A')\n",
    "    data.append(std)\n",
    "    \n",
    "    df.loc[len(df.index)] = data \n"
   ]
  },
  {
   "cell_type": "code",
   "execution_count": null,
   "metadata": {},
   "outputs": [],
   "source": [
    "# create an Empty DataFrame object to hold our peak stats\n",
    "df = pd.DataFrame(columns = ['strain', 'time', 'peak', 'event count', 'cv', 'gcv', 'gmean', 'gstd', 'iqr', 'mean', 'median', 'mode', 'rcv', 'std'])"
   ]
  },
  {
   "cell_type": "markdown",
   "metadata": {},
   "source": [
    "# Arabidopsis thaliana Col-0\n"
   ]
  },
  {
   "cell_type": "code",
   "execution_count": null,
   "metadata": {},
   "outputs": [],
   "source": [
    "# input\n",
    "strain = 'At'\n",
    "infile = workdir + '/A01 Col-0.fcs'\n",
    "\n",
    "# plot raw data\n",
    "all_points = FlowCal.io.FCSData(infile)\n",
    "all_points = FlowCal.transform.to_rfi(all_points)\n",
    "\n",
    "time = all_points.acquisition_start_time\n",
    "print(all_points.acquisition_start_time)\n"
   ]
  },
  {
   "cell_type": "code",
   "execution_count": null,
   "metadata": {},
   "outputs": [],
   "source": [
    "FlowCal.plot.density2d(all_points, channels=['FSC-A', 'FL2-A'], mode='scatter')"
   ]
  },
  {
   "cell_type": "code",
   "execution_count": null,
   "metadata": {},
   "outputs": [],
   "source": [
    "fsc_filt = FlowCal.gate.high_low(all_points, channels=['FSC-A'], high=500000)\n",
    "fsc_fl2_filt = FlowCal.gate.high_low(fsc_filt, channels=['FL2-A'], low=15000)"
   ]
  },
  {
   "cell_type": "code",
   "execution_count": null,
   "metadata": {},
   "outputs": [],
   "source": [
    "FlowCal.plot.density2d(fsc_fl2_filt, channels=['FSC-A', 'FL2-A'], mode='scatter')"
   ]
  },
  {
   "cell_type": "code",
   "execution_count": null,
   "metadata": {},
   "outputs": [],
   "source": [
    "FlowCal.plot.density_and_hist(fsc_fl2_filt, density_channels=['FL2-A', 'FL3-A'], density_params={'mode':'scatter'}, hist_channels=['FL2-A'])          \n",
    "plt.tight_layout()\n",
    "plt.show()"
   ]
  },
  {
   "cell_type": "markdown",
   "metadata": {},
   "source": [
    "## Arabidopsis thaliana 2C\n"
   ]
  },
  {
   "cell_type": "code",
   "execution_count": null,
   "metadata": {},
   "outputs": [],
   "source": [
    "# gate on primary peak\n",
    "peak = strain + '_2c'\n",
    "fraction = 0.50\n",
    "peak_center = 22000\n",
    "\n",
    "FlowCal.plot.hist1d(fsc_fl2_filt, channel=['FL2-A'])\n",
    "plt.axvline(x = (peak_center - 5000))\n",
    "plt.axvline(x = (peak_center + 5000))\n",
    "plt.show()\n"
   ]
  },
  {
   "cell_type": "code",
   "execution_count": null,
   "metadata": {},
   "outputs": [],
   "source": [
    "peak_range = FlowCal.gate.high_low(fsc_fl2_filt, channels=['FL2-A'], low=(peak_center - 5000), high=(peak_center + 5000))\n",
    "peak_density = FlowCal.gate.density2d(peak_range, channels=['FL2-A', 'FL3-A'], gate_fraction=fraction, full_output=True)[0]\n",
    "peak_contour = FlowCal.gate.density2d(peak_range, channels=['FL2-A', 'FL3-A'], gate_fraction=fraction, full_output=True)[2]\n",
    "\n",
    "FlowCal.plot.density_and_hist(fsc_fl2_filt, gated_data=peak_density, gate_contour=peak_contour, density_channels=['FL2-A', 'FL3-A'], density_params={'mode':'scatter'}, hist_channels=['FL2-A'])\n",
    "plt.tight_layout()\n",
    "plt.show()"
   ]
  },
  {
   "cell_type": "code",
   "execution_count": null,
   "metadata": {},
   "outputs": [],
   "source": [
    "fcs_stats()\n",
    "df"
   ]
  },
  {
   "cell_type": "markdown",
   "metadata": {},
   "source": [
    "## Arabidopsis thaliana 4C\n"
   ]
  },
  {
   "cell_type": "code",
   "execution_count": null,
   "metadata": {},
   "outputs": [],
   "source": [
    "# gate on primary peak\n",
    "peak = strain + '_4c'\n",
    "fraction = 0.50\n",
    "peak_center = 45000\n",
    "\n",
    "FlowCal.plot.hist1d(fsc_fl2_filt, channel=['FL2-A'])\n",
    "plt.axvline(x = (peak_center - 10000))\n",
    "plt.axvline(x = (peak_center + 10000))\n",
    "plt.show()\n"
   ]
  },
  {
   "cell_type": "code",
   "execution_count": null,
   "metadata": {},
   "outputs": [],
   "source": [
    "peak_range = FlowCal.gate.high_low(fsc_fl2_filt, channels=['FL2-A'], low=(peak_center - 10000), high=(peak_center + 10000))\n",
    "peak_density = FlowCal.gate.density2d(peak_range, channels=['FL2-A', 'FL3-A'], gate_fraction=fraction, full_output=True)[0]\n",
    "peak_contour = FlowCal.gate.density2d(peak_range, channels=['FL2-A', 'FL3-A'], gate_fraction=fraction, full_output=True)[2]\n",
    "\n",
    "FlowCal.plot.density_and_hist(fsc_fl2_filt, gated_data=peak_density, gate_contour=peak_contour, density_channels=['FL2-A', 'FL3-A'], density_params={'mode':'scatter'}, hist_channels=['FL2-A'])\n",
    "plt.tight_layout()\n",
    "plt.show()"
   ]
  },
  {
   "cell_type": "code",
   "execution_count": null,
   "metadata": {},
   "outputs": [],
   "source": [
    "fcs_stats()\n",
    "df"
   ]
  },
  {
   "cell_type": "markdown",
   "metadata": {},
   "source": [
    "## Arabidopsis thaliana 8C"
   ]
  },
  {
   "cell_type": "code",
   "execution_count": null,
   "metadata": {},
   "outputs": [],
   "source": [
    "# gate on primary peak\n",
    "peak = strain + '_8c'\n",
    "fraction = 0.50\n",
    "peak_center = 87000\n",
    "\n",
    "fsc_filt = FlowCal.gate.high_low(all_points, channels=['FSC-A'], high=500000)\n",
    "fsc_fl2_filt = FlowCal.gate.high_low(fsc_filt, channels=['FL2-A'], low=20000)\n",
    "\n",
    "FlowCal.plot.hist1d(fsc_fl2_filt, channel=['FL2-A'])\n",
    "plt.axvline(x = (peak_center - 20000))\n",
    "plt.axvline(x = (peak_center + 20000))\n",
    "plt.show()"
   ]
  },
  {
   "cell_type": "code",
   "execution_count": null,
   "metadata": {},
   "outputs": [],
   "source": [
    "peak_range = FlowCal.gate.high_low(fsc_fl2_filt, channels=['FL2-A'], low=(peak_center - 20000), high=(peak_center + 20000))\n",
    "peak_density = FlowCal.gate.density2d(peak_range, channels=['FL2-A', 'FL3-A'], gate_fraction=fraction, full_output=True)[0]\n",
    "peak_contour = FlowCal.gate.density2d(peak_range, channels=['FL2-A', 'FL3-A'], gate_fraction=fraction, full_output=True)[2]\n",
    "\n",
    "FlowCal.plot.density_and_hist(fsc_fl2_filt, gated_data=peak_density, gate_contour=peak_contour, density_channels=['FL2-A', 'FL3-A'], density_params={'mode':'scatter'}, hist_channels=['FL2-A'])\n",
    "plt.tight_layout()\n",
    "plt.show()"
   ]
  },
  {
   "cell_type": "code",
   "execution_count": null,
   "metadata": {},
   "outputs": [],
   "source": [
    "fcs_stats()\n",
    "df"
   ]
  },
  {
   "cell_type": "markdown",
   "metadata": {},
   "source": [
    "## Arabidopsis thaliana 16C"
   ]
  },
  {
   "cell_type": "code",
   "execution_count": null,
   "metadata": {},
   "outputs": [],
   "source": [
    "# gate on primary peak\n",
    "peak = strain + '_16c'\n",
    "fraction = 0.50\n",
    "peak_center = 170000\n",
    "\n",
    "fsc_filt = FlowCal.gate.high_low(all_points, channels=['FSC-A'], high=500000)\n",
    "fsc_fl2_filt = FlowCal.gate.high_low(fsc_filt, channels=['FL2-A'], low=20000)\n",
    "\n",
    "FlowCal.plot.hist1d(fsc_fl2_filt, channel=['FL2-A'])\n",
    "plt.axvline(x = (peak_center - 40000))\n",
    "plt.axvline(x = (peak_center + 40000))\n",
    "plt.show()"
   ]
  },
  {
   "cell_type": "code",
   "execution_count": null,
   "metadata": {},
   "outputs": [],
   "source": [
    "peak_range = FlowCal.gate.high_low(fsc_fl2_filt, channels=['FL2-A'], low=(peak_center - 40000), high=(peak_center + 40000))\n",
    "peak_density = FlowCal.gate.density2d(peak_range, channels=['FL2-A', 'FL3-A'], gate_fraction=fraction, full_output=True)[0]\n",
    "peak_contour = FlowCal.gate.density2d(peak_range, channels=['FL2-A', 'FL3-A'], gate_fraction=fraction, full_output=True)[2]\n",
    "\n",
    "FlowCal.plot.density_and_hist(fsc_fl2_filt, gated_data=peak_density, gate_contour=peak_contour, density_channels=['FL2-A', 'FL3-A'], density_params={'mode':'scatter'}, hist_channels=['FL2-A'])\n",
    "plt.tight_layout()\n",
    "plt.show()"
   ]
  },
  {
   "cell_type": "code",
   "execution_count": null,
   "metadata": {
    "scrolled": true
   },
   "outputs": [],
   "source": [
    "fcs_stats()\n",
    "df"
   ]
  },
  {
   "cell_type": "markdown",
   "metadata": {},
   "source": [
    "# Selaginella moellendorfii"
   ]
  },
  {
   "cell_type": "code",
   "execution_count": null,
   "metadata": {},
   "outputs": [],
   "source": [
    "# input\n",
    "strain = 'Sm'\n",
    "infile = workdir + '/A02 Selaginellamoellendorfii.fcs'\n",
    "\n",
    "# plot raw data\n",
    "all_points = FlowCal.io.FCSData(infile)\n",
    "all_points = FlowCal.transform.to_rfi(all_points)\n",
    "\n",
    "time = all_points.acquisition_start_time\n",
    "print(all_points.acquisition_start_time)"
   ]
  },
  {
   "cell_type": "code",
   "execution_count": null,
   "metadata": {},
   "outputs": [],
   "source": [
    "FlowCal.plot.density2d(all_points, channels=['FSC-A', 'FL2-A'], mode='scatter')"
   ]
  },
  {
   "cell_type": "code",
   "execution_count": null,
   "metadata": {},
   "outputs": [],
   "source": [
    "fsc_filt = FlowCal.gate.high_low(all_points, channels=['FSC-A'], high=500000)\n",
    "fsc_fl2_filt = FlowCal.gate.high_low(fsc_filt, channels=['FL2-A'], low=10000)\n",
    "\n",
    "FlowCal.plot.density2d(fsc_fl2_filt, channels=['FSC-A', 'FL2-A'], mode='scatter')"
   ]
  },
  {
   "cell_type": "code",
   "execution_count": null,
   "metadata": {},
   "outputs": [],
   "source": [
    "peak = strain + '_2c'\n",
    "fraction = 0.50\n",
    "\n",
    "peak_density = FlowCal.gate.density2d(fsc_fl2_filt, channels=['FL2-A', 'FL3-A'], gate_fraction=fraction, full_output=True)[0]\n",
    "peak_contour = FlowCal.gate.density2d(fsc_fl2_filt, channels=['FL2-A', 'FL3-A'], gate_fraction=fraction, full_output=True)[2]\n",
    "\n",
    "FlowCal.plot.density_and_hist(fsc_fl2_filt, gated_data=peak_density, gate_contour=peak_contour, density_channels=['FL2-A', 'FL3-A'], density_params={'mode':'scatter'}, hist_channels=['FL2-A'])\n",
    "plt.tight_layout()\n",
    "plt.show()"
   ]
  },
  {
   "cell_type": "code",
   "execution_count": null,
   "metadata": {
    "scrolled": true
   },
   "outputs": [],
   "source": [
    "fcs_stats()\n",
    "df"
   ]
  },
  {
   "cell_type": "markdown",
   "metadata": {},
   "source": [
    "# Chlorella vulgaris"
   ]
  },
  {
   "cell_type": "code",
   "execution_count": null,
   "metadata": {},
   "outputs": [],
   "source": [
    "# input\n",
    "strain = 'Cv'\n",
    "infile = workdir + '/A03 Chlorellavulgaris.fcs'\n",
    "\n",
    "# plot raw data\n",
    "all_points = FlowCal.io.FCSData(infile)\n",
    "all_points = FlowCal.transform.to_rfi(all_points)\n",
    "\n",
    "time = all_points.acquisition_start_time\n",
    "print(all_points.acquisition_start_time)"
   ]
  },
  {
   "cell_type": "code",
   "execution_count": null,
   "metadata": {},
   "outputs": [],
   "source": [
    "FlowCal.plot.density2d(all_points, channels=['FSC-A', 'FL2-A'], mode='scatter')"
   ]
  },
  {
   "cell_type": "code",
   "execution_count": null,
   "metadata": {},
   "outputs": [],
   "source": [
    "fsc_filt = FlowCal.gate.high_low(all_points, channels=['FSC-A'], high=500000)\n",
    "fsc_fl2_filt = FlowCal.gate.high_low(fsc_filt, channels=['FL2-A'], low=2000)\n",
    "\n",
    "FlowCal.plot.density2d(fsc_fl2_filt, channels=['FSC-A', 'FL2-A'], mode='scatter')"
   ]
  },
  {
   "cell_type": "code",
   "execution_count": null,
   "metadata": {},
   "outputs": [],
   "source": [
    "peak = strain + '_2c'\n",
    "fraction = 0.50\n",
    "\n",
    "peak_density = FlowCal.gate.density2d(fsc_fl2_filt, channels=['FL2-A', 'FL3-A'], gate_fraction=fraction, full_output=True)[0]\n",
    "peak_contour = FlowCal.gate.density2d(fsc_fl2_filt, channels=['FL2-A', 'FL3-A'], gate_fraction=fraction, full_output=True)[2]\n",
    "\n",
    "FlowCal.plot.density_and_hist(fsc_fl2_filt, gated_data=peak_density, gate_contour=peak_contour, density_channels=['FL2-A', 'FL3-A'], density_params={'mode':'scatter'}, hist_channels=['FL2-A'])\n",
    "plt.tight_layout()\n",
    "plt.show()"
   ]
  },
  {
   "cell_type": "code",
   "execution_count": null,
   "metadata": {},
   "outputs": [],
   "source": [
    "fcs_stats()\n",
    "df"
   ]
  },
  {
   "cell_type": "markdown",
   "metadata": {},
   "source": [
    "# Prymnesium parvum RCC1436"
   ]
  },
  {
   "cell_type": "code",
   "execution_count": null,
   "metadata": {},
   "outputs": [],
   "source": [
    "# input\n",
    "strain = 'RCC1436'\n",
    "infile = workdir + '/B01 RCC1436.fcs'\n",
    "\n",
    "# plot raw data\n",
    "all_points = FlowCal.io.FCSData(infile)\n",
    "all_points = FlowCal.transform.to_rfi(all_points)\n",
    "\n",
    "time = all_points.acquisition_start_time\n",
    "FlowCal.plot.density2d(all_points, channels=['FSC-A', 'FL2-A'], mode='scatter')"
   ]
  },
  {
   "cell_type": "code",
   "execution_count": null,
   "metadata": {},
   "outputs": [],
   "source": [
    "fsc_filt = FlowCal.gate.high_low(all_points, channels=['FSC-A'], high=500000)\n",
    "fsc_fl2_filt = FlowCal.gate.high_low(fsc_filt, channels=['FL2-A'], low=10000)\n",
    "FlowCal.plot.density2d(fsc_fl2_filt, channels=['FSC-A', 'FL2-A'], mode='scatter')"
   ]
  },
  {
   "cell_type": "code",
   "execution_count": null,
   "metadata": {},
   "outputs": [],
   "source": [
    "peak = strain \n",
    "fraction = 0.50\n",
    "\n",
    "peak_density = FlowCal.gate.density2d(fsc_fl2_filt, channels=['FL2-A', 'FL3-A'], gate_fraction=fraction, full_output=True)[0]\n",
    "peak_contour = FlowCal.gate.density2d(fsc_fl2_filt, channels=['FL2-A', 'FL3-A'], gate_fraction=fraction, full_output=True)[2]\n",
    "\n",
    "FlowCal.plot.density_and_hist(fsc_fl2_filt, gated_data=peak_density, gate_contour=peak_contour, density_channels=['FL2-A', 'FL3-A'], density_params={'mode':'scatter'}, hist_channels=['FL2-A'])\n",
    "plt.tight_layout()\n",
    "plt.show()"
   ]
  },
  {
   "cell_type": "code",
   "execution_count": null,
   "metadata": {},
   "outputs": [],
   "source": [
    "fcs_stats()\n",
    "df"
   ]
  },
  {
   "cell_type": "markdown",
   "metadata": {},
   "source": [
    "# Prymnesium parvum KAC39"
   ]
  },
  {
   "cell_type": "code",
   "execution_count": null,
   "metadata": {},
   "outputs": [],
   "source": [
    "# input\n",
    "strain = 'KAC39'\n",
    "infile = workdir + '/B02 KAC39.fcs'\n",
    "\n",
    "# plot raw data\n",
    "all_points = FlowCal.io.FCSData(infile)\n",
    "all_points = FlowCal.transform.to_rfi(all_points)\n",
    "\n",
    "time = all_points.acquisition_start_time\n",
    "FlowCal.plot.density2d(all_points, channels=['FSC-A', 'FL2-A'], mode='scatter')"
   ]
  },
  {
   "cell_type": "code",
   "execution_count": null,
   "metadata": {},
   "outputs": [],
   "source": [
    "fsc_filt = FlowCal.gate.high_low(all_points, channels=['FSC-A'], high=500000)\n",
    "fsc_fl2_filt = FlowCal.gate.high_low(fsc_filt, channels=['FL2-A'], low=10000)\n",
    "FlowCal.plot.density2d(fsc_fl2_filt, channels=['FSC-A', 'FL2-A'], mode='scatter')"
   ]
  },
  {
   "cell_type": "code",
   "execution_count": null,
   "metadata": {},
   "outputs": [],
   "source": [
    "peak = strain \n",
    "fraction = 0.50\n",
    "\n",
    "peak_density = FlowCal.gate.density2d(fsc_fl2_filt, channels=['FL2-A', 'FL3-A'], gate_fraction=fraction, full_output=True)[0]\n",
    "peak_contour = FlowCal.gate.density2d(fsc_fl2_filt, channels=['FL2-A', 'FL3-A'], gate_fraction=fraction, full_output=True)[2]\n",
    "\n",
    "FlowCal.plot.density_and_hist(fsc_fl2_filt, gated_data=peak_density, gate_contour=peak_contour, density_channels=['FL2-A', 'FL3-A'], density_params={'mode':'scatter'}, hist_channels=['FL2-A'])\n",
    "plt.tight_layout()\n",
    "plt.show()"
   ]
  },
  {
   "cell_type": "code",
   "execution_count": null,
   "metadata": {},
   "outputs": [],
   "source": [
    "fcs_stats()\n",
    "df"
   ]
  },
  {
   "cell_type": "markdown",
   "metadata": {},
   "source": [
    "# Prymnesium parvum K0374"
   ]
  },
  {
   "cell_type": "code",
   "execution_count": null,
   "metadata": {},
   "outputs": [],
   "source": [
    "# input\n",
    "strain = 'K0374'\n",
    "infile = workdir + '/B03 K0374.fcs'\n",
    "\n",
    "# plot raw data\n",
    "all_points = FlowCal.io.FCSData(infile)\n",
    "all_points = FlowCal.transform.to_rfi(all_points)\n",
    "\n",
    "time = all_points.acquisition_start_time\n",
    "FlowCal.plot.density2d(all_points, channels=['FSC-A', 'FL2-A'], mode='scatter')"
   ]
  },
  {
   "cell_type": "code",
   "execution_count": null,
   "metadata": {},
   "outputs": [],
   "source": [
    "fsc_filt = FlowCal.gate.high_low(all_points, channels=['FSC-A'], high=500000)\n",
    "fsc_fl2_filt = FlowCal.gate.high_low(fsc_filt, channels=['FL2-A'], low=10000)\n",
    "FlowCal.plot.density2d(fsc_fl2_filt, channels=['FSC-A', 'FL2-A'], mode='scatter')"
   ]
  },
  {
   "cell_type": "code",
   "execution_count": null,
   "metadata": {},
   "outputs": [],
   "source": [
    "peak = strain \n",
    "fraction = 0.50\n",
    "\n",
    "peak_density = FlowCal.gate.density2d(fsc_fl2_filt, channels=['FL2-A', 'FL3-A'], gate_fraction=fraction, full_output=True)[0]\n",
    "peak_contour = FlowCal.gate.density2d(fsc_fl2_filt, channels=['FL2-A', 'FL3-A'], gate_fraction=fraction, full_output=True)[2]\n",
    "\n",
    "FlowCal.plot.density_and_hist(fsc_fl2_filt, gated_data=peak_density, gate_contour=peak_contour, density_channels=['FL2-A', 'FL3-A'], density_params={'mode':'scatter'}, hist_channels=['FL2-A'])\n",
    "plt.tight_layout()\n",
    "plt.show()"
   ]
  },
  {
   "cell_type": "code",
   "execution_count": null,
   "metadata": {
    "scrolled": true
   },
   "outputs": [],
   "source": [
    "fcs_stats()\n",
    "df"
   ]
  },
  {
   "cell_type": "markdown",
   "metadata": {},
   "source": [
    "# Prymnesium parvum K0081"
   ]
  },
  {
   "cell_type": "code",
   "execution_count": null,
   "metadata": {},
   "outputs": [],
   "source": [
    "# input\n",
    "strain = 'K0081'\n",
    "infile = workdir + '/B04 K0081.fcs'\n",
    "\n",
    "# plot raw data\n",
    "all_points = FlowCal.io.FCSData(infile)\n",
    "all_points = FlowCal.transform.to_rfi(all_points)\n",
    "\n",
    "time = all_points.acquisition_start_time\n",
    "FlowCal.plot.density2d(all_points, channels=['FSC-A', 'FL2-A'], mode='scatter')"
   ]
  },
  {
   "cell_type": "code",
   "execution_count": null,
   "metadata": {},
   "outputs": [],
   "source": [
    "fsc_filt = FlowCal.gate.high_low(all_points, channels=['FSC-A'], high=500000)\n",
    "fsc_fl2_filt = FlowCal.gate.high_low(fsc_filt, channels=['FL2-A'], low=10000)\n",
    "FlowCal.plot.density2d(fsc_fl2_filt, channels=['FSC-A', 'FL2-A'], mode='scatter')"
   ]
  },
  {
   "cell_type": "code",
   "execution_count": null,
   "metadata": {},
   "outputs": [],
   "source": [
    "peak = strain \n",
    "fraction = 0.50\n",
    "\n",
    "peak_density = FlowCal.gate.density2d(fsc_fl2_filt, channels=['FL2-A', 'FL3-A'], gate_fraction=fraction, full_output=True)[0]\n",
    "peak_contour = FlowCal.gate.density2d(fsc_fl2_filt, channels=['FL2-A', 'FL3-A'], gate_fraction=fraction, full_output=True)[2]\n",
    "\n",
    "FlowCal.plot.density_and_hist(fsc_fl2_filt, gated_data=peak_density, gate_contour=peak_contour, density_channels=['FL2-A', 'FL3-A'], density_params={'mode':'scatter'}, hist_channels=['FL2-A'])\n",
    "plt.tight_layout()\n",
    "plt.show()"
   ]
  },
  {
   "cell_type": "code",
   "execution_count": null,
   "metadata": {
    "scrolled": true
   },
   "outputs": [],
   "source": [
    "fcs_stats()\n",
    "df"
   ]
  },
  {
   "cell_type": "markdown",
   "metadata": {},
   "source": [
    "# Prymnesium parvum UTEX2797"
   ]
  },
  {
   "cell_type": "code",
   "execution_count": null,
   "metadata": {},
   "outputs": [],
   "source": [
    "# input\n",
    "strain = 'UTEX2797'\n",
    "infile = workdir + '/B05 UTEX2797.fcs'\n",
    "\n",
    "# plot raw data\n",
    "all_points = FlowCal.io.FCSData(infile)\n",
    "all_points = FlowCal.transform.to_rfi(all_points)\n",
    "\n",
    "time = all_points.acquisition_start_time\n",
    "FlowCal.plot.density2d(all_points, channels=['FSC-A', 'FL2-A'], mode='scatter')"
   ]
  },
  {
   "cell_type": "code",
   "execution_count": null,
   "metadata": {},
   "outputs": [],
   "source": [
    "fsc_filt = FlowCal.gate.high_low(all_points, channels=['FSC-A'], high=500000)\n",
    "fsc_fl2_filt = FlowCal.gate.high_low(fsc_filt, channels=['FL2-A'], low=10000)\n",
    "FlowCal.plot.density2d(fsc_fl2_filt, channels=['FSC-A', 'FL2-A'], mode='scatter')"
   ]
  },
  {
   "cell_type": "code",
   "execution_count": null,
   "metadata": {},
   "outputs": [],
   "source": [
    "peak = strain \n",
    "fraction = 0.50\n",
    "\n",
    "peak_density = FlowCal.gate.density2d(fsc_fl2_filt, channels=['FL2-A', 'FL3-A'], gate_fraction=fraction, full_output=True)[0]\n",
    "peak_contour = FlowCal.gate.density2d(fsc_fl2_filt, channels=['FL2-A', 'FL3-A'], gate_fraction=fraction, full_output=True)[2]\n",
    "\n",
    "FlowCal.plot.density_and_hist(fsc_fl2_filt, gated_data=peak_density, gate_contour=peak_contour, density_channels=['FL2-A', 'FL3-A'], density_params={'mode':'scatter'}, hist_channels=['FL2-A'])\n",
    "plt.tight_layout()\n",
    "plt.show()"
   ]
  },
  {
   "cell_type": "code",
   "execution_count": null,
   "metadata": {
    "scrolled": true
   },
   "outputs": [],
   "source": [
    "fcs_stats()\n",
    "df"
   ]
  },
  {
   "cell_type": "markdown",
   "metadata": {},
   "source": [
    "# Prymnesium parvum 12A1"
   ]
  },
  {
   "cell_type": "code",
   "execution_count": null,
   "metadata": {},
   "outputs": [],
   "source": [
    "# input\n",
    "strain = '12A1'\n",
    "infile = workdir + '/B06 12A1.fcs'\n",
    "# plot raw data\n",
    "all_points = FlowCal.io.FCSData(infile)\n",
    "all_points = FlowCal.transform.to_rfi(all_points)\n",
    "\n",
    "time = all_points.acquisition_start_time\n",
    "FlowCal.plot.density2d(all_points, channels=['FSC-A', 'FL2-A'], mode='scatter')"
   ]
  },
  {
   "cell_type": "code",
   "execution_count": null,
   "metadata": {},
   "outputs": [],
   "source": [
    "fsc_filt = FlowCal.gate.high_low(all_points, channels=['FSC-A'], high=500000)\n",
    "fsc_fl2_filt = FlowCal.gate.high_low(fsc_filt, channels=['FL2-A'], low=10000)\n",
    "FlowCal.plot.density2d(fsc_fl2_filt, channels=['FSC-A', 'FL2-A'], mode='scatter')"
   ]
  },
  {
   "cell_type": "code",
   "execution_count": null,
   "metadata": {},
   "outputs": [],
   "source": [
    "peak = strain \n",
    "fraction = 0.50\n",
    "\n",
    "peak_density = FlowCal.gate.density2d(fsc_fl2_filt, channels=['FL2-A', 'FL3-A'], gate_fraction=fraction, full_output=True)[0]\n",
    "peak_contour = FlowCal.gate.density2d(fsc_fl2_filt, channels=['FL2-A', 'FL3-A'], gate_fraction=fraction, full_output=True)[2]\n",
    "\n",
    "FlowCal.plot.density_and_hist(fsc_fl2_filt, gated_data=peak_density, gate_contour=peak_contour, density_channels=['FL2-A', 'FL3-A'], density_params={'mode':'scatter'}, hist_channels=['FL2-A'])\n",
    "plt.tight_layout()\n",
    "plt.show()"
   ]
  },
  {
   "cell_type": "code",
   "execution_count": null,
   "metadata": {
    "scrolled": true
   },
   "outputs": [],
   "source": [
    "fcs_stats()\n",
    "df"
   ]
  },
  {
   "cell_type": "markdown",
   "metadata": {},
   "source": [
    "# Prymnesium parvum CCMP3037"
   ]
  },
  {
   "cell_type": "code",
   "execution_count": null,
   "metadata": {},
   "outputs": [],
   "source": [
    "# input\n",
    "strain = 'CCMP3037'\n",
    "infile = workdir + '/B07 CCMP3037.fcs'\n",
    "\n",
    "# plot raw data\n",
    "all_points = FlowCal.io.FCSData(infile)\n",
    "all_points = FlowCal.transform.to_rfi(all_points)\n",
    "\n",
    "time = all_points.acquisition_start_time\n",
    "FlowCal.plot.density2d(all_points, channels=['FSC-A', 'FL2-A'], mode='scatter')"
   ]
  },
  {
   "cell_type": "code",
   "execution_count": null,
   "metadata": {},
   "outputs": [],
   "source": [
    "fsc_filt = FlowCal.gate.high_low(all_points, channels=['FSC-A'], high=500000)\n",
    "fsc_fl2_filt = FlowCal.gate.high_low(fsc_filt, channels=['FL2-A'], low=10000)\n",
    "FlowCal.plot.density2d(fsc_fl2_filt, channels=['FSC-A', 'FL2-A'], mode='scatter')"
   ]
  },
  {
   "cell_type": "code",
   "execution_count": null,
   "metadata": {},
   "outputs": [],
   "source": [
    "peak = strain \n",
    "fraction = 0.50\n",
    "\n",
    "peak_density = FlowCal.gate.density2d(fsc_fl2_filt, channels=['FL2-A', 'FL3-A'], gate_fraction=fraction, full_output=True)[0]\n",
    "peak_contour = FlowCal.gate.density2d(fsc_fl2_filt, channels=['FL2-A', 'FL3-A'], gate_fraction=fraction, full_output=True)[2]\n",
    "\n",
    "FlowCal.plot.density_and_hist(fsc_fl2_filt, gated_data=peak_density, gate_contour=peak_contour, density_channels=['FL2-A', 'FL3-A'], density_params={'mode':'scatter'}, hist_channels=['FL2-A'])\n",
    "plt.tight_layout()\n",
    "plt.show()"
   ]
  },
  {
   "cell_type": "code",
   "execution_count": null,
   "metadata": {},
   "outputs": [],
   "source": [
    "fcs_stats()\n",
    "df"
   ]
  },
  {
   "cell_type": "markdown",
   "metadata": {},
   "source": [
    "# Prymnesium parvum 12B1"
   ]
  },
  {
   "cell_type": "code",
   "execution_count": null,
   "metadata": {},
   "outputs": [],
   "source": [
    "# input\n",
    "strain = '12B1'\n",
    "infile = workdir + '/B08 12B1.fcs'\n",
    "\n",
    "# plot raw data\n",
    "all_points = FlowCal.io.FCSData(infile)\n",
    "all_points = FlowCal.transform.to_rfi(all_points)\n",
    "\n",
    "time = all_points.acquisition_start_time\n",
    "FlowCal.plot.density2d(all_points, channels=['FSC-A', 'FL2-A'], mode='scatter')"
   ]
  },
  {
   "cell_type": "code",
   "execution_count": null,
   "metadata": {},
   "outputs": [],
   "source": [
    "fsc_filt = FlowCal.gate.high_low(all_points, channels=['FSC-A'], high=500000)\n",
    "fsc_fl2_filt = FlowCal.gate.high_low(fsc_filt, channels=['FL2-A'], low=5000)\n",
    "FlowCal.plot.density2d(fsc_fl2_filt, channels=['FSC-A', 'FL2-A'], mode='scatter')"
   ]
  },
  {
   "cell_type": "code",
   "execution_count": null,
   "metadata": {},
   "outputs": [],
   "source": [
    "peak = strain \n",
    "fraction = 0.50\n",
    "\n",
    "peak_density = FlowCal.gate.density2d(fsc_fl2_filt, channels=['FL2-A', 'FL3-A'], gate_fraction=fraction, full_output=True)[0]\n",
    "peak_contour = FlowCal.gate.density2d(fsc_fl2_filt, channels=['FL2-A', 'FL3-A'], gate_fraction=fraction, full_output=True)[2]\n",
    "\n",
    "FlowCal.plot.density_and_hist(fsc_fl2_filt, gated_data=peak_density, gate_contour=peak_contour, density_channels=['FL2-A', 'FL3-A'], density_params={'mode':'scatter'}, hist_channels=['FL2-A'])\n",
    "plt.tight_layout()\n",
    "plt.show()"
   ]
  },
  {
   "cell_type": "code",
   "execution_count": null,
   "metadata": {},
   "outputs": [],
   "source": [
    "fcs_stats()\n",
    "df"
   ]
  },
  {
   "cell_type": "markdown",
   "metadata": {},
   "source": [
    "### 12B1 2C peak"
   ]
  },
  {
   "cell_type": "code",
   "execution_count": null,
   "metadata": {},
   "outputs": [],
   "source": [
    "fsc_filt = FlowCal.gate.high_low(all_points, channels=['FSC-A'], high=500000)\n",
    "fsc_fl2_filt = FlowCal.gate.high_low(fsc_filt, channels=['FL2-A'], low=13000)\n",
    "FlowCal.plot.density2d(fsc_fl2_filt, channels=['FSC-A', 'FL2-A'], mode='scatter')"
   ]
  },
  {
   "cell_type": "code",
   "execution_count": null,
   "metadata": {},
   "outputs": [],
   "source": [
    "peak = strain + '_2C'\n",
    "fraction = 0.50\n",
    "\n",
    "peak_density = FlowCal.gate.density2d(fsc_fl2_filt, channels=['FL2-A', 'FL3-A'], gate_fraction=fraction, full_output=True)[0]\n",
    "peak_contour = FlowCal.gate.density2d(fsc_fl2_filt, channels=['FL2-A', 'FL3-A'], gate_fraction=fraction, full_output=True)[2]\n",
    "\n",
    "FlowCal.plot.density_and_hist(fsc_fl2_filt, gated_data=peak_density, gate_contour=peak_contour, density_channels=['FL2-A', 'FL3-A'], density_params={'mode':'scatter'}, hist_channels=['FL2-A'])\n",
    "plt.tight_layout()\n",
    "plt.show()"
   ]
  },
  {
   "cell_type": "code",
   "execution_count": null,
   "metadata": {},
   "outputs": [],
   "source": [
    "fcs_stats()\n",
    "df"
   ]
  },
  {
   "cell_type": "markdown",
   "metadata": {},
   "source": [
    "# Prymnesium parvum RCC3703"
   ]
  },
  {
   "cell_type": "code",
   "execution_count": null,
   "metadata": {},
   "outputs": [],
   "source": [
    "# input\n",
    "strain = 'RCC3703'\n",
    "infile = workdir + '/B09 RCC3703.fcs'\n",
    "\n",
    "# plot raw data\n",
    "all_points = FlowCal.io.FCSData(infile)\n",
    "all_points = FlowCal.transform.to_rfi(all_points)\n",
    "\n",
    "time = all_points.acquisition_start_time\n",
    "FlowCal.plot.density2d(all_points, channels=['FSC-A', 'FL2-A'], mode='scatter')"
   ]
  },
  {
   "cell_type": "code",
   "execution_count": null,
   "metadata": {},
   "outputs": [],
   "source": [
    "fsc_filt = FlowCal.gate.high_low(all_points, channels=['FSC-A'], high=500000)\n",
    "fsc_fl2_filt = FlowCal.gate.high_low(fsc_filt, channels=['FL2-A'], low=5000)\n",
    "FlowCal.plot.density2d(fsc_fl2_filt, channels=['FSC-A', 'FL2-A'], mode='scatter')"
   ]
  },
  {
   "cell_type": "code",
   "execution_count": null,
   "metadata": {},
   "outputs": [],
   "source": [
    "peak = strain \n",
    "fraction = 0.50\n",
    "\n",
    "peak_density = FlowCal.gate.density2d(fsc_fl2_filt, channels=['FL2-A', 'FL3-A'], gate_fraction=fraction, full_output=True)[0]\n",
    "peak_contour = FlowCal.gate.density2d(fsc_fl2_filt, channels=['FL2-A', 'FL3-A'], gate_fraction=fraction, full_output=True)[2]\n",
    "\n",
    "FlowCal.plot.density_and_hist(fsc_fl2_filt, gated_data=peak_density, gate_contour=peak_contour, density_channels=['FL2-A', 'FL3-A'], density_params={'mode':'scatter'}, hist_channels=['FL2-A'])\n",
    "plt.tight_layout()\n",
    "plt.show()"
   ]
  },
  {
   "cell_type": "code",
   "execution_count": null,
   "metadata": {
    "scrolled": true
   },
   "outputs": [],
   "source": [
    "fcs_stats()\n",
    "df"
   ]
  },
  {
   "cell_type": "markdown",
   "metadata": {},
   "source": [
    "# Prymnesium parvum RCC1433"
   ]
  },
  {
   "cell_type": "code",
   "execution_count": null,
   "metadata": {},
   "outputs": [],
   "source": [
    "# input\n",
    "strain = 'RCC1433'\n",
    "infile = workdir + '/B10 RCC1433.fcs'\n",
    "\n",
    "# plot raw data\n",
    "all_points = FlowCal.io.FCSData(infile)\n",
    "all_points = FlowCal.transform.to_rfi(all_points)\n",
    "\n",
    "time = all_points.acquisition_start_time\n",
    "FlowCal.plot.density2d(all_points, channels=['FSC-A', 'FL2-A'], mode='scatter')"
   ]
  },
  {
   "cell_type": "code",
   "execution_count": null,
   "metadata": {},
   "outputs": [],
   "source": [
    "fsc_filt = FlowCal.gate.high_low(all_points, channels=['FSC-A'], high=500000)\n",
    "fsc_fl2_filt = FlowCal.gate.high_low(fsc_filt, channels=['FL2-A'], low=5000)\n",
    "FlowCal.plot.density2d(fsc_fl2_filt, channels=['FSC-A', 'FL2-A'], mode='scatter')"
   ]
  },
  {
   "cell_type": "code",
   "execution_count": null,
   "metadata": {},
   "outputs": [],
   "source": [
    "peak = strain \n",
    "fraction = 0.50\n",
    "\n",
    "peak_density = FlowCal.gate.density2d(fsc_fl2_filt, channels=['FL2-A', 'FL3-A'], gate_fraction=fraction, full_output=True)[0]\n",
    "peak_contour = FlowCal.gate.density2d(fsc_fl2_filt, channels=['FL2-A', 'FL3-A'], gate_fraction=fraction, full_output=True)[2]\n",
    "\n",
    "FlowCal.plot.density_and_hist(fsc_fl2_filt, gated_data=peak_density, gate_contour=peak_contour, density_channels=['FL2-A', 'FL3-A'], density_params={'mode':'scatter'}, hist_channels=['FL2-A'])\n",
    "plt.tight_layout()\n",
    "plt.show()"
   ]
  },
  {
   "cell_type": "code",
   "execution_count": null,
   "metadata": {},
   "outputs": [],
   "source": [
    "fcs_stats()\n",
    "df"
   ]
  },
  {
   "cell_type": "markdown",
   "metadata": {},
   "source": [
    "# Prymnesium parvum RCC191"
   ]
  },
  {
   "cell_type": "code",
   "execution_count": null,
   "metadata": {},
   "outputs": [],
   "source": [
    "# input\n",
    "strain = 'RCC191'\n",
    "infile = workdir + '/B11 RCC191.fcs'\n",
    "\n",
    "# plot raw data\n",
    "all_points = FlowCal.io.FCSData(infile)\n",
    "all_points = FlowCal.transform.to_rfi(all_points)\n",
    "\n",
    "time = all_points.acquisition_start_time\n",
    "FlowCal.plot.density2d(all_points, channels=['FSC-A', 'FL2-A'], mode='scatter')"
   ]
  },
  {
   "cell_type": "code",
   "execution_count": null,
   "metadata": {},
   "outputs": [],
   "source": [
    "fsc_filt = FlowCal.gate.high_low(all_points, channels=['FSC-A'], high=500000)\n",
    "fsc_fl2_filt = FlowCal.gate.high_low(fsc_filt, channels=['FL2-A'], low=5000)\n",
    "FlowCal.plot.density2d(fsc_fl2_filt, channels=['FSC-A', 'FL2-A'], mode='scatter')"
   ]
  },
  {
   "cell_type": "code",
   "execution_count": null,
   "metadata": {},
   "outputs": [],
   "source": [
    "peak = strain \n",
    "fraction = 0.50\n",
    "\n",
    "peak_density = FlowCal.gate.density2d(fsc_fl2_filt, channels=['FL2-A', 'FL3-A'], gate_fraction=fraction, full_output=True)[0]\n",
    "peak_contour = FlowCal.gate.density2d(fsc_fl2_filt, channels=['FL2-A', 'FL3-A'], gate_fraction=fraction, full_output=True)[2]\n",
    "\n",
    "FlowCal.plot.density_and_hist(fsc_fl2_filt, gated_data=peak_density, gate_contour=peak_contour, density_channels=['FL2-A', 'FL3-A'], density_params={'mode':'scatter'}, hist_channels=['FL2-A'])\n",
    "plt.tight_layout()\n",
    "plt.show()"
   ]
  },
  {
   "cell_type": "code",
   "execution_count": null,
   "metadata": {},
   "outputs": [],
   "source": [
    "fcs_stats()\n",
    "df"
   ]
  },
  {
   "cell_type": "markdown",
   "metadata": {},
   "source": [
    "# Prymnesium parvum RCC3426"
   ]
  },
  {
   "cell_type": "code",
   "execution_count": null,
   "metadata": {},
   "outputs": [],
   "source": [
    "# input\n",
    "strain = 'RCC3426'\n",
    "infile = workdir + '/B12 RCC3426.fcs'\n",
    "\n",
    "# plot raw data\n",
    "all_points = FlowCal.io.FCSData(infile)\n",
    "all_points = FlowCal.transform.to_rfi(all_points)\n",
    "\n",
    "time = all_points.acquisition_start_time\n",
    "FlowCal.plot.density2d(all_points, channels=['FSC-A', 'FL2-A'], mode='scatter')"
   ]
  },
  {
   "cell_type": "code",
   "execution_count": null,
   "metadata": {
    "scrolled": true
   },
   "outputs": [],
   "source": [
    "fsc_filt = FlowCal.gate.high_low(all_points, channels=['FSC-A'], high=500000)\n",
    "fsc_fl2_filt = FlowCal.gate.high_low(fsc_filt, channels=['FL2-A'], low=10000)\n",
    "FlowCal.plot.density2d(fsc_fl2_filt, channels=['FSC-A', 'FL2-A'], mode='scatter')"
   ]
  },
  {
   "cell_type": "code",
   "execution_count": null,
   "metadata": {},
   "outputs": [],
   "source": [
    "peak = strain \n",
    "fraction = 0.50\n",
    "\n",
    "peak_density = FlowCal.gate.density2d(fsc_fl2_filt, channels=['FL2-A', 'FL3-A'], gate_fraction=fraction, full_output=True)[0]\n",
    "peak_contour = FlowCal.gate.density2d(fsc_fl2_filt, channels=['FL2-A', 'FL3-A'], gate_fraction=fraction, full_output=True)[2]\n",
    "\n",
    "FlowCal.plot.density_and_hist(fsc_fl2_filt, gated_data=peak_density, gate_contour=peak_contour, density_channels=['FL2-A', 'FL3-A'], density_params={'mode':'scatter'}, hist_channels=['FL2-A'])\n",
    "plt.tight_layout()\n",
    "plt.show()"
   ]
  },
  {
   "cell_type": "code",
   "execution_count": null,
   "metadata": {},
   "outputs": [],
   "source": [
    "fcs_stats()\n",
    "df"
   ]
  },
  {
   "cell_type": "markdown",
   "metadata": {},
   "source": [
    "# Prymnesium parvum UTEX995"
   ]
  },
  {
   "cell_type": "code",
   "execution_count": null,
   "metadata": {},
   "outputs": [],
   "source": [
    "# input\n",
    "strain = 'UTEX995'\n",
    "infile = workdir + '/C01 UTEX995.fcs'\n",
    "\n",
    "# plot raw data\n",
    "all_points = FlowCal.io.FCSData(infile)\n",
    "all_points = FlowCal.transform.to_rfi(all_points)\n",
    "\n",
    "time = all_points.acquisition_start_time\n",
    "FlowCal.plot.density2d(all_points, channels=['FSC-A', 'FL2-A'], mode='scatter')"
   ]
  },
  {
   "cell_type": "code",
   "execution_count": null,
   "metadata": {},
   "outputs": [],
   "source": [
    "fsc_filt = FlowCal.gate.high_low(all_points, channels=['FSC-A'], high=500000)\n",
    "fsc_fl2_filt = FlowCal.gate.high_low(fsc_filt, channels=['FL2-A'], low=10000)\n",
    "FlowCal.plot.density2d(fsc_fl2_filt, channels=['FSC-A', 'FL2-A'], mode='scatter')"
   ]
  },
  {
   "cell_type": "code",
   "execution_count": null,
   "metadata": {},
   "outputs": [],
   "source": [
    "peak = strain \n",
    "fraction = 0.50\n",
    "\n",
    "peak_density = FlowCal.gate.density2d(fsc_fl2_filt, channels=['FL2-A', 'FL3-A'], gate_fraction=fraction, full_output=True)[0]\n",
    "peak_contour = FlowCal.gate.density2d(fsc_fl2_filt, channels=['FL2-A', 'FL3-A'], gate_fraction=fraction, full_output=True)[2]\n",
    "\n",
    "FlowCal.plot.density_and_hist(fsc_fl2_filt, gated_data=peak_density, gate_contour=peak_contour, density_channels=['FL2-A', 'FL3-A'], density_params={'mode':'scatter'}, hist_channels=['FL2-A'])\n",
    "plt.tight_layout()\n",
    "plt.show()"
   ]
  },
  {
   "cell_type": "code",
   "execution_count": null,
   "metadata": {
    "scrolled": true
   },
   "outputs": [],
   "source": [
    "fcs_stats()\n",
    "df"
   ]
  },
  {
   "cell_type": "markdown",
   "metadata": {},
   "source": [
    "# Prymnesium parvum K0252"
   ]
  },
  {
   "cell_type": "code",
   "execution_count": null,
   "metadata": {},
   "outputs": [],
   "source": [
    "# input\n",
    "strain = 'K0252'\n",
    "infile = workdir + '/C02 K0252.fcs'\n",
    "\n",
    "# plot raw data\n",
    "all_points = FlowCal.io.FCSData(infile)\n",
    "all_points = FlowCal.transform.to_rfi(all_points)\n",
    "\n",
    "time = all_points.acquisition_start_time\n",
    "FlowCal.plot.density2d(all_points, channels=['FSC-A', 'FL2-A'], mode='scatter')"
   ]
  },
  {
   "cell_type": "code",
   "execution_count": null,
   "metadata": {},
   "outputs": [],
   "source": [
    "fsc_filt = FlowCal.gate.high_low(all_points, channels=['FSC-A'], high=500000)\n",
    "fsc_fl2_filt = FlowCal.gate.high_low(fsc_filt, channels=['FL2-A'], low=10000)\n",
    "FlowCal.plot.density2d(fsc_fl2_filt, channels=['FSC-A', 'FL2-A'], mode='scatter')"
   ]
  },
  {
   "cell_type": "code",
   "execution_count": null,
   "metadata": {},
   "outputs": [],
   "source": [
    "peak = strain \n",
    "fraction = 0.50\n",
    "\n",
    "peak_density = FlowCal.gate.density2d(fsc_fl2_filt, channels=['FL2-A', 'FL3-A'], gate_fraction=fraction, full_output=True)[0]\n",
    "peak_contour = FlowCal.gate.density2d(fsc_fl2_filt, channels=['FL2-A', 'FL3-A'], gate_fraction=fraction, full_output=True)[2]\n",
    "\n",
    "FlowCal.plot.density_and_hist(fsc_fl2_filt, gated_data=peak_density, gate_contour=peak_contour, density_channels=['FL2-A', 'FL3-A'], density_params={'mode':'scatter'}, hist_channels=['FL2-A'])\n",
    "plt.tight_layout()\n",
    "plt.show()"
   ]
  },
  {
   "cell_type": "code",
   "execution_count": null,
   "metadata": {},
   "outputs": [],
   "source": [
    "fcs_stats()\n",
    "df"
   ]
  },
  {
   "cell_type": "markdown",
   "metadata": {},
   "source": [
    "# Prymnesium parvum CCMP2941"
   ]
  },
  {
   "cell_type": "code",
   "execution_count": null,
   "metadata": {},
   "outputs": [],
   "source": [
    "# input\n",
    "strain = 'CCMP2941'\n",
    "infile = workdir + '/C03 CCMP2941.fcs'\n",
    "\n",
    "# plot raw data\n",
    "all_points = FlowCal.io.FCSData(infile)\n",
    "all_points = FlowCal.transform.to_rfi(all_points)\n",
    "\n",
    "time = all_points.acquisition_start_time\n",
    "FlowCal.plot.density2d(all_points, channels=['FSC-A', 'FL2-A'], mode='scatter')"
   ]
  },
  {
   "cell_type": "code",
   "execution_count": null,
   "metadata": {},
   "outputs": [],
   "source": [
    "fsc_filt = FlowCal.gate.high_low(all_points, channels=['FSC-A'], high=500000)\n",
    "fsc_fl2_filt = FlowCal.gate.high_low(fsc_filt, channels=['FL2-A'], low=10000)\n",
    "FlowCal.plot.density2d(fsc_fl2_filt, channels=['FSC-A', 'FL2-A'], mode='scatter')"
   ]
  },
  {
   "cell_type": "code",
   "execution_count": null,
   "metadata": {},
   "outputs": [],
   "source": [
    "peak = strain \n",
    "fraction = 0.50\n",
    "\n",
    "peak_density = FlowCal.gate.density2d(fsc_fl2_filt, channels=['FL2-A', 'FL3-A'], gate_fraction=fraction, full_output=True)[0]\n",
    "peak_contour = FlowCal.gate.density2d(fsc_fl2_filt, channels=['FL2-A', 'FL3-A'], gate_fraction=fraction, full_output=True)[2]\n",
    "\n",
    "FlowCal.plot.density_and_hist(fsc_fl2_filt, gated_data=peak_density, gate_contour=peak_contour, density_channels=['FL2-A', 'FL3-A'], density_params={'mode':'scatter'}, hist_channels=['FL2-A'])\n",
    "plt.tight_layout()\n",
    "plt.show()"
   ]
  },
  {
   "cell_type": "code",
   "execution_count": null,
   "metadata": {},
   "outputs": [],
   "source": [
    "fcs_stats()\n",
    "df"
   ]
  },
  {
   "cell_type": "markdown",
   "metadata": {},
   "source": [
    "# Calculate Slope & DNA Content"
   ]
  },
  {
   "cell_type": "code",
   "execution_count": null,
   "metadata": {},
   "outputs": [],
   "source": [
    "# skipping At2C because peak is not clear\n",
    "standard_RFI_values=list(df['median'])[1:6]\n",
    "standard_pg_values = [0.64, 1.28, 2.56, 0.18, 0.08]"
   ]
  },
  {
   "cell_type": "code",
   "execution_count": null,
   "metadata": {},
   "outputs": [],
   "source": [
    "# Plot corresponds to Figure 2B in OrthoFinder paper\n",
    "p = sns.regplot(x=standard_RFI_values, y=standard_pg_values, truncate=False)"
   ]
  },
  {
   "cell_type": "code",
   "execution_count": null,
   "metadata": {},
   "outputs": [],
   "source": [
    "x = np.asarray(standard_RFI_values).reshape(-1, 1)\n",
    "y = np.asarray(standard_pg_values).reshape(-1, 1)\n",
    "\n",
    "# linear regression\n",
    "reg = LinearRegression().fit(x, y)\n",
    "\n",
    "# save a (slope)\n",
    "a = reg.coef_[0][0]\n",
    "\n",
    "# save b (y intercept)\n",
    "b = reg.intercept_[0]\n",
    "\n",
    "print(\"Slope of line of best fit: \", a)\n",
    "print(\"Intercept of line of best fit: \", b)"
   ]
  },
  {
   "cell_type": "code",
   "execution_count": null,
   "metadata": {},
   "outputs": [],
   "source": [
    "df['pg dna'] = (df['median'] * a) + b\n",
    "df['mbp dna'] = (df['pg dna'] * (0.98*(10**9)))/(1*(10**6))"
   ]
  },
  {
   "cell_type": "code",
   "execution_count": null,
   "metadata": {},
   "outputs": [],
   "source": [
    "df"
   ]
  },
  {
   "cell_type": "markdown",
   "metadata": {},
   "source": [
    "# Export final dataframe"
   ]
  },
  {
   "cell_type": "code",
   "execution_count": null,
   "metadata": {},
   "outputs": [],
   "source": [
    "df.to_csv(outfile, sep='\\t')"
   ]
  },
  {
   "cell_type": "code",
   "execution_count": null,
   "metadata": {},
   "outputs": [],
   "source": []
  }
 ],
 "metadata": {
  "kernelspec": {
   "display_name": "Python (My flowcal2 Kernel)",
   "language": "python",
   "name": "flowcal2"
  },
  "language_info": {
   "codemirror_mode": {
    "name": "ipython",
    "version": 3
   },
   "file_extension": ".py",
   "mimetype": "text/x-python",
   "name": "python",
   "nbconvert_exporter": "python",
   "pygments_lexer": "ipython3",
   "version": "3.7.6"
  }
 },
 "nbformat": 4,
 "nbformat_minor": 4
}
