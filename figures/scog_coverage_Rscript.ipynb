{
 "cells": [
  {
   "cell_type": "code",
   "execution_count": null,
   "id": "1286b241",
   "metadata": {},
   "outputs": [],
   "source": [
    "library(ggplot2)"
   ]
  },
  {
   "cell_type": "code",
   "execution_count": null,
   "id": "8bad47ab",
   "metadata": {},
   "outputs": [],
   "source": [
    "df = read.table(\"cellsize_genomesize.Rin\", sep = '\\t', header = TRUE)\n",
    "df$ploidy <- factor(df$ploidy, levels=c('haploid','unknown low het', 'diploid', 'diploid high het','polyploid'))\n",
    "#df$type <- factor(df$type, levels=c('A','B','C','Unknown'))\n",
    "typedf = df[,c(\"strain\",\"type\",\"mbp\")]\n",
    "head(df)"
   ]
  },
  {
   "cell_type": "code",
   "execution_count": null,
   "id": "864c8f23",
   "metadata": {},
   "outputs": [],
   "source": [
    "bigdf = read.table(\"scog_coverage.Rin\", sep = '\\t', header = TRUE)\n",
    "bigdf$strain <- factor(bigdf$strain, levels=rev(c('12B1','CCMP3037','UTEX2797','12A1','RCC3703','CCMP2941','KAC39','RCC3426','K0374','K0081','K0252','RCC1436','UTEX995','RCC1433','RCC191')))       \n",
    "\n",
    "#bigdf$strain <- factor(bigdf$strain, levels=c('UTEX2797','CCMP3037','12A1','CCMP2941','RCC3703','K0081','K0374','RCC3426','KAC39','K0252','RCC191','RCC1433','UTEX995','RCC1436'))\n",
    "\n",
    "# df$ploidy <- factor(df$ploidy, levels=c('haploid','diploid low het','diploid high het','polyploid'))\n",
    "# df$type <- factor(df$type, levels=c('A','B','C'))\n",
    "\n",
    "head(bigdf)"
   ]
  },
  {
   "cell_type": "code",
   "execution_count": null,
   "id": "2a8f7237",
   "metadata": {},
   "outputs": [],
   "source": [
    "bigdf = merge(bigdf, typedf, by = \"strain\", sort = F, all.x = T)\n",
    "head(bigdf)"
   ]
  },
  {
   "cell_type": "code",
   "execution_count": null,
   "id": "a6695698",
   "metadata": {},
   "outputs": [],
   "source": [
    "tail(bigdf)"
   ]
  },
  {
   "cell_type": "code",
   "execution_count": null,
   "id": "b3a84433",
   "metadata": {},
   "outputs": [],
   "source": [
    "gg = ggplot(data=bigdf, aes(x=strain, y=cov, color=type))\n",
    "gg = gg + geom_boxplot(outlier.alpha = 0.1, outlier.size = 0.5) + coord_flip()\n",
    "#gg = gg + geom_violin()\n",
    "#gg = gg + stat_summary(fun.y=median, geom=\"point\", size=2, color=\"red\")\n",
    "#gg = gg + geom_jitter(width = 0.25, alpha=0.5)\n",
    "gg = gg + scale_y_continuous(limits = quantile(bigdf$cov, c(0, 0.995)))\n",
    "gg = gg + theme_classic()\n",
    "#gg = gg + labs(x=NULL, y='Cell volume (um^3)', color=\"Prymnesin type\") \n",
    "#gg = gg + theme(axis.text.x = element_text(angle = 90, vjust = 0.5, hjust=1))\n",
    "gg = gg + theme(text = element_text(size=6))\n",
    "gg = gg + scale_color_manual(values=c(\"#d95f02\", \"#7570b3\", \"#1b9e77\", \"#000000\"))\n",
    "gg = gg + theme(legend.position=\"none\")\n",
    "# gg = gg + scale_y_continuous(breaks=seq(0,900,100))\n",
    "# gg = gg + geom_text(label=df$strain, size=4, color='#000000')\n",
    "# gg = gg + scale_shape_manual(values=c(19, 15, 17, 8))\n",
    "# gg = gg + xlim(60, 140)\n",
    "\n",
    "gg"
   ]
  },
  {
   "cell_type": "code",
   "execution_count": null,
   "id": "24aded08",
   "metadata": {},
   "outputs": [],
   "source": [
    "#ggsave('scog_coverage_distribution.pdf', device = \"pdf\", width = 10, height = 4, units = \"in\")\n",
    "ggsave('scog_coverage_distribution.pdf', device = \"pdf\", width = 1.8, height = 2, units = \"in\")"
   ]
  },
  {
   "cell_type": "code",
   "execution_count": null,
   "id": "f7cd0eef",
   "metadata": {},
   "outputs": [],
   "source": [
    "gg = ggplot(data=bigdf, aes(x=strain, y=cov, fill=type, color=type))\n",
    "#gg = gg + geom_boxplot()\n",
    "gg = gg + geom_violin() + coord_flip()\n",
    "#gg = gg + stat_summary(fun.y=median, geom=\"point\", size=2, color=\"red\")\n",
    "#gg = gg + geom_jitter(width = 0.25, alpha=0.5)\n",
    "#gg = gg + scale_y_continuous(limits = c(0,300))\n",
    "gg = gg + theme_classic()\n",
    "#gg = gg + labs(x=NULL, y='Cell volume (um^3)', color=\"Prymnesin type\") \n",
    "gg = gg + theme(axis.text.x = element_text(angle = 90, vjust = 0.5, hjust=1))\n",
    "gg = gg + theme(text = element_text(size=20))\n",
    "gg = gg + scale_fill_manual(values=c(\"#d95f02\", \"#7570b3\", \"#1b9e77\", \"#000000\"))\n",
    "gg = gg + scale_color_manual(values=c(\"#d95f02\", \"#7570b3\", \"#1b9e77\", \"#000000\"))\n",
    "gg = gg + theme(legend.position=\"none\")\n",
    "\n",
    "# gg = gg + scale_y_continuous(breaks=seq(0,900,100))\n",
    "# gg = gg + geom_text(label=df$strain, size=4, color='#000000')\n",
    "# gg = gg + scale_shape_manual(values=c(19, 15, 17, 8))\n",
    "# gg = gg + xlim(60, 140)\n",
    "\n",
    "gg"
   ]
  },
  {
   "cell_type": "code",
   "execution_count": null,
   "id": "40fc7a03",
   "metadata": {},
   "outputs": [],
   "source": [
    "ggsave('scog_coverage_distribution.pdf', device = \"pdf\", width = 10, height = 4, units = \"in\")"
   ]
  },
  {
   "cell_type": "code",
   "execution_count": null,
   "id": "35d6d802",
   "metadata": {},
   "outputs": [],
   "source": []
  }
 ],
 "metadata": {
  "kernelspec": {
   "display_name": "R 4.1.2",
   "language": "R",
   "name": "ir-4.1.2"
  },
  "language_info": {
   "codemirror_mode": "r",
   "file_extension": ".r",
   "mimetype": "text/x-r-source",
   "name": "R",
   "pygments_lexer": "r",
   "version": "4.1.2"
  }
 },
 "nbformat": 4,
 "nbformat_minor": 5
}
