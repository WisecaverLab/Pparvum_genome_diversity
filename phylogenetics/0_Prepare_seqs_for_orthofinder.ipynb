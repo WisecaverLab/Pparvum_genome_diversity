{
 "cells": [
  {
   "cell_type": "markdown",
   "id": "9da04470",
   "metadata": {},
   "source": [
    "# Prepare fasta sequences for orthofinder analysis\n",
    "To maximize and simplify the usage of OrthoFinder results, sequences must be in the following format:\n",
    "\n",
    "1. Consists of coding sequence only. If the sequence comes from predicted transcripts, ensure that there is no UTR sequence. The beginning and end of the sequence should correspond to the beginning and end of the protein. \n",
    "2. Number of sequences == number of predicted coding genes. Select the single 'best' (in practice, usually the longest) coding sequence per gene. \n",
    "3. Each sequence should be appended with the genome id using a '_' e.g., >g000234.t1_UTEX2797\n",
    "4. Sequence headers should be simple. Remove any sequence descriptors and/or nonstandard characters. Word characters, digits, '.', '-', and '_' are okay, everything else should be removed.\n",
    "5. Resulting FASTA files should be named simply with the genome id, e.g., UTEX2797.fa\n",
    "\n",
    "*Starting FASTA files can be formated in myriad different ways, so it is impossible to standardize this step. Use this notebook is to document how the sequences were preprocessed prior to running through the OrthoFinder pipeline. Save the resulting FASTA files to the **`fasta`** subdirectory.*"
   ]
  },
  {
   "cell_type": "code",
   "execution_count": null,
   "id": "c091032d",
   "metadata": {},
   "outputs": [],
   "source": [
    "import glob\n",
    "from Bio import SeqIO"
   ]
  },
  {
   "cell_type": "code",
   "execution_count": null,
   "id": "ce3ea789",
   "metadata": {},
   "outputs": [],
   "source": [
    "infiles = '../../../figshare/annotation/genes_*_assembly/*codingseq.fa'\n",
    "outdir = 'fasta/'"
   ]
  },
  {
   "cell_type": "code",
   "execution_count": null,
   "id": "0cffe672",
   "metadata": {},
   "outputs": [],
   "source": [
    "for infile in glob.glob(infiles):\n",
    "    \n",
    "    strain = infile.split('/')[-1].split('_')[0]\n",
    "    #print(strain)\n",
    "    \n",
    "    seqDict = {}\n",
    "    for record in SeqIO.parse(infile, \"fasta\"):\n",
    "        gene = record.id.split(\".\")[0]\n",
    "        \n",
    "        if gene not in seqDict:\n",
    "            seqDict[gene] = [str(record.seq), record.id]\n",
    "            continue\n",
    "        \n",
    "        if len(seqDict[gene][0]) < len(record.seq):\n",
    "            seqDict[gene] = [str(record.seq), record.id]\n",
    "            \n",
    "    outfile = outdir + strain + '.fa'\n",
    "    with open(outfile, 'w') as fo:\n",
    "        for gene in seqDict:\n",
    "            \n",
    "            if strain == '12B1' or strain == 'UTEX2797':\n",
    "                geneid = 'g' + seqDict[gene][1].split('g')[1]\n",
    "                fo.write('>' + geneid + '_' + strain + '\\n')\n",
    "                fo.write(seqDict[gene][0] + '\\n')        \n",
    "            \n",
    "            else:\n",
    "                fo.write('>' + seqDict[gene][1] + '_' + strain + '\\n')\n",
    "                fo.write(seqDict[gene][0] + '\\n')        \n",
    "\n",
    "        "
   ]
  },
  {
   "cell_type": "code",
   "execution_count": null,
   "id": "d02e99a4",
   "metadata": {},
   "outputs": [],
   "source": [
    "infiles = '../../../figshare/annotation/genes_*_assembly/*proteins.fa'\n",
    "outdir = 'fasta'"
   ]
  },
  {
   "cell_type": "code",
   "execution_count": null,
   "id": "63168325",
   "metadata": {},
   "outputs": [],
   "source": [
    "for infile in glob.glob(infiles):\n",
    "    \n",
    "    #print(infile)\n",
    "    strain = infile.split('/')[-1].split('_')[0]\n",
    "    #print(strain)\n",
    "    \n",
    "    outfile = outdir + strain + '.fa'\n",
    "    fo = open(outfile, 'w')\n",
    "    \n",
    "    for record in SeqIO.parse(infile, \"fasta\"):\n",
    "        header = record.id\n",
    "        sequence = str(record.seq)\n",
    "        sequence = sequence.replace('*', '')\n",
    "          \n",
    "        if strain == '12B1' or strain == 'UTEX2797':\n",
    "            header = 'g' + header.split('g')[1]\n",
    "        \n",
    "        newheader = header + '_' + strain\n",
    "        fo.write('>' + newheader + '\\n' + sequence + '\\n')\n",
    "                \n",
    "    fo.close()"
   ]
  },
  {
   "cell_type": "code",
   "execution_count": null,
   "id": "1c43be0f",
   "metadata": {},
   "outputs": [],
   "source": []
  }
 ],
 "metadata": {
  "kernelspec": {
   "display_name": "Python (My env.genomics Kernel)",
   "language": "python",
   "name": "env.genomics"
  },
  "language_info": {
   "codemirror_mode": {
    "name": "ipython",
    "version": 3
   },
   "file_extension": ".py",
   "mimetype": "text/x-python",
   "name": "python",
   "nbconvert_exporter": "python",
   "pygments_lexer": "ipython3",
   "version": "3.6.10"
  }
 },
 "nbformat": 4,
 "nbformat_minor": 5
}
