{
 "cells": [
  {
   "cell_type": "code",
   "execution_count": null,
   "id": "b4de14ed",
   "metadata": {},
   "outputs": [],
   "source": [
    "import pandas as pd\n",
    "import glob"
   ]
  },
  {
   "cell_type": "code",
   "execution_count": null,
   "id": "4e84c2d1",
   "metadata": {},
   "outputs": [],
   "source": [
    "infiles = '../../../figshare/flow_cytometry/rep*/*tsv'\n",
    "outfile = '../figures/dna_content.Rin'"
   ]
  },
  {
   "cell_type": "code",
   "execution_count": null,
   "id": "e0013400",
   "metadata": {},
   "outputs": [],
   "source": [
    "fo = open(outfile, 'w')\n",
    "fo.write('peak\\tmedian\\tpg\\tmbp\\n')\n",
    "\n",
    "flowDict = {}\n",
    "\n",
    "for file in glob.glob(infiles):\n",
    "    #print(file)\n",
    "    \n",
    "    fi = open(file)\n",
    "    \n",
    "    for line in fi:\n",
    "        if line[0] == '\\t':\n",
    "            continue\n",
    "        #print(line)\n",
    "        col = line.rstrip().split('\\t')\n",
    "        peak = col[3]\n",
    "        \n",
    "        if peak not in flowDict:\n",
    "            flowDict[peak] = {}\n",
    "            flowDict[peak]['median'] = []\n",
    "            flowDict[peak]['pg'] = []\n",
    "            flowDict[peak]['mbp'] = []\n",
    "\n",
    "        median = float(col[11])\n",
    "        pg = float(col[15])\n",
    "        mbp = float(col[16])\n",
    "        \n",
    "        if '_' not in peak:\n",
    "            print(peak, median, pg, mbp)\n",
    "            fo.write(f\"{peak}\\t{median}\\t{pg}\\t{mbp}\\n\")\n",
    "        \n",
    "        flowDict[peak]['median'].append(median)\n",
    "        flowDict[peak]['pg'].append(pg)\n",
    "        flowDict[peak]['mbp'].append(mbp)\n",
    "    \n",
    "    \n",
    "    fi.close()\n",
    "fo.close()"
   ]
  },
  {
   "cell_type": "code",
   "execution_count": null,
   "id": "efb67db4",
   "metadata": {
    "scrolled": true
   },
   "outputs": [],
   "source": [
    "for peak in flowDict:\n",
    "    #print(peak, flowDict[peak]['mbp'])\n",
    "    med = pd.Series(flowDict[peak]['median'])\n",
    "    pg = pd.Series(flowDict[peak]['pg'])\n",
    "    mbp = pd.Series(flowDict[peak]['mbp'])\n",
    "    print(peak, med.count(), med.mean(), med.std(), pg.mean(), pg.std(), mbp.mean(), mbp.std())"
   ]
  },
  {
   "cell_type": "code",
   "execution_count": null,
   "id": "b65f51cf",
   "metadata": {},
   "outputs": [],
   "source": []
  }
 ],
 "metadata": {
  "kernelspec": {
   "display_name": "Python (My env.genomics Kernel)",
   "language": "python",
   "name": "env.genomics"
  },
  "language_info": {
   "codemirror_mode": {
    "name": "ipython",
    "version": 3
   },
   "file_extension": ".py",
   "mimetype": "text/x-python",
   "name": "python",
   "nbconvert_exporter": "python",
   "pygments_lexer": "ipython3",
   "version": "3.6.10"
  }
 },
 "nbformat": 4,
 "nbformat_minor": 5
}
