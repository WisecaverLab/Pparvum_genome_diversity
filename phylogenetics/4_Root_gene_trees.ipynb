{
 "cells": [
  {
   "cell_type": "code",
   "execution_count": null,
   "id": "fdf4e89c",
   "metadata": {},
   "outputs": [],
   "source": [
    "import glob\n",
    "import numpy as np\n",
    "import os.path"
   ]
  },
  {
   "cell_type": "code",
   "execution_count": null,
   "id": "cf109bc6",
   "metadata": {},
   "outputs": [],
   "source": [
    "ogdir = '../../../figshare/orthofinder/'\n",
    "ogfile = ogdir + 'Orthogroups/Orthogroups.GeneCount.tsv'\n",
    "ogtreedir = ogdir + 'Gene_Trees_IQTREE/'\n",
    "speciestree = ogdir + 'Species_Tree/Supermatrix_iqtree_dna_rootstrap.treefile.tre'\n",
    "outfile = '4_run_root_gene_trees.sub'\n",
    "treeoutfile = ogdir + 'Species_Tree/scogs_notungrooted.trees'"
   ]
  },
  {
   "cell_type": "code",
   "execution_count": null,
   "id": "74434392",
   "metadata": {},
   "outputs": [],
   "source": [
    "scogs = set()\n",
    "\n",
    "fi = open(ogfile)\n",
    "\n",
    "for line in fi:\n",
    "    genecounts =  line.rstrip().split('\\t')\n",
    "    og = genecounts.pop(0)\n",
    "    total = genecounts.pop(-1)\n",
    "    #print(og,total)\n",
    "    \n",
    "    if og == 'Orthogroup':\n",
    "        continue\n",
    "\n",
    "    genecounts = list(map(int, genecounts))\n",
    "    if sum(np.array(genecounts)>1) == 0:\n",
    "        if genecounts.count(0) == 0:\n",
    "            intree = ogtreedir + og + '.mpr.tree'\n",
    "            if os.path.exists(intree) == False:\n",
    "                continue \n",
    "            scogs.add(og)\n",
    "    \n",
    "fi.close()"
   ]
  },
  {
   "cell_type": "code",
   "execution_count": null,
   "id": "048419d7",
   "metadata": {},
   "outputs": [],
   "source": [
    "print(\"Number of orthogroups for species tree:\", len(scogs))"
   ]
  },
  {
   "cell_type": "code",
   "execution_count": null,
   "id": "d28da43d",
   "metadata": {},
   "outputs": [],
   "source": [
    "fo = open(outfile, 'w')\n",
    "for treefile in glob.glob(ogtreedir + '*.mpr.tree'):\n",
    "    og = treefile.split('/')[-1].split('.')[0]\n",
    "    #print(og)\n",
    "    fo.write('java -jar Notung-2.9.1.5.jar --root --treeoutput newick --nolosses -g ' + treefile + ' -s ' + speciestree + ' --infertransfers true --speciestag postfix --usegenedir\\n')\n",
    "\n",
    "fo.close()"
   ]
  },
  {
   "cell_type": "code",
   "execution_count": null,
   "id": "616c84a4",
   "metadata": {},
   "outputs": [],
   "source": []
  },
  {
   "cell_type": "code",
   "execution_count": null,
   "id": "61f49f69",
   "metadata": {},
   "outputs": [],
   "source": [
    "for treefile in glob.glob(ogtreedir + '*.ntr.tree'):\n",
    "    og = treefile.split('/')[-1].split('.')[0]\n",
    "    #print(og)\n",
    "    if og in scogs:\n",
    "        ! cat {treefile} >> {treeoutfile}"
   ]
  },
  {
   "cell_type": "code",
   "execution_count": null,
   "id": "c44dfd59",
   "metadata": {},
   "outputs": [],
   "source": []
  }
 ],
 "metadata": {
  "kernelspec": {
   "display_name": "Python (My env.genomics Kernel)",
   "language": "python",
   "name": "env.genomics"
  },
  "language_info": {
   "codemirror_mode": {
    "name": "ipython",
    "version": 3
   },
   "file_extension": ".py",
   "mimetype": "text/x-python",
   "name": "python",
   "nbconvert_exporter": "python",
   "pygments_lexer": "ipython3",
   "version": "3.6.10"
  }
 },
 "nbformat": 4,
 "nbformat_minor": 5
}
