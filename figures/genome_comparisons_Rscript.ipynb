{
 "cells": [
  {
   "cell_type": "code",
   "execution_count": null,
   "id": "b1022101",
   "metadata": {},
   "outputs": [],
   "source": [
    "library(ggplot2)"
   ]
  },
  {
   "cell_type": "code",
   "execution_count": null,
   "id": "eb460ee9",
   "metadata": {},
   "outputs": [],
   "source": [
    "df = read.table(\"haptophyte_genomes.Rin\", sep = '\\t', header = TRUE)"
   ]
  },
  {
   "cell_type": "code",
   "execution_count": null,
   "id": "e3685bd0",
   "metadata": {},
   "outputs": [],
   "source": [
    "gg = ggplot(data=df, aes(x=length, y=prot/1000, size = n50*1000, color=busco)) \n",
    "gg = gg + geom_point() \n",
    "gg = gg + theme_classic()\n",
    "gg = gg + scale_size(range = c(1, 10), breaks=c(100, 1000, 5000))\n",
    "gg = gg + scale_color_gradientn(colours = c('#7BBCE7', '#7EB2E4', '#88A5DD', '#9398D2', '#9B8AC4', '#9D7DB2', '#9A709E', '#906388', '#805770', '#684957', '#46353A'))\n",
    "gg = gg + labs(x='Genome size (Mbp)', y='Protein-coding genes (x1000)') \n",
    "gg = gg + theme(text = element_text(size=6))\n",
    "gg = gg + geom_text(label=df$strain, size=1, color='#000000')\n",
    "gg = gg + xlim(20, 250)\n",
    "gg = gg + ylim(10, 50)\n",
    "gg = gg + theme(legend.key.size=unit(0.2, \"cm\")) \n",
    "gg = gg + theme(legend.key.width=unit(0.3, \"cm\")) \n",
    "gg"
   ]
  },
  {
   "cell_type": "code",
   "execution_count": null,
   "id": "c1a5285f",
   "metadata": {},
   "outputs": [],
   "source": [
    "ggsave('haptophyte_genomes.pdf', device = \"pdf\", width = 2.5, height = 2, units = \"in\")"
   ]
  },
  {
   "cell_type": "code",
   "execution_count": null,
   "id": "12c61b07",
   "metadata": {},
   "outputs": [],
   "source": []
  }
 ],
 "metadata": {
  "kernelspec": {
   "display_name": "R 4.1.2",
   "language": "R",
   "name": "ir-4.1.2"
  },
  "language_info": {
   "codemirror_mode": "r",
   "file_extension": ".r",
   "mimetype": "text/x-r-source",
   "name": "R",
   "pygments_lexer": "r",
   "version": "4.1.2"
  }
 },
 "nbformat": 4,
 "nbformat_minor": 5
}
