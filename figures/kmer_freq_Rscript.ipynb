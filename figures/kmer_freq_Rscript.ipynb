{
 "cells": [
  {
   "cell_type": "code",
   "execution_count": null,
   "id": "d266dc50",
   "metadata": {},
   "outputs": [],
   "source": [
    "library(ggplot2)"
   ]
  },
  {
   "cell_type": "code",
   "execution_count": null,
   "id": "fc09a1c3",
   "metadata": {},
   "outputs": [],
   "source": [
    "data_vline <- read.table(\"cmuk.Rin\", sep = '\\t', header = TRUE)\n",
    "data_vline$strain <- factor(data_vline$strain, levels=c('12B1','CCMP3037','UTEX2797','12A1','RCC3703','CCMP2941','KAC39','RCC3426','K0374','K0081','K0252','RCC1436','UTEX995','RCC1433','RCC191'))       \n",
    "data_vline "
   ]
  },
  {
   "cell_type": "code",
   "execution_count": null,
   "id": "5189171a",
   "metadata": {},
   "outputs": [],
   "source": [
    "df = read.table(\"kmer_freq.Rin\", sep = '\\t', header = TRUE)\n",
    "df$strain <- factor(df$strain, levels=c('12B1','CCMP3037','UTEX2797','12A1','RCC3703','CCMP2941','KAC39','RCC3426','K0374','K0081','K0252','RCC1436','UTEX995','RCC1433','RCC191'))       \n",
    "\n",
    "head(df)"
   ]
  },
  {
   "cell_type": "code",
   "execution_count": null,
   "id": "bc0449a2",
   "metadata": {},
   "outputs": [],
   "source": [
    "gg = ggplot(data=df, aes(x=cov, y=freq, color=type))\n",
    "gg = gg + geom_line()\n",
    "gg = gg + facet_grid(strain ~ ., scales = \"free_y\")\n",
    "gg = gg + geom_vline(data = data_vline, aes(xintercept = cmuk))\n",
    "gg = gg + theme_classic()\n",
    "gg = gg + labs(x='K-mer coverage', y=NULL, color=\"Prymnesin type\") \n",
    "gg = gg + scale_color_manual(values=c(\"#d95f02\", \"#7570b3\", \"#1b9e77\"))\n",
    "gg = gg + theme(legend.position=\"none\")\n",
    "gg = gg + theme(axis.title.y=element_blank(), axis.text.y=element_blank(), axis.ticks.y=element_blank())\n",
    "gg = gg + theme(text = element_text(size=7))\n",
    "gg = gg + theme(panel.spacing = unit(.01, \"cm\"))\n",
    "gg"
   ]
  },
  {
   "cell_type": "code",
   "execution_count": null,
   "id": "4e8023d6",
   "metadata": {},
   "outputs": [],
   "source": [
    "ggsave('kmer_plots.pdf', device = \"pdf\", width = 1, height = 2.5, units = \"in\")"
   ]
  },
  {
   "cell_type": "code",
   "execution_count": null,
   "id": "09140bae",
   "metadata": {},
   "outputs": [],
   "source": []
  }
 ],
 "metadata": {
  "kernelspec": {
   "display_name": "R 4.1.2",
   "language": "R",
   "name": "ir-4.1.2"
  },
  "language_info": {
   "codemirror_mode": "r",
   "file_extension": ".r",
   "mimetype": "text/x-r-source",
   "name": "R",
   "pygments_lexer": "r",
   "version": "4.1.2"
  }
 },
 "nbformat": 4,
 "nbformat_minor": 5
}
