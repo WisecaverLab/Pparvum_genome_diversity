{
 "cells": [
  {
   "cell_type": "code",
   "execution_count": null,
   "id": "3530c86e",
   "metadata": {},
   "outputs": [],
   "source": [
    "library(ggplot2)"
   ]
  },
  {
   "cell_type": "code",
   "execution_count": null,
   "id": "60f16b6f",
   "metadata": {},
   "outputs": [],
   "source": [
    "df = read.table(\"breadth_of_cov_v2.Rin\", sep = '\\t', header = TRUE)\n",
    "df$strain <- factor(df$strain, levels=rev(c('12B1','UTEX2797','CCMP3037','12A1','CCMP2941','RCC3703','K0081','K0374','RCC3426','KAC39','K0252','RCC191','RCC1433','UTEX995','RCC1436')))       \n",
    "df$cat <- factor(df$cat, levels=c('12B1 genomic', '12B1 genic', 'UTEX 2797 genomic', 'UTEX 2797 genic', 'UTEX 2797 A1 genes', 'UTEX 2797 A2 genes'))\n"
   ]
  },
  {
   "cell_type": "code",
   "execution_count": null,
   "id": "76d590d8",
   "metadata": {},
   "outputs": [],
   "source": [
    "gg = ggplot(data=df, aes(x=strain, y=per, fill=per)) \n",
    "gg = gg + geom_bar(stat='identity') + coord_flip()\n",
    "gg = gg + theme_classic()\n",
    "gg = gg + facet_grid(. ~ cat)\n",
    "gg = gg + theme(legend.position=\"top\")\n",
    "#gg = gg + scale_fill_manual(values=c(\"#d95f02\", \"#7570b3\", \"#1b9e77\", \"#000000\"))\n",
    "#gg = gg + scale_fill_gradientn(colours = c('#7BBCE7', '#7EB2E4', '#88A5DD', '#9398D2', '#9B8AC4', '#9D7DB2', '#9A709E', '#906388', '#805770', '#684957', '#46353A'))\n",
    "gg = gg + scale_fill_gradientn(colours = c('#FEE391', '#FEC44F', '#FB9A29', '#EC7014', '#CC4C02', '#993404', '#662506'), name='Breadth of coverage (%)', limits = c(40, 100), breaks=c(0, 20, 40, 60, 80, 100))\n",
    "\n",
    "gg = gg + labs(x=NULL, y='Breadth of coverage (%)') \n",
    "gg = gg + theme(text = element_text(size=6))\n",
    "#gg = gg + geom_text(label=df$per, size=1, color='#000000')\n",
    "# gg = gg + xlim(20, 250)\n",
    "# gg = gg + ylim(10, 50)\n",
    "# gg = gg + theme(legend.key.size=unit(0.2, \"cm\")) \n",
    "# gg = gg + theme(legend.key.width=unit(0.3, \"cm\")) \n",
    "gg"
   ]
  },
  {
   "cell_type": "code",
   "execution_count": null,
   "id": "95c8bc51",
   "metadata": {},
   "outputs": [],
   "source": [
    "ggsave('breadth_of_cov.pdf', device = \"pdf\", width = 4, height = 3, units = \"in\")"
   ]
  },
  {
   "cell_type": "code",
   "execution_count": null,
   "id": "92e305cc",
   "metadata": {},
   "outputs": [],
   "source": [
    "min(df$per)"
   ]
  },
  {
   "cell_type": "code",
   "execution_count": null,
   "id": "9df4900c",
   "metadata": {},
   "outputs": [],
   "source": []
  }
 ],
 "metadata": {
  "kernelspec": {
   "display_name": "R 4.1.2",
   "language": "R",
   "name": "ir-4.1.2"
  },
  "language_info": {
   "codemirror_mode": "r",
   "file_extension": ".r",
   "mimetype": "text/x-r-source",
   "name": "R",
   "pygments_lexer": "r",
   "version": "4.1.2"
  }
 },
 "nbformat": 4,
 "nbformat_minor": 5
}
