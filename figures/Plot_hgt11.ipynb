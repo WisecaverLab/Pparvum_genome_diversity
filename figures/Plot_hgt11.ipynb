{
 "cells": [
  {
   "cell_type": "code",
   "execution_count": null,
   "id": "96716466",
   "metadata": {},
   "outputs": [],
   "source": [
    "from pygenomeviz import GenomeViz\n",
    "from Bio import SeqIO"
   ]
  },
  {
   "cell_type": "code",
   "execution_count": null,
   "id": "53d30cbe",
   "metadata": {},
   "outputs": [],
   "source": [
    "hgt_og = 'OG0028008'\n",
    "ogfile = '../../../figshare/orthofinder/Orthogroups/Orthogroups_including_singletons.txt'"
   ]
  },
  {
   "cell_type": "code",
   "execution_count": null,
   "id": "584ac4c1",
   "metadata": {},
   "outputs": [],
   "source": [
    "!grep {hgt_og} {ogfile}"
   ]
  },
  {
   "cell_type": "code",
   "execution_count": null,
   "id": "eba0f524",
   "metadata": {},
   "outputs": [],
   "source": [
    "# create bed files for UTEX2797\n",
    "gffile = '../../../figshare/annotation/genes_scaffolded_assembly/UTEX2797_v1.gff3'\n",
    "outfile1 = 'UTEX2797g6303.bed'\n",
    "outfile2 = 'UTEX2797genes.bed'\n",
    "fi = open(gffile)\n",
    "fo1 = open(outfile1, 'w')\n",
    "fo2 = open(outfile2, 'w')\n",
    "\n",
    "for line in fi:\n",
    "    col = line.rstrip().split('\\t')\n",
    "    if col[2] == 'gene':\n",
    "        scaf = col[0]\n",
    "        start = col[3]\n",
    "        end = col[4]\n",
    "        strand = col[6]\n",
    "        gene = col[8].split('ID=UTEX2797')[1].split(';')[0]\n",
    "        fo2.write(f'{scaf}\\t{start}\\t{end}\\t{gene}\\n')\n",
    "        \n",
    "        if gene == 'g6303':\n",
    "            print(start,end,strand,gene)\n",
    "            fo1.write(f'{scaf}\\t{start}\\t{end}\\t{gene}\\n')\n",
    "\n",
    "fi.close()\n",
    "fo1.close()\n",
    "fo2.close()"
   ]
  },
  {
   "cell_type": "code",
   "execution_count": null,
   "id": "ee5dd0d0",
   "metadata": {},
   "outputs": [],
   "source": [
    "# create bed files for 12A1\n",
    "gffile = '../../../figshare/annotation/genes_illumina_assembly/12A1.gff3'\n",
    "\n",
    "outfile1 = '12A1g8628.bed'\n",
    "outfile2 = '12A1genes.bed'\n",
    "fi = open(gffile)\n",
    "fo1 = open(outfile1, 'w')\n",
    "fo2 = open(outfile2, 'w')\n",
    "\n",
    "for line in fi:\n",
    "    col = line.rstrip().split('\\t')\n",
    "    if col[2] == 'gene':\n",
    "        scaf = col[0]\n",
    "        start = col[3]\n",
    "        end = col[4]\n",
    "        strand = col[6]\n",
    "        gene = col[8].split('ID=')[1].split(';')[0]\n",
    "        fo2.write(f'{scaf}\\t{start}\\t{end}\\t{gene}\\n')\n",
    "        \n",
    "        if gene == 'g8628':\n",
    "            print(start,end,strand,gene)\n",
    "            fo1.write(f'{scaf}\\t{start}\\t{end}\\t{gene}\\n')\n",
    "\n",
    "fi.close()\n",
    "fo1.close()\n",
    "fo2.close()"
   ]
  },
  {
   "cell_type": "code",
   "execution_count": null,
   "id": "325f4d89",
   "metadata": {},
   "outputs": [],
   "source": [
    "# create bed files for CCMP2941\n",
    "gffile = '../../../figshare/annotation/genes_illumina_assembly/CCMP2941.gff3'\n",
    "\n",
    "outfile1 = 'CCMP2941g11697.bed'\n",
    "outfile2 = 'CCMP2941genes.bed'\n",
    "fi = open(gffile)\n",
    "fo1 = open(outfile1, 'w')\n",
    "fo2 = open(outfile2, 'w')\n",
    "\n",
    "for line in fi:\n",
    "    col = line.rstrip().split('\\t')\n",
    "    if col[2] == 'gene':\n",
    "        scaf = col[0]\n",
    "        start = col[3]\n",
    "        end = col[4]\n",
    "        strand = col[6]\n",
    "        gene = col[8].split('ID=')[1].split(';')[0]\n",
    "        fo2.write(f'{scaf}\\t{start}\\t{end}\\t{gene}\\n')\n",
    "        \n",
    "        if gene == 'g11697':\n",
    "            print(start,end,strand,gene)\n",
    "            fo1.write(f'{scaf}\\t{start}\\t{end}\\t{gene}\\n')\n",
    "\n",
    "fi.close()\n",
    "fo1.close()\n",
    "fo2.close()"
   ]
  },
  {
   "cell_type": "code",
   "execution_count": null,
   "id": "2a00c134",
   "metadata": {},
   "outputs": [],
   "source": [
    "# create bed files for RCC1433\n",
    "gffile = '../../../figshare/annotation/genes_illumina_assembly/RCC1433.gff3'\n",
    "\n",
    "outfile1 = 'RCC1433g22720.bed'\n",
    "outfile2 = 'RCC1433genes.bed'\n",
    "fi = open(gffile)\n",
    "fo1 = open(outfile1, 'w')\n",
    "fo2 = open(outfile2, 'w')\n",
    "\n",
    "for line in fi:\n",
    "    col = line.rstrip().split('\\t')\n",
    "    if col[2] == 'gene':\n",
    "        scaf = col[0]\n",
    "        start = col[3]\n",
    "        end = col[4]\n",
    "        strand = col[6]\n",
    "        gene = col[8].split('ID=')[1].split(';')[0]\n",
    "        fo2.write(f'{scaf}\\t{start}\\t{end}\\t{gene}\\n')\n",
    "        \n",
    "        if gene == 'g22720':\n",
    "            print(start,end,strand,gene)\n",
    "            fo1.write(f'{scaf}\\t{start}\\t{end}\\t{gene}\\n')\n",
    "\n",
    "fi.close()\n",
    "fo1.close()\n",
    "fo2.close()"
   ]
  },
  {
   "cell_type": "markdown",
   "id": "e56551d9",
   "metadata": {},
   "source": [
    "# UTEX 2797 versus 12A1"
   ]
  },
  {
   "cell_type": "code",
   "execution_count": null,
   "id": "814d95ef",
   "metadata": {},
   "outputs": [],
   "source": [
    "#bedtools = '/depot/jwisecav/apps/bell/bedtools2/bin/bedtools'\n",
    "#!{bedtools} window -a UTEX2797g6303.bed -b UTEX2797genes.bed -w 20000"
   ]
  },
  {
   "cell_type": "code",
   "execution_count": null,
   "id": "dc6a2b01",
   "metadata": {},
   "outputs": [],
   "source": [
    "#bedtools = '/depot/jwisecav/apps/bell/bedtools2/bin/bedtools'\n",
    "#!{bedtools} window -a 12A1g8628.bed -b 12A1genes.bed -w 20000"
   ]
  },
  {
   "cell_type": "code",
   "execution_count": null,
   "id": "c9702c5d",
   "metadata": {},
   "outputs": [],
   "source": [
    "genelistUT2797 = ['g6285','g6286','g6287','g6288','g6289','g6290','g6291','g6292','g6293','g6294','g6295', 'g6299', 'g6296', 'g6298', 'g6297', 'g6305', 'g6306', 'g6302', 'g6309', 'g6307', 'g6303', 'g6304', 'g6308', 'g6301', 'g6310', 'g6300', 'g6311', 'g6312', 'g6313', 'g6314', 'g6315', 'g6316', 'g6317', 'g6318', 'g6319']\n",
    "genelist12A1 = ['g8627', 'g8628', 'g8629', 'g8630', 'g8631', 'g8632', 'g8633', 'g8634', 'g8635', 'g8636', 'g8637', 'g8638', 'g8639', 'g8640', 'g8641', 'g8642', 'g8643', 'g8644', 'g8645', 'g8646']"
   ]
  },
  {
   "cell_type": "code",
   "execution_count": null,
   "id": "6c19334c",
   "metadata": {},
   "outputs": [],
   "source": [
    "viralgenes = ['g6300','g6301','g6302','g6303','g6304','g6289','g6290','g6291','g6292','g6293','g6294','g6295', 'g6299', 'g6296', 'g6298', 'g6297', 'g6305', 'g6306']"
   ]
  },
  {
   "cell_type": "code",
   "execution_count": null,
   "id": "f6c90579",
   "metadata": {},
   "outputs": [],
   "source": [
    "# create coord list for UTEX2797\n",
    "gffile = '../../../figshare/annotation/genes_scaffolded_assembly/UTEX2797_v1.gff3'\n",
    "fi = open(gffile)\n",
    "\n",
    "coorddictUT2797 = {}\n",
    "coordlistUT2797 = []\n",
    "\n",
    "for line in fi:\n",
    "    col = line.rstrip().split('\\t')\n",
    "    if col[2] == 'gene':\n",
    "        start = int(col[3]) - 648149\n",
    "        end = int(col[4]) - 648149\n",
    "        strand = 1\n",
    "        if col[6] == '-':\n",
    "            strand = -1\n",
    "        gene = col[8].split('ID=UTEX2797')[1].split(';')[0]\n",
    "        \n",
    "        if gene in genelistUT2797:\n",
    "            #print(gene, start, end)\n",
    "            genelist = [start, end, strand, gene]\n",
    "            coordlistUT2797.append(genelist)\n",
    "            if strand == 1:\n",
    "                coorddictUT2797[gene] = ['UTEX2797', start, end]\n",
    "            else:\n",
    "                coorddictUT2797[gene] = ['UTEX2797', end, start]\n",
    "fi.close()"
   ]
  },
  {
   "cell_type": "code",
   "execution_count": null,
   "id": "afc132a2",
   "metadata": {},
   "outputs": [],
   "source": [
    "#coordlistUT2797"
   ]
  },
  {
   "cell_type": "code",
   "execution_count": null,
   "id": "fd4de183",
   "metadata": {},
   "outputs": [],
   "source": [
    "# create coord list for 12A1\n",
    "gffile = '../../../figshare/annotation/genes_illumina_assembly/12A1.gff3'\n",
    "fi = open(gffile)\n",
    "\n",
    "coorddict12A1 = {}\n",
    "coordlist12A1 = []\n",
    "\n",
    "for line in fi:\n",
    "    col = line.rstrip().split('\\t')\n",
    "    if col[2] == 'gene':\n",
    "        start = int(col[3])\n",
    "        end = int(col[4])\n",
    "        strand = 1\n",
    "        if col[6] == '-':\n",
    "            strand = -1\n",
    "        gene = col[8].split('ID=')[1].split(';')[0]\n",
    "        \n",
    "        if gene in genelist12A1:\n",
    "            #print(gene)\n",
    "            genelist = [start, end, strand, gene]\n",
    "            coordlist12A1.append(genelist)\n",
    "            if strand == 1:\n",
    "                coorddict12A1[gene] = ['12A1', start, end]\n",
    "            else:\n",
    "                coorddict12A1[gene] = ['12A1', end, start]\n",
    "            \n",
    "fi.close()"
   ]
  },
  {
   "cell_type": "code",
   "execution_count": null,
   "id": "b387ffe1",
   "metadata": {},
   "outputs": [],
   "source": [
    "#coordlist12A1"
   ]
  },
  {
   "cell_type": "code",
   "execution_count": null,
   "id": "669a3851",
   "metadata": {},
   "outputs": [],
   "source": [
    "genome_list = (\n",
    "    {\"name\": \"UTEX2797\", \"size\": 62000, \"cds_list\": coordlistUT2797},\n",
    "    {\"name\": \"12A1\", \"size\": 26000, \"cds_list\": coordlist12A1},\n",
    ")"
   ]
  },
  {
   "cell_type": "code",
   "execution_count": null,
   "id": "67b26ed8",
   "metadata": {},
   "outputs": [],
   "source": [
    "gv = GenomeViz(align_type=\"center\", tick_style=\"bar\")\n",
    "for genome in genome_list:\n",
    "    name, size, cds_list = genome[\"name\"], genome[\"size\"], genome[\"cds_list\"]\n",
    "    track = gv.add_feature_track(name, size)\n",
    "    for cds in cds_list:\n",
    "        start, end, strand, geneid = cds\n",
    "        if name == 'UTEX2797':\n",
    "            if geneid in viralgenes:\n",
    "                track.add_feature(start, end, strand, label=geneid, labelvpos=\"top\", facecolor=\"#33a02c\")\n",
    "            else:\n",
    "                track.add_feature(start, end, strand, label=geneid, labelvpos=\"top\", facecolor=\"#525252\")\n",
    "        else:\n",
    "            track.add_feature(start, end, strand, label=geneid, labelvpos=\"bottom\", labelrotation=-45, facecolor=\"#525252\")\n",
    "\n",
    "#fig = gv.plotfig()"
   ]
  },
  {
   "cell_type": "code",
   "execution_count": null,
   "id": "053869e9",
   "metadata": {},
   "outputs": [],
   "source": [
    "ogfile = '../../../figshare/orthofinder/Orthogroups/Orthogroups_including_singletons.txt'\n",
    "fi = open(ogfile)\n",
    "\n",
    "for line in fi:\n",
    "    col = line.rstrip().split('\\t')\n",
    "    if len(col) >= 4:\n",
    "        og = col[0]\n",
    "        genes12A1 = col[3].split(', ')\n",
    "        genesUT2797 = col[2].split(', ')\n",
    "\n",
    "        #print(genes12A1,genesUT2797)\n",
    "\n",
    "        for gene1 in genes12A1:\n",
    "            gene1 = gene1.split('.')[0]\n",
    "            if gene1 in genelist12A1:\n",
    "                #print(gene)\n",
    "                for gene2 in genesUT2797:\n",
    "                    gene2 = gene2.split('.')[0]\n",
    "                    if gene2 in genelistUT2797:\n",
    "                        #print(gene1, gene2)\n",
    "                        \n",
    "                        if gene2 == 'g6303':\n",
    "                            gv.add_link(coorddictUT2797[gene2], coorddict12A1[gene1], normal_color=\"#b2df8a\", inverted_color=\"#b2df8a\")\n",
    "                        else:\n",
    "                            gv.add_link(coorddictUT2797[gene2], coorddict12A1[gene1], normal_color=\"#bdbdbd\", inverted_color=\"#fc9272\")\n",
    "\n",
    "                        \n",
    "fi.close()\n",
    "\n",
    "gv.savefig(\"UTEX2797_v_12A1.pdf\")"
   ]
  },
  {
   "cell_type": "code",
   "execution_count": null,
   "id": "88e8198b",
   "metadata": {},
   "outputs": [],
   "source": []
  },
  {
   "cell_type": "markdown",
   "id": "107e23ef",
   "metadata": {},
   "source": [
    "# UTEX 2797 versus CCMP2941"
   ]
  },
  {
   "cell_type": "code",
   "execution_count": null,
   "id": "e5598904",
   "metadata": {},
   "outputs": [],
   "source": [
    "#bedtools = '/depot/jwisecav/apps/bell/bedtools2/bin/bedtools'\n",
    "#!{bedtools} window -a UTEX2797g6303.bed -b UTEX2797genes.bed -w 20000"
   ]
  },
  {
   "cell_type": "code",
   "execution_count": null,
   "id": "0946c89d",
   "metadata": {},
   "outputs": [],
   "source": [
    "#bedtools = '/depot/jwisecav/apps/bell/bedtools2/bin/bedtools'\n",
    "#!{bedtools} window -a CCMP2941g11697.bed -b CCMP2941genes.bed -w 20000"
   ]
  },
  {
   "cell_type": "code",
   "execution_count": null,
   "id": "e3358b50",
   "metadata": {},
   "outputs": [],
   "source": [
    "#genelistUT2797 = ['g6295', 'g6299', 'g6296', 'g6298', 'g6297', 'g6305', 'g6306', 'g6302', 'g6309', 'g6307', 'g6303', 'g6304', 'g6308', 'g6301', 'g6310', 'g6300', 'g6311', 'g6312', 'g6313', 'g6314', 'g6315', 'g6316', 'g6317', 'g6318', 'g6319']\n",
    "genelistCCMP2941 = ['g11694', 'g11695', 'g11696', 'g11697', 'g11698', 'g11699', 'g11700', 'g11701', 'g11702']"
   ]
  },
  {
   "cell_type": "code",
   "execution_count": null,
   "id": "5e6ad014",
   "metadata": {},
   "outputs": [],
   "source": [
    "# create coord list for UTEX2797\n",
    "# gffile = '../../../6_Genome_annotation/2_Braker/UTEX2797_genomic.gff'\n",
    "# fi = open(gffile)\n",
    "\n",
    "# coorddictUT2797 = {}\n",
    "# coordlistUT2797 = []\n",
    "\n",
    "# for line in fi:\n",
    "#     col = line.rstrip().split('\\t')\n",
    "#     if col[2] == 'gene':\n",
    "#         start = int(col[3]) - 662148\n",
    "#         end = int(col[4]) - 662148\n",
    "#         strand = 1\n",
    "#         if col[6] == '-':\n",
    "#             strand = -1\n",
    "#         gene = col[8].split('ID=UTEX2797')[1].split(';')[0]\n",
    "        \n",
    "#         if gene in genelistUT2797:\n",
    "#             #print(gene, start, end)\n",
    "#             genelist = [start, end, strand, gene]\n",
    "#             coordlistUT2797.append(genelist)\n",
    "#             if strand == 1:\n",
    "#                 coorddictUT2797[gene] = ['UTEX2797', start, end]\n",
    "#             else:\n",
    "#                 coorddictUT2797[gene] = ['UTEX2797', end, start]\n",
    "# fi.close()"
   ]
  },
  {
   "cell_type": "code",
   "execution_count": null,
   "id": "6a2f76dd",
   "metadata": {},
   "outputs": [],
   "source": [
    "#coordlistUT2797"
   ]
  },
  {
   "cell_type": "code",
   "execution_count": null,
   "id": "71f2b258",
   "metadata": {},
   "outputs": [],
   "source": [
    "# create coord list for CCMP2941\n",
    "gffile = '../../../figshare/annotation/genes_illumina_assembly/CCMP2941.gff3'\n",
    "fi = open(gffile)\n",
    "\n",
    "coorddictCCMP2941 = {}\n",
    "coordlistCCMP2941 = []\n",
    "\n",
    "for line in fi:\n",
    "    col = line.rstrip().split('\\t')\n",
    "    if col[2] == 'gene':\n",
    "        start = int(col[3])\n",
    "        end = int(col[4])\n",
    "        strand = 1\n",
    "        if col[6] == '-':\n",
    "            strand = -1\n",
    "        gene = col[8].split('ID=')[1].split(';')[0]\n",
    "        \n",
    "        if gene in genelistCCMP2941:\n",
    "            #print(gene)\n",
    "            genelist = [start, end, strand, gene]\n",
    "            coordlistCCMP2941.append(genelist)\n",
    "            if strand == 1:\n",
    "                coorddictCCMP2941[gene] = ['CCMP2941', start, end]\n",
    "            else:\n",
    "                coorddictCCMP2941[gene] = ['CCMP2941', end, start]\n",
    "            \n",
    "fi.close()"
   ]
  },
  {
   "cell_type": "code",
   "execution_count": null,
   "id": "6b72707c",
   "metadata": {},
   "outputs": [],
   "source": [
    "#coordlistCCMP2941"
   ]
  },
  {
   "cell_type": "code",
   "execution_count": null,
   "id": "c77a492c",
   "metadata": {},
   "outputs": [],
   "source": [
    "genome_list = (\n",
    "    {\"name\": \"UTEX2797\", \"size\": 62000, \"cds_list\": coordlistUT2797},\n",
    "    {\"name\": \"CCMP2941\", \"size\": 13000, \"cds_list\": coordlistCCMP2941},\n",
    ")"
   ]
  },
  {
   "cell_type": "code",
   "execution_count": null,
   "id": "f146309c",
   "metadata": {},
   "outputs": [],
   "source": [
    "gv = GenomeViz(align_type=\"center\", tick_style=\"bar\")\n",
    "for genome in genome_list:\n",
    "    name, size, cds_list = genome[\"name\"], genome[\"size\"], genome[\"cds_list\"]\n",
    "    track = gv.add_feature_track(name, size)\n",
    "    for cds in cds_list:\n",
    "        start, end, strand, geneid = cds\n",
    "        if name == 'UTEX2797':\n",
    "            if geneid in viralgenes:\n",
    "                track.add_feature(start, end, strand, label=geneid, labelvpos=\"top\", facecolor=\"#33a02c\")\n",
    "            else:\n",
    "                track.add_feature(start, end, strand, label=geneid, labelvpos=\"top\", facecolor=\"#525252\")\n",
    "        else:\n",
    "            track.add_feature(start, end, strand, label=geneid, labelvpos=\"bottom\", labelrotation=-45, facecolor=\"#525252\")\n",
    "\n",
    "\n",
    "#fig = gv.plotfig()"
   ]
  },
  {
   "cell_type": "code",
   "execution_count": null,
   "id": "927b914f",
   "metadata": {},
   "outputs": [],
   "source": [
    "ogfile = '../../../figshare/orthofinder/Orthogroups/Orthogroups_including_singletons.txt'\n",
    "fi = open(ogfile)\n",
    "\n",
    "for line in fi:\n",
    "    col = line.rstrip().split('\\t')\n",
    "    if len(col) >= 5:\n",
    "        og = col[0]\n",
    "        genesCCMP2941 = col[4].split(', ')\n",
    "        genesUT2797 = col[2].split(', ')\n",
    "\n",
    "        #print(genesCCMP2941,genesUT2797)\n",
    "\n",
    "        for gene1 in genesCCMP2941:\n",
    "            gene1 = gene1.split('.')[0]\n",
    "            if gene1 in genelistCCMP2941:\n",
    "                #print(gene)\n",
    "                for gene2 in genesUT2797:\n",
    "                    gene2 = gene2.split('.')[0]\n",
    "                    if gene2 in genelistUT2797:\n",
    "                        #print(gene1, gene2)\n",
    "                        if gene2 == 'g6303':\n",
    "                            gv.add_link(coorddictUT2797[gene2], coorddictCCMP2941[gene1], normal_color=\"#b2df8a\", inverted_color=\"#b2df8a\")\n",
    "                        else:\n",
    "                            gv.add_link(coorddictUT2797[gene2], coorddictCCMP2941[gene1], normal_color=\"#bdbdbd\", inverted_color=\"#fc9272\")\n",
    "\n",
    "fi.close()\n",
    "\n",
    "gv.savefig(\"UTEX2797_v_CCMP2941.pdf\")"
   ]
  },
  {
   "cell_type": "code",
   "execution_count": null,
   "id": "9200e6e0",
   "metadata": {},
   "outputs": [],
   "source": []
  },
  {
   "cell_type": "markdown",
   "id": "2b6bcf11",
   "metadata": {},
   "source": [
    "# UTEX 2797 versus RCC1433"
   ]
  },
  {
   "cell_type": "code",
   "execution_count": null,
   "id": "e527a953",
   "metadata": {},
   "outputs": [],
   "source": [
    "#bedtools = '/depot/jwisecav/apps/bell/bedtools2/bin/bedtools'\n",
    "#!{bedtools} window -a UTEX2797g6303.bed -b UTEX2797genes.bed -w 20000"
   ]
  },
  {
   "cell_type": "code",
   "execution_count": null,
   "id": "0279b4fd",
   "metadata": {},
   "outputs": [],
   "source": [
    "#bedtools = '/depot/jwisecav/apps/bell/bedtools2/bin/bedtools'\n",
    "#!{bedtools} window -a RCC1433g22720.bed -b RCC1433genes.bed -w 30000"
   ]
  },
  {
   "cell_type": "code",
   "execution_count": null,
   "id": "501d67c7",
   "metadata": {},
   "outputs": [],
   "source": [
    "#genelistUT2797 = ['g6295', 'g6299', 'g6296', 'g6298', 'g6297', 'g6305', 'g6306', 'g6302', 'g6309', 'g6307', 'g6303', 'g6304', 'g6308', 'g6301', 'g6310', 'g6300', 'g6311', 'g6312', 'g6313', 'g6314', 'g6315', 'g6316', 'g6317', 'g6318', 'g6319']\n",
    "genelistRCC1433 = ['g22707', 'g22708', 'g22709', 'g22710', 'g22711', 'g22712', 'g22713', 'g22714', 'g22715', 'g22716', 'g22717', 'g22718', 'g22719', 'g22720', 'g22721', 'g22722', 'g22723', 'g22724', 'g22725', 'g22726', 'g22727', 'g22728', 'g22729', 'g22730', 'g22731', 'g22732', 'g22733', 'g22734', 'g22735', 'g22736', 'g22737', 'g22738', 'g22739', 'g22740', 'g22741', 'g22742', 'g22743', 'g22744']"
   ]
  },
  {
   "cell_type": "code",
   "execution_count": null,
   "id": "a3b9037f",
   "metadata": {},
   "outputs": [],
   "source": [
    "# create coord list for UTEX2797\n",
    "# gffile = '../../../6_Genome_annotation/2_Braker/UTEX2797_genomic.gff'\n",
    "# fi = open(gffile)\n",
    "\n",
    "# coorddictUT2797 = {}\n",
    "# coordlistUT2797 = []\n",
    "\n",
    "# for line in fi:\n",
    "#     col = line.rstrip().split('\\t')\n",
    "#     if col[2] == 'gene':\n",
    "#         start = int(col[3]) - 662148\n",
    "#         end = int(col[4]) - 662148\n",
    "#         strand = 1\n",
    "#         if col[6] == '-':\n",
    "#             strand = -1\n",
    "#         gene = col[8].split('ID=UTEX2797')[1].split(';')[0]\n",
    "        \n",
    "#         if gene in genelistUT2797:\n",
    "#             #print(gene, start, end)\n",
    "#             genelist = [start, end, strand, gene]\n",
    "#             coordlistUT2797.append(genelist)\n",
    "#             if strand == 1:\n",
    "#                 coorddictUT2797[gene] = ['UTEX2797', start, end]\n",
    "#             else:\n",
    "#                 coorddictUT2797[gene] = ['UTEX2797', end, start]\n",
    "# fi.close()"
   ]
  },
  {
   "cell_type": "code",
   "execution_count": null,
   "id": "dacf6334",
   "metadata": {},
   "outputs": [],
   "source": [
    "#coordlistUT2797"
   ]
  },
  {
   "cell_type": "code",
   "execution_count": null,
   "id": "a6ada94f",
   "metadata": {},
   "outputs": [],
   "source": [
    "# create coord list for RCC1433\n",
    "gffile = '../../../figshare/annotation/genes_illumina_assembly/RCC1433.gff3'\n",
    "fi = open(gffile)\n",
    "\n",
    "coorddictRCC1433 = {}\n",
    "coordlistRCC1433 = []\n",
    "\n",
    "for line in fi:\n",
    "    col = line.rstrip().split('\\t')\n",
    "    if col[2] == 'gene':\n",
    "        start = int(col[3])\n",
    "        end = int(col[4])\n",
    "        strand = 1\n",
    "        if col[6] == '-':\n",
    "            strand = -1\n",
    "        gene = col[8].split('ID=')[1].split(';')[0]\n",
    "        \n",
    "        if gene in genelistRCC1433:\n",
    "            #print(gene, start, end)\n",
    "            genelist = [start, end, strand, gene]\n",
    "            coordlistRCC1433.append(genelist)\n",
    "            if strand == 1:\n",
    "                coorddictRCC1433[gene] = ['RCC1433', start, end]\n",
    "            else:\n",
    "                coorddictRCC1433[gene] = ['RCC1433', end, start]\n",
    "            \n",
    "fi.close()"
   ]
  },
  {
   "cell_type": "code",
   "execution_count": null,
   "id": "ba122c86",
   "metadata": {},
   "outputs": [],
   "source": [
    "#coordlistRCC1433"
   ]
  },
  {
   "cell_type": "code",
   "execution_count": null,
   "id": "c176d881",
   "metadata": {},
   "outputs": [],
   "source": [
    "genome_list = (\n",
    "    {\"name\": \"UTEX2797\", \"size\": 62000, \"cds_list\": coordlistUT2797},\n",
    "    {\"name\": \"RCC1433\", \"size\": 52000, \"cds_list\": coordlistRCC1433},\n",
    ")"
   ]
  },
  {
   "cell_type": "code",
   "execution_count": null,
   "id": "8ba4365a",
   "metadata": {},
   "outputs": [],
   "source": [
    "gv = GenomeViz(align_type=\"center\", tick_style=\"bar\")\n",
    "for genome in genome_list:\n",
    "    name, size, cds_list = genome[\"name\"], genome[\"size\"], genome[\"cds_list\"]\n",
    "    track = gv.add_feature_track(name, size)\n",
    "    for cds in cds_list:\n",
    "        start, end, strand, geneid = cds\n",
    "        if name == 'UTEX2797':\n",
    "            if geneid in viralgenes:\n",
    "                track.add_feature(start, end, strand, label=geneid, labelvpos=\"top\", facecolor=\"#33a02c\")\n",
    "            else:\n",
    "                track.add_feature(start, end, strand, label=geneid, labelvpos=\"top\", facecolor=\"#525252\")\n",
    "\n",
    "        else:\n",
    "            track.add_feature(start, end, strand, label=geneid, labelvpos=\"bottom\", labelrotation=-45, facecolor=\"#525252\")\n",
    "\n",
    "#fig = gv.plotfig()"
   ]
  },
  {
   "cell_type": "code",
   "execution_count": null,
   "id": "c2f47165",
   "metadata": {},
   "outputs": [],
   "source": [
    "ogfile = '../../../figshare/orthofinder/Orthogroups/Orthogroups_including_singletons.txt'\n",
    "fi = open(ogfile)\n",
    "\n",
    "for line in fi:\n",
    "    col = line.rstrip().split('\\t')\n",
    "    if len(col) >= 11:\n",
    "        og = col[0]\n",
    "        genesRCC1433 = col[10].split(', ')\n",
    "        genesUT2797 = col[2].split(', ')\n",
    "\n",
    "        #print(genesRCC1433,genesUT2797)\n",
    "\n",
    "        for gene1 in genesRCC1433:\n",
    "            gene1 = gene1.split('.')[0]\n",
    "            if gene1 in genelistRCC1433:\n",
    "                #print(gene)\n",
    "                for gene2 in genesUT2797:\n",
    "                    gene2 = gene2.split('.')[0]\n",
    "                    if gene2 in genelistUT2797:\n",
    "                        #print(gene1, gene2)\n",
    "                        if gene2 == 'g6303':\n",
    "                            gv.add_link(coorddictUT2797[gene2], coorddictRCC1433[gene1], normal_color=\"#b2df8a\", inverted_color=\"#b2df8a\")\n",
    "                        else:\n",
    "                            gv.add_link(coorddictUT2797[gene2], coorddictRCC1433[gene1], normal_color=\"#bdbdbd\", inverted_color=\"#fc9272\")\n",
    "\n",
    "\n",
    "fi.close()\n",
    "\n",
    "gv.savefig(\"UTEX2797_v_RCC1433.pdf\")"
   ]
  },
  {
   "cell_type": "code",
   "execution_count": null,
   "id": "4835bd4d",
   "metadata": {},
   "outputs": [],
   "source": []
  },
  {
   "cell_type": "code",
   "execution_count": null,
   "id": "72a15e41",
   "metadata": {},
   "outputs": [],
   "source": []
  },
  {
   "cell_type": "markdown",
   "id": "ed2657c2",
   "metadata": {},
   "source": [
    "# RCC1433 versus CCMP2941"
   ]
  },
  {
   "cell_type": "code",
   "execution_count": null,
   "id": "684a5436",
   "metadata": {},
   "outputs": [],
   "source": [
    "genelistRCC1433 = ['g22707', 'g22708', 'g22709', 'g22710', 'g22711', 'g22712', 'g22713', 'g22714', 'g22715', 'g22716', 'g22717', 'g22718', 'g22719', 'g22720', 'g22721', 'g22722', 'g22723', 'g22724', 'g22725', 'g22726', 'g22727', 'g22728', 'g22729', 'g22730', 'g22731', 'g22732', 'g22733', 'g22734', 'g22735', 'g22736', 'g22737', 'g22738', 'g22739', 'g22740', 'g22741', 'g22742', 'g22743', 'g22744']\n",
    "genelistCCMP2941 = ['g11694', 'g11695', 'g11696', 'g11697', 'g11698', 'g11699', 'g11700', 'g11701', 'g11702']"
   ]
  },
  {
   "cell_type": "code",
   "execution_count": null,
   "id": "1a3b0e71",
   "metadata": {},
   "outputs": [],
   "source": [
    "# create coord list for RCC1433\n",
    "gffile = '../../../figshare/annotation/genes_illumina_assembly/RCC1433.gff3'\n",
    "fi = open(gffile)\n",
    "\n",
    "coorddictRCC1433 = {}\n",
    "coordlistRCC1433 = []\n",
    "\n",
    "for line in fi:\n",
    "    col = line.rstrip().split('\\t')\n",
    "    if col[2] == 'gene':\n",
    "        start = int(col[3])\n",
    "        end = int(col[4])\n",
    "        strand = 1\n",
    "        if col[6] == '-':\n",
    "            strand = -1\n",
    "        gene = col[8].split('ID=')[1].split(';')[0]\n",
    "        \n",
    "        if gene in genelistRCC1433:\n",
    "            #print(gene, start, end)\n",
    "            genelist = [start, end, strand, gene]\n",
    "            coordlistRCC1433.append(genelist)\n",
    "            if strand == 1:\n",
    "                coorddictRCC1433[gene] = ['RCC1433', start, end]\n",
    "            else:\n",
    "                coorddictRCC1433[gene] = ['RCC1433', end, start]\n",
    "            \n",
    "fi.close()"
   ]
  },
  {
   "cell_type": "code",
   "execution_count": null,
   "id": "0378c827",
   "metadata": {},
   "outputs": [],
   "source": [
    "# create coord list for CCMP2941\n",
    "gffile = '../../../figshare/annotation/genes_illumina_assembly/CCMP2941.gff3'\n",
    "fi = open(gffile)\n",
    "\n",
    "coorddictCCMP2941 = {}\n",
    "coordlistCCMP2941 = []\n",
    "\n",
    "for line in fi:\n",
    "    col = line.rstrip().split('\\t')\n",
    "    if col[2] == 'gene':\n",
    "        start = int(col[3])\n",
    "        end = int(col[4])\n",
    "        strand = 1\n",
    "        if col[6] == '-':\n",
    "            strand = -1\n",
    "        gene = col[8].split('ID=')[1].split(';')[0]\n",
    "        \n",
    "        if gene in genelistCCMP2941:\n",
    "            #print(gene)\n",
    "            genelist = [start, end, strand, gene]\n",
    "            coordlistCCMP2941.append(genelist)\n",
    "            if strand == 1:\n",
    "                coorddictCCMP2941[gene] = ['CCMP2941', start, end]\n",
    "            else:\n",
    "                coorddictCCMP2941[gene] = ['CCMP2941', end, start]\n",
    "            \n",
    "fi.close()"
   ]
  },
  {
   "cell_type": "code",
   "execution_count": null,
   "id": "53fa78c0",
   "metadata": {},
   "outputs": [],
   "source": [
    "genome_list = (\n",
    "    {\"name\": \"RCC1433\", \"size\": 52000, \"cds_list\": coordlistRCC1433},\n",
    "    {\"name\": \"CCMP2941\", \"size\": 13000, \"cds_list\": coordlistCCMP2941},\n",
    ")"
   ]
  },
  {
   "cell_type": "code",
   "execution_count": null,
   "id": "c116ec62",
   "metadata": {},
   "outputs": [],
   "source": [
    "gv = GenomeViz(align_type=\"center\", tick_style=\"bar\")\n",
    "for genome in genome_list:\n",
    "    name, size, cds_list = genome[\"name\"], genome[\"size\"], genome[\"cds_list\"]\n",
    "    track = gv.add_feature_track(name, size)\n",
    "    for cds in cds_list:\n",
    "        start, end, strand, geneid = cds\n",
    "        if name == 'RCC1433':\n",
    "            track.add_feature(start, end, strand, label=geneid, labelvpos=\"top\", facecolor=\"#525252\")\n",
    "        else:\n",
    "            track.add_feature(start, end, strand, label=geneid, labelvpos=\"bottom\", labelrotation=-45, facecolor=\"#525252\")\n",
    "\n",
    "#fig = gv.plotfig()"
   ]
  },
  {
   "cell_type": "code",
   "execution_count": null,
   "id": "7beec8cf",
   "metadata": {},
   "outputs": [],
   "source": [
    "ogfile = '../../../figshare/orthofinder/Orthogroups/Orthogroups_including_singletons.txt'\n",
    "fi = open(ogfile)\n",
    "\n",
    "for line in fi:\n",
    "    col = line.rstrip().split('\\t')\n",
    "    if len(col) >= 11:\n",
    "        og = col[0]\n",
    "        genesCCMP2941 = col[4].split(', ')\n",
    "        genesRCC1433 = col[10].split(', ')\n",
    "\n",
    "        #print(genesCCMP2941,genesRCC1433)\n",
    "\n",
    "        for gene1 in genesCCMP2941:\n",
    "            gene1 = gene1.split('.')[0]\n",
    "            if gene1 in genelistCCMP2941:\n",
    "                #print(gene)\n",
    "                for gene2 in genesRCC1433:\n",
    "                    gene2 = gene2.split('.')[0]\n",
    "                    if gene2 in genelistRCC1433:\n",
    "                        #print(gene1, gene2)\n",
    "                        if gene2 == 'g22720':\n",
    "                            gv.add_link(coorddictRCC1433[gene2], coorddictCCMP2941[gene1], normal_color=\"#b2df8a\", inverted_color=\"#b2df8a\")\n",
    "                        else:\n",
    "                            gv.add_link(coorddictRCC1433[gene2], coorddictCCMP2941[gene1], normal_color=\"#bdbdbd\", inverted_color=\"#fc9272\")\n",
    "\n",
    "\n",
    "fi.close()\n",
    "\n",
    "#fig = gv.plotfig()\n",
    "gv.savefig(\"RCC1433_v_CCMP2941.pdf\")"
   ]
  },
  {
   "cell_type": "code",
   "execution_count": null,
   "id": "4b0ab1c5",
   "metadata": {},
   "outputs": [],
   "source": []
  }
 ],
 "metadata": {
  "kernelspec": {
   "display_name": "Python (My pygenomeviz Kernel)",
   "language": "python",
   "name": "pygenomeviz"
  },
  "language_info": {
   "codemirror_mode": {
    "name": "ipython",
    "version": 3
   },
   "file_extension": ".py",
   "mimetype": "text/x-python",
   "name": "python",
   "nbconvert_exporter": "python",
   "pygments_lexer": "ipython3",
   "version": "3.7.6"
  }
 },
 "nbformat": 4,
 "nbformat_minor": 5
}
