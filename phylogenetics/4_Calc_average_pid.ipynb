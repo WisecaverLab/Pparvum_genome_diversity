{
 "cells": [
  {
   "cell_type": "markdown",
   "metadata": {},
   "source": [
    "# Calculate average nucleotide identity of *Prymnesium parvum* single copy orthogroups"
   ]
  },
  {
   "cell_type": "code",
   "execution_count": null,
   "metadata": {},
   "outputs": [],
   "source": [
    "%matplotlib inline\n",
    "import matplotlib.pyplot as plt\n",
    "import pandas as pd\n",
    "#import subprocess\n",
    "#import sys\n",
    "import numpy as np\n",
    "import matplotlib.patches as patches\n",
    "import glob\n",
    "#import os\n",
    "#from scipy import stats\n",
    "#import re\n",
    "#from collections import OrderedDict\n",
    "import statistics\n",
    "from Bio import SeqIO\n",
    "from Bio import AlignIO\n",
    "import itertools"
   ]
  },
  {
   "cell_type": "markdown",
   "metadata": {},
   "source": [
    "### Define working directory"
   ]
  },
  {
   "cell_type": "code",
   "execution_count": null,
   "metadata": {},
   "outputs": [],
   "source": [
    "paramfile = '../../../figshare/orthofinder/Species_Tree/Supermatrix_in.param'\n",
    "alignment_files = '../../../figshare/orthofinder/MultipleSequenceAlignments_GUIDANCE/OG*aln'"
   ]
  },
  {
   "cell_type": "markdown",
   "metadata": {},
   "source": [
    "### Extract orthogroups used to make species tree"
   ]
  },
  {
   "cell_type": "code",
   "execution_count": null,
   "metadata": {},
   "outputs": [],
   "source": [
    "st_orthogroups=[]\n",
    "with open(paramfile) as sources:\n",
    "    for line in sources:\n",
    "        OG=line.split(', ')[1].split(' = ')[0]\n",
    "        st_orthogroups.append(OG)\n",
    "len(st_orthogroups)"
   ]
  },
  {
   "cell_type": "markdown",
   "metadata": {},
   "source": [
    "### Extract  trimmed codon alignments and calc pairwise nucleotide identity"
   ]
  },
  {
   "cell_type": "code",
   "execution_count": null,
   "metadata": {},
   "outputs": [],
   "source": [
    "ident_dict={}\n",
    "\n",
    "for alignment in glob.glob(alignment_files):\n",
    "    if 'trim' not in alignment:\n",
    "        continue\n",
    "    else:\n",
    "        OG=alignment.split('/')[-1].split('.')[0]\n",
    "        if OG in st_orthogroups:\n",
    "            records = list(SeqIO.parse(alignment, \"fasta\"))\n",
    "            combos = list(itertools.combinations(records, 2))\n",
    "\n",
    "            for combo in combos:\n",
    "                identities = 0\n",
    "                #print(combo[0].seq)\n",
    "                seq_one = combo[0].seq\n",
    "                seq_two = combo[1].seq\n",
    "                aln_len = len(seq_one)\n",
    "\n",
    "                for idx in range(0, aln_len):\n",
    "                    if seq_one[idx] == seq_two[idx]:\n",
    "                        identities += 1\n",
    "                pid = identities / aln_len\n",
    "                \n",
    "                #print(OG, combo[0].id, combo[1].id, pid)\n",
    "                \n",
    "                strainA = combo[0].id.split('_')[-1]\n",
    "                strainB = combo[1].id.split('_')[-1]\n",
    "\n",
    "                strains = [strainA,strainB]\n",
    "                strains.sort()\n",
    "                strains = '-'.join(strains)\n",
    "                #print(OG, strains, pid)\n",
    "\n",
    "                if strains in ident_dict:\n",
    "                    ident_dict[strains].append(pid)\n",
    "                else:\n",
    "                    ident_dict[strains]=[pid]\n",
    "\n"
   ]
  },
  {
   "cell_type": "markdown",
   "metadata": {},
   "source": [
    "### Prepare dict for plotting"
   ]
  },
  {
   "cell_type": "code",
   "execution_count": null,
   "metadata": {},
   "outputs": [],
   "source": [
    "count=0\n",
    "plot_dict={}\n",
    "for strains in ident_dict:\n",
    "    count+=1\n",
    "    \n",
    "    identities=ident_dict[strains]\n",
    "    strainA=strains.split('-')[0]\n",
    "    strainB=strains.split('-')[1]\n",
    "    mean=statistics.mean(identities)\n",
    "    sd=statistics.stdev(identities)\n",
    "\n",
    "    plot_dict['Comb-'+str(count)]=[strainA,strainB,mean,sd]\n",
    "    count+=1\n",
    "    plot_dict['Comb-'+str(count)]=[strainB,strainA,mean,sd]"
   ]
  },
  {
   "cell_type": "markdown",
   "metadata": {},
   "source": [
    "### Make dataframe"
   ]
  },
  {
   "cell_type": "code",
   "execution_count": null,
   "metadata": {},
   "outputs": [],
   "source": [
    "df=pd.DataFrame.from_dict(plot_dict, orient='index', columns=['StrainA', 'StrainB', '%Ident', 'SD'])\n",
    "df"
   ]
  },
  {
   "cell_type": "markdown",
   "metadata": {},
   "source": [
    "### Identitify min and max identities"
   ]
  },
  {
   "cell_type": "code",
   "execution_count": null,
   "metadata": {},
   "outputs": [],
   "source": [
    "df['%Ident'].min()"
   ]
  },
  {
   "cell_type": "code",
   "execution_count": null,
   "metadata": {},
   "outputs": [],
   "source": [
    "df['%Ident'].max()"
   ]
  },
  {
   "cell_type": "markdown",
   "metadata": {},
   "source": [
    "### pivot dataframe"
   ]
  },
  {
   "cell_type": "code",
   "execution_count": null,
   "metadata": {
    "scrolled": true
   },
   "outputs": [],
   "source": [
    "order=['12B1','UTEX2797','CCMP3037','12A1','CCMP2941','RCC3703','K0081','K0374','RCC3426','KAC39','K0252','RCC191','RCC1433','UTEX995','RCC1436']\n",
    "df_heat = df.pivot(\"StrainA\", \"StrainB\", \"%Ident\")\n",
    "df_heat = df_heat.reindex(index=order, columns=order)\n",
    "df_heat.to_csv(Rootdir+'/figshare/orthofinder/Comparative_Genomics_Statistics/strain_ident_nuc.txt', sep='\\t', header=True, index=True)\n",
    "df_heat"
   ]
  },
  {
   "cell_type": "code",
   "execution_count": null,
   "metadata": {
    "scrolled": false
   },
   "outputs": [],
   "source": [
    "import seaborn as sns\n",
    "import matplotlib.colors\n",
    "from matplotlib.colors import LinearSegmentedColormap\n",
    "\n",
    "\n",
    "Colours=['#FFFFE5', '#FFF7BC', '#FEE391', '#FEC44F', '#FB9A29', '#EC7014', '#CC4C02', '#993404', '#662506']\n",
    "\n",
    "#normalize colors to min and maxc identities\n",
    "norm=plt.Normalize(.95,1)\n",
    "\n",
    "cmap = matplotlib.colors.LinearSegmentedColormap.from_list(\"\", Colours)\n",
    "\n",
    "with sns.axes_style(\"white\"):\n",
    "    f, ax = plt.subplots(figsize=(15, 7))\n",
    "    ax = sns.heatmap(df_heat, square=True, cmap=cmap, norm=norm)\n",
    "    plt.savefig(Rootdir+'/figshare/orthofinder/Comparative_Genomics_Statistics/strain_ident_nuc_heatmap.svg',dpi=500)"
   ]
  },
  {
   "cell_type": "code",
   "execution_count": null,
   "metadata": {},
   "outputs": [],
   "source": []
  }
 ],
 "metadata": {
  "kernelspec": {
   "display_name": "Python (My env.genomics Kernel)",
   "language": "python",
   "name": "env.genomics"
  },
  "language_info": {
   "codemirror_mode": {
    "name": "ipython",
    "version": 3
   },
   "file_extension": ".py",
   "mimetype": "text/x-python",
   "name": "python",
   "nbconvert_exporter": "python",
   "pygments_lexer": "ipython3",
   "version": "3.6.10"
  }
 },
 "nbformat": 4,
 "nbformat_minor": 2
}
