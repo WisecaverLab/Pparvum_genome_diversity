{
 "cells": [
  {
   "cell_type": "markdown",
   "id": "63f175ab",
   "metadata": {},
   "source": [
    "# Prepare files for constructing a species tree\n",
    "using both super matrix and super tree approaches"
   ]
  },
  {
   "cell_type": "code",
   "execution_count": null,
   "id": "41da3b96",
   "metadata": {},
   "outputs": [],
   "source": [
    "import glob\n",
    "import os.path\n",
    "import numpy as np\n",
    "from Bio import Phylo\n",
    "from ete3 import PhyloTree\n",
    "from Bio import SeqIO"
   ]
  },
  {
   "cell_type": "code",
   "execution_count": null,
   "id": "42de38ea",
   "metadata": {},
   "outputs": [],
   "source": [
    "ogdir = '../../figshare/orthofinder/'\n",
    "ogfile = ogdir + 'Orthogroups/Orthogroups.GeneCount.tsv'\n",
    "ogtreedir = ogdir + 'Gene_Trees_IQTREE/'\n",
    "ogalndir = ogdir + 'MultipleSequenceAlignments_GUIDANCE/'\n",
    "\n",
    "intreefile = ogdir + 'Species_Tree/Supertree_in.tree'\n",
    "inalnfile = ogdir + 'Species_Tree/Supermatrix_in.aln'\n",
    "inparamfile = ogdir + 'Species_Tree/Supermatrix_in.param'\n",
    "inparamprotfile = ogdir + 'Species_Tree/Supermatrix_in.param_prot'\n",
    "\n",
    "astral_treefile = ogdir + 'Species_Tree/Supertree_astral.tree'\n",
    "iqtree_base = ogdir + 'Species_Tree/Supermatrix_iqtree'"
   ]
  },
  {
   "cell_type": "code",
   "execution_count": null,
   "id": "4512da4a",
   "metadata": {},
   "outputs": [],
   "source": [
    "scogs = set()\n",
    "\n",
    "fi = open(ogfile)\n",
    "\n",
    "for line in fi:\n",
    "    genecounts =  line.rstrip().split('\\t')\n",
    "    og = genecounts.pop(0)\n",
    "    total = genecounts.pop(-1)\n",
    "    #print(og,total)\n",
    "    \n",
    "    if og == 'Orthogroup':\n",
    "        continue\n",
    "\n",
    "    genecounts = list(map(int, genecounts))\n",
    "    if sum(np.array(genecounts)>1) == 0:\n",
    "        if genecounts.count(0) == 0:\n",
    "            intree = ogtreedir + og + '.mpr.tree'\n",
    "            if os.path.exists(intree) == False:\n",
    "                continue \n",
    "            scogs.add(og)\n",
    "    \n",
    "fi.close()"
   ]
  },
  {
   "cell_type": "code",
   "execution_count": null,
   "id": "f979f612",
   "metadata": {},
   "outputs": [],
   "source": [
    "print(\"Number of orthogroups for species tree:\", len(scogs))"
   ]
  },
  {
   "cell_type": "code",
   "execution_count": null,
   "id": "29ed8d28",
   "metadata": {},
   "outputs": [],
   "source": []
  },
  {
   "cell_type": "markdown",
   "id": "b8863ab2",
   "metadata": {},
   "source": [
    "# Construct Super Tree Species Tree\n",
    "https://github.com/smirarab/ASTRAL"
   ]
  },
  {
   "cell_type": "code",
   "execution_count": null,
   "id": "f9809d00",
   "metadata": {},
   "outputs": [],
   "source": [
    "phasepairs = {}\n",
    "treelist = []\n",
    "for og in scogs:\n",
    "    ogtreefile = ogtreedir + og + '/' + og + '.contree'\n",
    "    tree = Phylo.read(ogtreefile, \"newick\")\n",
    "    phasepairs[og] = []\n",
    "    \n",
    "    for term in tree.get_terminals():\n",
    "        #print(term.name)\n",
    "        species = term.name.split('_')[-1]\n",
    "        if species == 'UTEX2797' or species == '12B1':\n",
    "            phasepairs[og].append(term.name)\n",
    "        #print(species)\n",
    "        term.name = species\n",
    "    \n",
    "    treelist.append(tree)\n",
    "    \n",
    "Phylo.write(treelist, intreefile, \"newick\")\n"
   ]
  },
  {
   "cell_type": "code",
   "execution_count": null,
   "id": "fc314fe2",
   "metadata": {},
   "outputs": [],
   "source": [
    "fo = open(ogdir + 'Species_Tree/single_copy_genes_phasegenomes.txt', 'w')\n",
    "\n",
    "for og in phasepairs:\n",
    "    fo.write(og + '\\t' + ', '.join(phasepairs[og]) + '\\n')\n",
    "fo.close()"
   ]
  },
  {
   "cell_type": "markdown",
   "id": "b0b2b366",
   "metadata": {},
   "source": [
    "# Run ASTRAL"
   ]
  },
  {
   "cell_type": "code",
   "execution_count": null,
   "id": "31775f4c",
   "metadata": {},
   "outputs": [],
   "source": [
    "! java -jar /depot/jwisecav/apps/bell/ASTRAL-5.7.1/Astral/astral.5.7.1.jar \\\n",
    "  -i {intreefile} \\\n",
    "  -o {astral_treefile} \\\n",
    "  2> {astral_treefile}.log"
   ]
  },
  {
   "cell_type": "markdown",
   "id": "86633b26",
   "metadata": {},
   "source": [
    "# Construct Super Matrix Species Tree\n",
    "http://www.iqtree.org/doc/Complex-Models\n",
    "\n",
    "```\n",
    "DNA, part1 = 1-100\n",
    "DNA, part2 = 101-384\n",
    "```"
   ]
  },
  {
   "cell_type": "code",
   "execution_count": null,
   "id": "cf574e0d",
   "metadata": {},
   "outputs": [],
   "source": [
    "seqDict = {}\n",
    "for og in scogs:\n",
    "    ogalnfile = ogalndir + og + '.trim.aln'\n",
    "\n",
    "    for seq_record in SeqIO.parse(ogalnfile, \"fasta\"):\n",
    "        sequence = str(seq_record.seq)\n",
    "        strain = seq_record.id.split('_')[-1]\n",
    "        #print(strain)\n",
    "\n",
    "        if strain not in seqDict:\n",
    "            seqDict[strain] = {}\n",
    "            \n",
    "        seqDict[strain][og] = sequence"
   ]
  },
  {
   "cell_type": "code",
   "execution_count": null,
   "id": "add3764f",
   "metadata": {},
   "outputs": [],
   "source": [
    "fo = open(inparamfile, 'w')\n",
    "start = 0\n",
    "first = next(iter(seqDict.keys()))\n",
    "for og in seqDict[first]:\n",
    "    start += 1\n",
    "    end = int(start + len(seqDict[first][og]) - 1)\n",
    "    fo.write('DNA, ' + og + ' = ' + str(start) + '-' + str(end) + '\\n')\n",
    "    start = end\n",
    "\n",
    "fo.close()"
   ]
  },
  {
   "cell_type": "code",
   "execution_count": null,
   "id": "6e91504c",
   "metadata": {},
   "outputs": [],
   "source": [
    "fo = open(inparamprotfile, 'w')\n",
    "start = 0\n",
    "first = next(iter(seqDict.keys()))\n",
    "for og in seqDict[first]:\n",
    "    start += 1\n",
    "    end = int(start + (len(seqDict[first][og]) / 3) - 1)\n",
    "    fo.write('DNA, ' + og + ' = ' + str(start) + '-' + str(end) + '\\n')\n",
    "    start = end\n",
    "\n",
    "fo.close()"
   ]
  },
  {
   "cell_type": "code",
   "execution_count": null,
   "id": "711a1080",
   "metadata": {},
   "outputs": [],
   "source": [
    "fo = open(inalnfile, 'w')\n",
    "for strain in seqDict:\n",
    "    fo.write('>' + strain + '\\n')\n",
    "    for og in seqDict[strain]:\n",
    "        fo.write(seqDict[strain][og])\n",
    "    fo.write('\\n')\n",
    "\n",
    "fo.close()"
   ]
  },
  {
   "cell_type": "markdown",
   "id": "18142581",
   "metadata": {},
   "source": [
    "# Run IQ-TREE\n",
    "\n",
    "```\n",
    "scripts/3_run_supermatrix_speciestree.sub \n",
    "```"
   ]
  }
 ],
 "metadata": {
  "kernelspec": {
   "display_name": "Python (My env.genomics Kernel)",
   "language": "python",
   "name": "env.genomics"
  },
  "language_info": {
   "codemirror_mode": {
    "name": "ipython",
    "version": 3
   },
   "file_extension": ".py",
   "mimetype": "text/x-python",
   "name": "python",
   "nbconvert_exporter": "python",
   "pygments_lexer": "ipython3",
   "version": "3.6.10"
  }
 },
 "nbformat": 4,
 "nbformat_minor": 5
}
