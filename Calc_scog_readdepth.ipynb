{
 "cells": [
  {
   "cell_type": "code",
   "execution_count": null,
   "id": "77d256bc",
   "metadata": {},
   "outputs": [],
   "source": [
    "import glob\n",
    "from Bio import SeqIO\n",
    "import statistics\n"
   ]
  },
  {
   "cell_type": "code",
   "execution_count": null,
   "id": "d11befc0",
   "metadata": {},
   "outputs": [],
   "source": [
    "strains=[ 'K0081', 'K0374', 'RCC191', 'CCMP3037', '12A1', 'UTEX995', 'RCC3703', '12B1', 'RCC1436', 'KAC39', 'CCMP2941', 'UTEX2797', 'RCC1433', 'RCC3426', 'K0252' ]"
   ]
  },
  {
   "cell_type": "code",
   "execution_count": null,
   "id": "2f0e1a7e",
   "metadata": {},
   "outputs": [],
   "source": [
    "paramfile = '../../figshare/orthofinder/Species_Tree/Supermatrix_in.param'\n",
    "alignment_files = '../../figshare/orthofinder/MultipleSequenceAlignments_GUIDANCE/OG*aln'\n",
    "gff_files = '../../figshare/annotation/genes_illumina_assembly/*.gff3'"
   ]
  },
  {
   "cell_type": "code",
   "execution_count": null,
   "id": "3b4916af",
   "metadata": {},
   "outputs": [],
   "source": [
    "st_orthogroups=[]\n",
    "with open(paramfile) as sources:\n",
    "    for line in sources:\n",
    "        OG=line.split(', ')[1].split(' = ')[0]\n",
    "        st_orthogroups.append(OG)\n",
    "len(st_orthogroups)"
   ]
  },
  {
   "cell_type": "code",
   "execution_count": null,
   "id": "5e555e3c",
   "metadata": {},
   "outputs": [],
   "source": [
    "scogDict = {}\n",
    "for strain in strains:\n",
    "    scogDict[strain] = set()\n",
    "\n",
    "for alignment in glob.glob(alignment_files):\n",
    "    if 'trim' not in alignment:\n",
    "        continue\n",
    "    else:\n",
    "        OG=alignment.split('/')[-1].split('.')[0]\n",
    "        if OG in st_orthogroups:\n",
    "            for record in SeqIO.parse(alignment, \"fasta\"):\n",
    "                #print(record.id)\n",
    "                record_strain = record.id.split('_')[-1]\n",
    "                record_gene = record.id.split('.')[0]\n",
    "                \n",
    "                scogDict[record_strain].add(record_gene)\n"
   ]
  },
  {
   "cell_type": "code",
   "execution_count": null,
   "id": "08465a3c",
   "metadata": {},
   "outputs": [],
   "source": [
    "for strain in scogDict:\n",
    "    print(strain, len(scogDict[record_strain]))"
   ]
  },
  {
   "cell_type": "code",
   "execution_count": null,
   "id": "751f0d45",
   "metadata": {},
   "outputs": [],
   "source": [
    "for gff_file in glob.glob(gff_files):\n",
    "    #print(gff_file)\n",
    "    strain = gff_file.split('/')[-1].split('.')[0]\n",
    "    \n",
    "    outfile = strain + '_scogs.bed'\n",
    "    \n",
    "    #print(strain)\n",
    "    count = 0\n",
    "    fi = open(gff_file)\n",
    "    fo = open(outfile, 'w')\n",
    "    \n",
    "    for line in fi:\n",
    "        col = line.rstrip().split('\\t')\n",
    "        new_scafid = 'scaf' + col[0] + '-' + strain\n",
    "        ftype = col[2]\n",
    "        #print(new_scafid, ftype)\n",
    "        \n",
    "        if ftype == 'gene':\n",
    "            gid = col[8].split('=')[1].split(';')[0]\n",
    "            #print(gid)\n",
    "            if gid in scogDict[strain]:\n",
    "                start = col[3]\n",
    "                stop = col[4]\n",
    "                #print(gid)\n",
    "                count += 1\n",
    "                \n",
    "                #print(new_scafid, start, stop, gid)\n",
    "                fo.write(new_scafid + '\\t' + start + '\\t' + stop + '\\t' + gid + '\\n')\n",
    "                \n",
    "                \n",
    "    #print(strain, count)\n",
    "        \n",
    "    \n",
    "    \n",
    "    fi.close()\n",
    "    fo.close()"
   ]
  },
  {
   "cell_type": "code",
   "execution_count": null,
   "id": "d9b5a398",
   "metadata": {},
   "outputs": [],
   "source": [
    "strain = 'UTEX2797'\n",
    "gff_file = '../../figshare/annotation/genes_scaffolded_assembly/UTEX2797_v1.gff''\n",
    "outfile = strain + '_scogs.bed'\n",
    "\n",
    "#print(strain)\n",
    "count = 0\n",
    "fi = open(gff_file)\n",
    "fo = open(outfile, 'w')\n",
    "\n",
    "for line in fi:\n",
    "    col = line.rstrip().split('\\t')\n",
    "    new_scafid = col[0]\n",
    "    ftype = col[2]\n",
    "    #print(new_scafid, ftype)\n",
    "\n",
    "    if ftype == 'gene':\n",
    "        gid = col[8].split('=UTEX2797')[1].split(';')[0]\n",
    "        #print(gid)\n",
    "        if gid in scogDict[strain]:\n",
    "            start = col[3]\n",
    "            stop = col[4]\n",
    "            #print(gid)\n",
    "            count += 1\n",
    "\n",
    "            #print(new_scafid, start, stop, gid)\n",
    "            fo.write(new_scafid + '\\t' + start + '\\t' + stop + '\\t' + gid + '\\n')\n",
    "\n",
    "\n",
    "#print(strain, count)\n",
    "\n",
    "\n",
    "\n",
    "fi.close()\n",
    "fo.close()"
   ]
  },
  {
   "cell_type": "code",
   "execution_count": null,
   "id": "406b6b61",
   "metadata": {},
   "outputs": [],
   "source": [
    "strain = '12B1'\n",
    "gff_file = '../../figshare/annotation/genes_scaffolded_assembly/12B1_v1.gff'\n",
    "outfile = strain + '_scogs.bed'\n",
    "\n",
    "#print(strain)\n",
    "count = 0\n",
    "fi = open(gff_file)\n",
    "fo = open(outfile, 'w')\n",
    "\n",
    "for line in fi:\n",
    "    col = line.rstrip().split('\\t')\n",
    "    new_scafid = col[0]\n",
    "    ftype = col[2]\n",
    "    #print(new_scafid, ftype)\n",
    "\n",
    "    if ftype == 'gene':\n",
    "        gid = col[8].split('=12B1')[1].split(';')[0]\n",
    "        #print(gid)\n",
    "        if gid in scogDict[strain]:\n",
    "            start = col[3]\n",
    "            stop = col[4]\n",
    "            #print(gid)\n",
    "            count += 1\n",
    "\n",
    "            #print(new_scafid, start, stop, gid)\n",
    "            fo.write(new_scafid + '\\t' + start + '\\t' + stop + '\\t' + gid + '\\n')\n",
    "\n",
    "\n",
    "#print(strain, count)\n",
    "\n",
    "\n",
    "\n",
    "fi.close()\n",
    "fo.close()"
   ]
  },
  {
   "cell_type": "markdown",
   "id": "ab7a42b5",
   "metadata": {},
   "source": [
    "`bedtools coverage -mean -a ${STRAIN}_scogs.bed -b ${STRAIN}_self_refv1.sorted.bam > ${STRAIN}_scogs_mean_cov.bed`"
   ]
  },
  {
   "cell_type": "code",
   "execution_count": null,
   "id": "08e12921",
   "metadata": {},
   "outputs": [],
   "source": [
    "outfile = 'figures/scog_coverage.Rin'\n",
    "fo = open(outfile, 'w')\n",
    "fo.write('strain\\tgene\\tcov\\n')\n",
    "\n",
    "for bedfile in glob.glob('../../figshare/orthofinder/SCOG_Read_Depth/*scogs_mean_cov.bed'):\n",
    "    #print(bedfile)\n",
    "    strain = bedfile.split('_')[0]\n",
    "    covList = []\n",
    "    \n",
    "    fi = open(bedfile)\n",
    "    \n",
    "    for line in fi:\n",
    "        scaf, start, stop, gene, cov = line.rstrip().split('\\t')\n",
    "        \n",
    "        fo.write(strain + '\\t' + gene + '\\t' + cov + '\\n')\n",
    "        #print(gene,cov)\n",
    "        covList.append(float(cov))\n",
    "    \n",
    "    fi.close()\n",
    "    \n",
    "    print(strain, statistics.median(covList), )\n",
    "    \n",
    "fo.close()"
   ]
  },
  {
   "cell_type": "code",
   "execution_count": null,
   "id": "664b1c9f",
   "metadata": {},
   "outputs": [],
   "source": []
  }
 ],
 "metadata": {
  "kernelspec": {
   "display_name": "Python (My env.genomics Kernel)",
   "language": "python",
   "name": "env.genomics"
  },
  "language_info": {
   "codemirror_mode": {
    "name": "ipython",
    "version": 3
   },
   "file_extension": ".py",
   "mimetype": "text/x-python",
   "name": "python",
   "nbconvert_exporter": "python",
   "pygments_lexer": "ipython3",
   "version": "3.6.10"
  }
 },
 "nbformat": 4,
 "nbformat_minor": 5
}
