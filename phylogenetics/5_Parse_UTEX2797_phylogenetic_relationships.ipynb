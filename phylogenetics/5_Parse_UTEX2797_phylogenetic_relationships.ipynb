{
 "cells": [
  {
   "cell_type": "code",
   "execution_count": null,
   "id": "b18bcc8a",
   "metadata": {},
   "outputs": [],
   "source": [
    "import glob\n",
    "from Bio import Phylo\n",
    "from Bio.Phylo.PhyloXML import Phylogeny"
   ]
  },
  {
   "cell_type": "code",
   "execution_count": null,
   "id": "075c7908",
   "metadata": {},
   "outputs": [],
   "source": [
    "gfffile =  '../../../figshare/annotation/genes_scaffolded_assembly/UTEX2797_v1.gff3'\n",
    "treefiles = glob.glob('../../../figshare/orthofinder/Gene_Trees_IQTREE/*.ntr.tree')\n",
    "\n",
    "support_threshold = 0\n",
    "outfile = '../../../figshare/orthofinder/Comparative_Genomics_Statistics/UTEX2797_sisrels_support' + str(support_threshold) + '.txt'\n",
    "bedfile1 = '../../../figshare/orthofinder/Comparative_Genomics_Statistics/UTEX2797_sisrels_orange' + str(support_threshold) + '.bed'\n",
    "bedfile2 = '../../../figshare/orthofinder/Comparative_Genomics_Statistics/UTEX2797_sisrels_pink' + str(support_threshold) + '.bed'\n",
    "\n",
    "#len(treefiles)"
   ]
  },
  {
   "cell_type": "code",
   "execution_count": null,
   "id": "016f4ae0",
   "metadata": {},
   "outputs": [],
   "source": [
    "geneDict = {}\n",
    "\n",
    "fi = open(gfffile)\n",
    "\n",
    "for line in fi:\n",
    "    feature = line.split('\\t')[2]\n",
    "    \n",
    "    if feature != 'gene':\n",
    "        continue\n",
    "\n",
    "    gene = line.split('\\t')[8].split(';')[0].split('=')[1]\n",
    "\n",
    "    scaffold = line.split('\\t')[0]\n",
    "    start = int(line.split('\\t')[3])\n",
    "    stop = int(line.split('\\t')[4])\n",
    "\n",
    "    geneDict[gene] = [scaffold, start, stop]\n",
    "    #print(gene, scaffold)\n",
    "\n",
    "fi.close()"
   ]
  },
  {
   "cell_type": "markdown",
   "id": "1c14b8d4",
   "metadata": {},
   "source": [
    "### Given a minimum bootstrap support value, iterate through each gene tree and:\n",
    "1. Identitfy all UTEX2797 genes\n",
    "2. For each gene, move up the tree to find the first node meeting the minimum bootstrap support\n",
    "3. Collect all descendants of that node as sister strains to that gene "
   ]
  },
  {
   "cell_type": "code",
   "execution_count": null,
   "id": "c6c307b6",
   "metadata": {},
   "outputs": [],
   "source": [
    "def all_parents(tree):\n",
    "    parents = {}\n",
    "    for clade in tree.find_clades(order=\"level\"):\n",
    "        for child in clade:\n",
    "            parents[child] = clade\n",
    "    return parents"
   ]
  },
  {
   "cell_type": "code",
   "execution_count": null,
   "id": "4f01f50e",
   "metadata": {},
   "outputs": [],
   "source": [
    "def get_support(node):\n",
    "    support = 0\n",
    "    try:\n",
    "        int(node.confidence)\n",
    "    except TypeError:\n",
    "        pass\n",
    "    else:\n",
    "        support = int(node.confidence)\n",
    "    return support"
   ]
  },
  {
   "cell_type": "code",
   "execution_count": null,
   "id": "4b64de64",
   "metadata": {},
   "outputs": [],
   "source": [
    "informative_trees = set()\n",
    "\n",
    "fo = open(outfile, 'w')\n",
    "fo.write('# Orthogroup\\tUTEX2797 gene\\tUltrafast bootstrap support\\tSister strains\\n')\n",
    "\n",
    "bo1 = open(bedfile1, 'w')\n",
    "bo1.write('# Sister relationships that correspond to predicted subgenomes\\n')\n",
    "bo1.write('# orange: UTEX2797 groups with 12B1 and/or CCMP3037\\n')\n",
    "\n",
    "bo2 = open(bedfile2, 'w')\n",
    "bo2.write('# Sister relationships that correspond to predicted subgenomes\\n')\n",
    "bo2.write('# pink: UTEX2797 groups with RCC3703 and/or CCMP2941\\n')\n",
    "\n",
    "orange_set = {'12B1', 'CCMP3037'}\n",
    "pink_set = {'RCC3703', 'CCMP2941'}\n",
    "\n",
    "for treefile in treefiles:\n",
    "    orthogroup = treefile.split('/')[-1].split('.')[0]\n",
    "    #print(orthogroup)\n",
    "    \n",
    "    tree = Phylo.read(treefile, 'newick')\n",
    "    tree.rooted = True\n",
    "\n",
    "    parents = all_parents(tree)\n",
    "    \n",
    "    for gene in tree.get_terminals(): # for each leaf in tree\n",
    "        if 'UTEX2797' in str(gene): # if it is a 2797 gene\n",
    "            \n",
    "            node = gene\n",
    "            parent = parents[node]\n",
    "            support = get_support(parent)\n",
    "            i = len(tree.get_path(gene))\n",
    "\n",
    "            sister_set = set()\n",
    "            for leaf in parent.get_terminals(): \n",
    "                strain = str(leaf).split('_')[1]\n",
    "                if strain == 'UTEX2797': \n",
    "                    continue\n",
    "                else:                 \n",
    "                    sister_set.add(strain)\n",
    "\n",
    "            #print(node, parent, parent.confidence, sister_set)\n",
    "\n",
    "            while support < support_threshold and i > 1 or len(sister_set) == 0:\n",
    "                node = parent\n",
    "                parent = parents[node]\n",
    "                support = get_support(parent)\n",
    "                i = i - 1\n",
    "                \n",
    "                sister_set = set()\n",
    "                for leaf in parent.get_terminals(): \n",
    "                    strain = str(leaf).split('_')[1]\n",
    "                    if strain == 'UTEX2797': \n",
    "                        continue\n",
    "                    else:                 \n",
    "                        sister_set.add(strain)\n",
    "\n",
    "                \n",
    "            if support >= support_threshold:\n",
    "                #print(orthogroup, gene)\n",
    "                \n",
    "                informative_trees.add(orthogroup)                \n",
    "                fo.write(orthogroup + '\\t' + str(gene) + '\\t' + str(support) + '\\t' + ', '.join(sister_set) + '\\n')\n",
    "\n",
    "                gene = 'UTEX2797' + str(gene).split('.')[0]\n",
    "                scaffold = geneDict[str(gene)][0]\n",
    "                start = geneDict[str(gene)][1]\n",
    "                stop = geneDict[str(gene)][2]\n",
    "                \n",
    "                if len(sister_set) == 0:\n",
    "                    print('warning: UTEX2797 has no sisters', orthogroup, gene)\n",
    "                    continue\n",
    "\n",
    "                if len(sister_set - orange_set) == 0:\n",
    "                    bo1.write(scaffold + '\\t' + str(start) + '\\t' + str(stop) + '\\t' + orthogroup + '_' + gene + '_orange\\n')#can add gene ID here\n",
    "\n",
    "                if len(sister_set - pink_set) == 0:\n",
    "                    bo2.write(scaffold + '\\t' + str(start) + '\\t' + str(stop) + '\\t' + orthogroup + '_' + gene + '_pink\\n')#can add gene ID here\n",
    "\n",
    "fo.close()      \n",
    "bo1.close()\n",
    "bo2.close()"
   ]
  },
  {
   "cell_type": "code",
   "execution_count": null,
   "id": "df6a09a1",
   "metadata": {},
   "outputs": [],
   "source": [
    "print(len(informative_trees), ' Gene trees passed support value cutoff')\n",
    "print(len(informative_trees)/len(treefiles)*100, '% of input trees ')"
   ]
  },
  {
   "cell_type": "code",
   "execution_count": null,
   "id": "67756e58",
   "metadata": {},
   "outputs": [],
   "source": []
  }
 ],
 "metadata": {
  "kernelspec": {
   "display_name": "Python (My env.genomics Kernel)",
   "language": "python",
   "name": "env.genomics"
  },
  "language_info": {
   "codemirror_mode": {
    "name": "ipython",
    "version": 3
   },
   "file_extension": ".py",
   "mimetype": "text/x-python",
   "name": "python",
   "nbconvert_exporter": "python",
   "pygments_lexer": "ipython3",
   "version": "3.6.10"
  }
 },
 "nbformat": 4,
 "nbformat_minor": 5
}
