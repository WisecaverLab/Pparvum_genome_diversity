{
 "cells": [
  {
   "cell_type": "code",
   "execution_count": null,
   "id": "5ae986ee",
   "metadata": {},
   "outputs": [],
   "source": [
    "# Wisecaver et al. 2022\n",
    "# Goal: Telomere searching in scaffolded assemblies of P. parvum isolates\n",
    "# Author: A Pendleton\n",
    "# Date: 2022-09-07"
   ]
  },
  {
   "cell_type": "code",
   "execution_count": null,
   "id": "55898942",
   "metadata": {},
   "outputs": [],
   "source": [
    "from Bio.Seq import Seq"
   ]
  },
  {
   "cell_type": "markdown",
   "id": "8ca9dc52",
   "metadata": {},
   "source": [
    "______"
   ]
  },
  {
   "cell_type": "markdown",
   "id": "adc47f46",
   "metadata": {},
   "source": [
    "# Goal\n",
    "Can we extract the termini of scaffolds to find telomeric repeats? \n",
    "\n",
    "**Question**: Do we have end-end chromosomal assemblies for some of these scaffolds? "
   ]
  },
  {
   "cell_type": "markdown",
   "id": "a84ae492",
   "metadata": {},
   "source": [
    "______"
   ]
  },
  {
   "cell_type": "markdown",
   "id": "de391ace",
   "metadata": {},
   "source": [
    "## Input files"
   ]
  },
  {
   "cell_type": "markdown",
   "id": "dcfe6f63",
   "metadata": {},
   "source": [
    "### Define genome fasta file and its index\n",
    "The index file is generated through the command `samtools faidx <FASTA>` which will generate a `.fai` file that is simply the chromosomes/scaffolds and their lengths."
   ]
  },
  {
   "cell_type": "code",
   "execution_count": null,
   "id": "c90d7742",
   "metadata": {},
   "outputs": [],
   "source": [
    "genomeFasta = '../../../figshare/scaffolded_assemblies/UTEX2797_scaffolds_v1.fasta'\n",
    "\n",
    "#Index is simply <FASTA> + .fai\n",
    "genomeFastaIndex = genomeFasta + '.fai'"
   ]
  },
  {
   "cell_type": "markdown",
   "id": "9dd0c014",
   "metadata": {},
   "source": [
    "______"
   ]
  },
  {
   "cell_type": "markdown",
   "id": "8f539791",
   "metadata": {},
   "source": [
    "# Step 1 - Run TRF\n",
    "Tandem repeat finder will identify repeat stretches that we can then parse to identify canonical telomeric repeats. \n",
    "\n",
    "The TRF program simply needs the FASTA file to run. \n",
    "\n",
    "An example submit script on a slurm operating system for running the program is below:"
   ]
  },
  {
   "cell_type": "raw",
   "id": "35fd5900",
   "metadata": {},
   "source": [
    "#!/bin/bash\n",
    "#SBATCH --job-name=TRF\n",
    "#SBATCH --account=jwisecav\n",
    "#SBATCH --mail-user=pendlea@purdue.edu\n",
    "#SBATCH --mail-type=END,FAIL\n",
    "#SBATCH --nodes=1\n",
    "#SBATCH --ntasks=8\n",
    "#SBATCH --time=0-40:00:00\n",
    "#SBATCH --output=%x.o%j\n",
    "#SBATCH --error=%x.e%j\n",
    "\n",
    "#USAGE\n",
    "#sbatch run_TRF.sh <FASTA FILE>\n",
    "# The script will then write all of its outfiles as <FASTA>.dat and <FASTA>.masked\n",
    "#VERSION INFO\n",
    "\n",
    "#Tandem Repeats Finder, Version 4.09\n",
    "#Copyright (C) Dr. Gary Benson 1999-2012. All rights reserved.\n",
    "\n",
    "#User manual is found online\n",
    "\n",
    "#User defined variables\n",
    "FASTA='../../../3_Assembly/3_Phase/UTEX2797_scaffolds_v1.fasta'\n",
    "\n",
    "#Load TRF modules/program\n",
    "module load bioinfo trf\n",
    "\n",
    "#Run trf on the genome assembly\n",
    "echo \"trf ${FASTA} 2 7 7 80 10 50 500 -f -d -m -h\"\n",
    "trf ${FASTA} 2 7 7 80 10 50 500 -f -d -m -h \n",
    "\n",
    "echo \"DONE\""
   ]
  },
  {
   "cell_type": "markdown",
   "id": "e837fc75",
   "metadata": {},
   "source": [
    "#### Script usage:\n",
    "\n",
    "    `sbatch run_TRF.sh <FASTA>` "
   ]
  },
  {
   "cell_type": "markdown",
   "id": "89647b7e",
   "metadata": {},
   "source": [
    "### Resulting `.dat` outfile from TRF below\n",
    "This is for 12B1 scaffolded assembly v1."
   ]
  },
  {
   "cell_type": "code",
   "execution_count": null,
   "id": "18046172",
   "metadata": {},
   "outputs": [],
   "source": [
    "trf_outFile = '../../../figshare/annotation/telomeres/UTEX2797_scaffolds_v1.fasta.2.7.7.80.10.50.500.dat'"
   ]
  },
  {
   "cell_type": "code",
   "execution_count": null,
   "id": "e29a169f",
   "metadata": {},
   "outputs": [],
   "source": [
    "#Check that this file exists\n",
    "! ls {trf_outFile}"
   ]
  },
  {
   "cell_type": "markdown",
   "id": "dd8500b4",
   "metadata": {},
   "source": [
    "______"
   ]
  },
  {
   "cell_type": "markdown",
   "id": "b52275f3",
   "metadata": {},
   "source": [
    "# Step 2 - Parse TRF output files"
   ]
  },
  {
   "cell_type": "markdown",
   "id": "5b41da71",
   "metadata": {},
   "source": [
    "### Define possible telomere sequence\n",
    "Based on literature, the haptophytic telomere sequence is the same as human:\n",
    "    \n",
    "    'TTAGGG'\n",
    "    \n",
    "But what the TRF program may flag is any combination of TTAGGG, such as TAGGGT (sliding one base pair at a time) or the reverse complement and its slidnig window (AATCCC, ATCCCA, etc.).\n",
    "\n",
    "What we need to do is build the array of all possible telomeric sequences."
   ]
  },
  {
   "cell_type": "code",
   "execution_count": null,
   "id": "b818984d",
   "metadata": {},
   "outputs": [],
   "source": [
    "#Store forward strand based sequence of a telomere based on the lit\n",
    "telomere_forward = 'TTAGGG'\n",
    "\n",
    "#Get the reverse complement\n",
    "telomere_reverse = Seq(telomere_forward).reverse_complement()\n",
    "\n",
    "print('Forward sequence = ', telomere_forward)\n",
    "print('Reverse complement of telomeric sequence = ', telomere_reverse)"
   ]
  },
  {
   "cell_type": "markdown",
   "id": "c3be2e84",
   "metadata": {},
   "source": [
    "#### Build array of all possible derivations of the above forward and reverse repeat sequences "
   ]
  },
  {
   "cell_type": "code",
   "execution_count": null,
   "id": "d6d8b586",
   "metadata": {},
   "outputs": [],
   "source": [
    "#Clear array to track all poss telomeric sequences\n",
    "possible_telomeric_seqs = []\n",
    "\n",
    "#Automatically write the first\n",
    "possible_telomeric_seqs.append(telomere_forward)\n",
    "possible_telomeric_seqs.append(telomere_reverse)\n",
    "\n",
    "#Store variable = length of telomere sequence\n",
    "seq_length = len(telomere_forward)\n",
    "\n",
    "#Print out header for out-cells\n",
    "print('#Possible Telomeric Sequences to Search For:')\n",
    "\n",
    "#Loop through all possible combinations of telomeric repeats\n",
    "for i in range(1, seq_length):\n",
    "    print('i=',i)\n",
    "    seq = telomere_forward[i:seq_length] + telomere_forward[0:i]\n",
    "    \n",
    "    #Store as a bioseq \n",
    "    forward = Seq(seq)\n",
    "    \n",
    "    #Get the reverse complement\n",
    "    reverse = forward.reverse_complement()\n",
    "    \n",
    "    print(forward, reverse)\n",
    "    #Append both to the possible telomeric sequence array\n",
    "    possible_telomeric_seqs.append(forward)\n",
    "    possible_telomeric_seqs.append(reverse)\n",
    "    "
   ]
  },
  {
   "cell_type": "markdown",
   "id": "7b66160a",
   "metadata": {},
   "source": [
    "## Store the total size of each scaffold in a dict\n",
    "This way, we can identify the distance from the start/end of each scaffold that the possible telomeric repeat was identified. \n",
    "\n",
    "If we assume that the scaffolds were assembled correctly, and extend all the way to a chromosomal tip, then we would not want to consider an identified \"telomeric repeat\" that was found in the middle of the scaffold sequence. We would only want to look at repeats a given N bp from the end. The N here will be defined by the user.\n"
   ]
  },
  {
   "cell_type": "markdown",
   "id": "171b0ab4",
   "metadata": {},
   "source": [
    "#### Parse the FASTA index file to store maximum length of each scaffold"
   ]
  },
  {
   "cell_type": "code",
   "execution_count": null,
   "id": "4d53e6ff",
   "metadata": {},
   "outputs": [],
   "source": [
    "#Clear dict for storing max lengths, keys == scaffold IDs\n",
    "scaffDict = {}\n",
    "\n",
    "#Parse the index file\n",
    "for line in open(genomeFastaIndex, 'r'):\n",
    "    #Parse and strip line\n",
    "    line = line.rstrip().split('\\t')\n",
    "    #Get scaff ID and max scaff length, store in dict\n",
    "    scaffID = line[0]\n",
    "    scaffLength = int(line[1])\n",
    "    \n",
    "    if scaffID not in scaffDict.keys():\n",
    "        scaffDict[scaffID] = scaffLength\n",
    "    \n",
    "print('lengths of %i scaffolds stored in scaffDict' % len(scaffDict.keys()))"
   ]
  },
  {
   "cell_type": "markdown",
   "id": "218beb16",
   "metadata": {},
   "source": [
    "#### Define maximum distance from scaffold end acceptable for \"telomere\" repeat\n",
    "Here, we want to see how many scaffolds have telomeres near their termini. For that purpose, we are defining that possible telomeric repeats should be within the last 2kb of each scaffold. If you wish to lower or extend this, this is the point in which you may do so. \n",
    "\n",
    "For the purposes of this manuscript, we never saw any this far from the end, they were all much cloesr. "
   ]
  },
  {
   "cell_type": "code",
   "execution_count": null,
   "id": "b46e258c",
   "metadata": {},
   "outputs": [],
   "source": [
    "maxDistanceFromEnd = 2000"
   ]
  },
  {
   "cell_type": "markdown",
   "id": "7f82c135",
   "metadata": {},
   "source": [
    "#### Parse the trf results .dat file\n",
    "\n",
    "This step keeps in mind position of repeat from the ends of each scaffold, as defined above."
   ]
  },
  {
   "cell_type": "code",
   "execution_count": null,
   "id": "4da93cc6",
   "metadata": {},
   "outputs": [],
   "source": [
    "#Clear a dictionary to store information in\n",
    "trfDict = {}\n",
    "\n",
    "#Tracking lines, this helps to skip header lines\n",
    "lineCount = 0 \n",
    "\n",
    "for line in open(trf_outFile, 'r'):\n",
    "    line=line.rstrip().split(' ')\n",
    "    lineCount += 1\n",
    "    \n",
    "    \n",
    "    #The header line is the first 8 lines, we want to skip those and start\n",
    "    #.  parsing the data lines\n",
    "    if lineCount <= 8:\n",
    "        continue\n",
    "\n",
    "    \n",
    "    #Find if new sequence is being detailed in outfile\n",
    "    if 'Sequence:' in line:\n",
    "        scaffold = line[1]\n",
    "        print('\\n' '#Parsing scaffold - ', scaffold)\n",
    "        #Check that we have the scaffold in our length dict, if not, then we skip\n",
    "        if scaffold not in scaffDict.keys():\n",
    "            print('ERROR - This scaffold is not in the length dictionary determined by processing the provided FASTA index (.fai) file.')\n",
    "            print('All TRF results from this scaffold will be ignored...' + '\\n')\n",
    "            continue\n",
    "        \n",
    "        #Create key in dictionary\n",
    "        trfDict[scaffold] = []\n",
    "    \n",
    "    #Double-Check that we have the scaffold in our length dict, if not, then we skip\n",
    "    if scaffold not in scaffDict.keys():\n",
    "        continue\n",
    "    \n",
    "    \n",
    "    #Now extract if there is data in the line pertaining to a TRF hit\n",
    "    # ... These lines will start with a numeric value\n",
    "    value = line[0]\n",
    "    if value.isnumeric() is False:\n",
    "        continue\n",
    "    \n",
    "        \n",
    "    #Get the repeat sequence\n",
    "    repeat_block_seq = line[-2] #The sequence of the repeated block\n",
    "    total_repeat_seq = line[-1] #Length (in bp) of the repeated block\n",
    "    \n",
    "    #FILTER ONE\n",
    "    #Set hit = False as default\n",
    "    hit = False\n",
    "    \n",
    "    #Check if its an identical hit to what's in the list of possible sequences in the array:\n",
    "    if repeat_block_seq in possible_telomeric_seqs:\n",
    "        #print('PERFECT SEQ MATCH TO - ', repeat_block_seq)\n",
    "        hit = \"Perfect\"\n",
    "    \n",
    "    #Else, search for a one off or so\n",
    "    else:\n",
    "        for repeat in possible_telomeric_seqs:\n",
    "            if str(repeat) in str(repeat_block_seq):\n",
    "                #print('PARTIAL SEQ MATCH TO %s' % repeat)\n",
    "                #print('TRF SEQ = ', repeat_block_seq)\n",
    "                hit = \"Partial\" \n",
    "                \n",
    "    #If hit is still false, then skip\n",
    "    if hit is False:\n",
    "        continue \n",
    "    \n",
    "    #Only those that are Perfect or Partial hits to the telomeric strings are considered\n",
    "    # going forward\n",
    "    #Ok, now parse line since this is a line that has a TRF hit\n",
    "    start, end = int(line[0]), int(line[1]) #start and end of the repeat, as chromosomal coordinates\n",
    "    \n",
    "    #Extract the max scaffold length from the scaffDict\n",
    "    #  This is used to calculate the distance of the repeat from the end of the scaffold\n",
    "    scaffold_length = scaffDict[scaffold] #Max length of the scaffold.\n",
    "    \n",
    "    \n",
    "    #FILTER TWO\n",
    "    #Check if the repeat is within N bp from the end (variable defined above as 'maxDistanceFromEnd')\n",
    "    positionFromStart = start\n",
    "    positionFromEnd = scaffold_length - end\n",
    "    \n",
    "    #Position from either end is the minimum of the pos from start and pos from end\n",
    "    positionFromEitherEnd = min(positionFromStart, positionFromEnd)\n",
    "    \n",
    "    #calculate repeat length\n",
    "    repeat_length = end-start\n",
    "    \n",
    "    #Skip if the hit is not within the stated min distance from either end of scaffold\n",
    "    if positionFromEitherEnd > maxDistanceFromEnd:\n",
    "        continue\n",
    " \n",
    "    #Printing out statistics to the screen \n",
    "    if positionFromStart < maxDistanceFromEnd:\n",
    "        placement = 'start'\n",
    "        print('(%s match) position from %s = %i bp' % (hit, placement, min(positionFromStart,positionFromEnd)))\n",
    "        print(repeat_block_seq, str(repeat_length) + 'bp')\n",
    "    if positionFromEnd < maxDistanceFromEnd:\n",
    "        placement = 'end'\n",
    "        print('(%s match) position from %s = %i bp' % (hit, placement, min(positionFromStart,positionFromEnd)))  \n",
    "        print(repeat_block_seq, str(repeat_length) + ' bp')\n",
    "    \n",
    "    #STORE HIT IN THE DICT FOR LATER\n",
    "    #Create key if first time seeing hit in scaffold\n",
    "    if scaffold not in trfDict.keys():\n",
    "        trfDict[scaffold] = []\n",
    "\n",
    "    #Now add in the information of the repeat\n",
    "    trfDict[scaffold].append([scaffold, start, end, hit, placement, positionFromEitherEnd, repeat_block_seq, repeat_length])\n",
    "\n"
   ]
  },
  {
   "cell_type": "markdown",
   "id": "efa697e1",
   "metadata": {},
   "source": [
    "#### Write hits out"
   ]
  },
  {
   "cell_type": "code",
   "execution_count": null,
   "id": "0a444ed5",
   "metadata": {},
   "outputs": [],
   "source": [
    "outfile = '../../../figshare/annotation/telomeres/UTEX2797_v1_TelomereCandidates_ParsedFromTRF.txt'\n",
    "\n",
    "#open outfile\n",
    "outFile = open(outfile, 'w')\n",
    "\n",
    "#Header line:\n",
    "headerLine = ['Scaffold', 'Repeat Start', 'Repeat End', 'Match Type (Partial or Perfect)', 'Position on Scaffold',\n",
    "             'Distance From Scaffold End (bp)', 'Telomeric Repeat Block Sequence', 'Length of Telomeric Repeat (bp)']\n",
    "outFile.write('\\t'.join(map(str, headerLine)) + '\\n')\n",
    "\n",
    "#Write out each\n",
    "for scaffold in trfDict.keys():\n",
    "    for t in trfDict[scaffold]:\n",
    "        #separator.join(map(str, stringaslist))\n",
    "        \n",
    "        outFile.write('\\t'.join(map(str, t)) + '\\n')\n",
    "\n",
    "\n",
    "#Close outfile\n",
    "outFile.close()"
   ]
  },
  {
   "cell_type": "markdown",
   "id": "5817acb2",
   "metadata": {},
   "source": [
    "____"
   ]
  },
  {
   "cell_type": "markdown",
   "id": "95d3230e",
   "metadata": {},
   "source": [
    "## Going forward..."
   ]
  },
  {
   "cell_type": "markdown",
   "id": "e6c375f6",
   "metadata": {},
   "source": [
    "Each of these candidates was assessed manually by looking first at their repeat structure and lengths, then in their genomic contexts within genome browsers. "
   ]
  },
  {
   "cell_type": "markdown",
   "id": "5e442621",
   "metadata": {},
   "source": [
    "_______"
   ]
  },
  {
   "cell_type": "markdown",
   "id": "7d723d98",
   "metadata": {},
   "source": [
    "# Done!"
   ]
  }
 ],
 "metadata": {
  "kernelspec": {
   "display_name": "Python (My env.genomics Kernel)",
   "language": "python",
   "name": "env.genomics"
  },
  "language_info": {
   "codemirror_mode": {
    "name": "ipython",
    "version": 3
   },
   "file_extension": ".py",
   "mimetype": "text/x-python",
   "name": "python",
   "nbconvert_exporter": "python",
   "pygments_lexer": "ipython3",
   "version": "3.6.10"
  }
 },
 "nbformat": 4,
 "nbformat_minor": 5
}
