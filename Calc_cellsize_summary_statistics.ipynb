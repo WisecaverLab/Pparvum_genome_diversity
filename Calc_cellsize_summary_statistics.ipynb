{
 "cells": [
  {
   "cell_type": "code",
   "execution_count": null,
   "id": "a3750bc1",
   "metadata": {},
   "outputs": [],
   "source": [
    "import pandas as pd\n",
    "import seaborn as sns"
   ]
  },
  {
   "cell_type": "code",
   "execution_count": null,
   "id": "4dbbd52c",
   "metadata": {},
   "outputs": [],
   "source": [
    "infile = '../../figshare/cell_size/cell_size.txt'\n",
    "outfile1 = '../../figshare/cell_size/cell_volume_averages.txt'\n",
    "outfile2 = '../../figshare/cell_size/cell_volume.txt'"
   ]
  },
  {
   "cell_type": "code",
   "execution_count": null,
   "id": "af7755df",
   "metadata": {},
   "outputs": [],
   "source": [
    "strainDict = {\n",
    "    \"UTEX2797\": \"A-type\",\n",
    "    \"12B1\": \"A-type\",\n",
    "    \"12A1\": \"A-type\",\n",
    "    \"CCMP2941\": \"A-type\",\n",
    "    \"CCMP3037\": \"A-type\",\n",
    "    \"K0081\": \"B-type\",\n",
    "    \"K0252\": \"C-type\",\n",
    "    \"K0374\": \"B-type\",\n",
    "    \"KAC39\": \"B-type\",\n",
    "    \"RCC1433\": \"C-type\",\n",
    "    \"RCC1436\": \"C-type\",\n",
    "    \"RCC191\": \"C-type\",\n",
    "    \"RCC3426\": \"Unknown\",\n",
    "    \"RCC3703\": \"A-type\",\n",
    "    \"UTEX995\": \"Unknown\",\n",
    "}"
   ]
  },
  {
   "cell_type": "code",
   "execution_count": null,
   "id": "edab8b43",
   "metadata": {},
   "outputs": [],
   "source": [
    "df = pd.read_csv(infile, sep='\\t')\n",
    "df['r minor'] = df['minor']/2\n",
    "df['r major'] = df['major']/2\n",
    "\n",
    "pi = 3.1415926535897931\n",
    "df['vol'] = 4.0/3.0 * pi * (df['r minor']**2) * df['r major']\n",
    "df['vol']\n",
    "\n",
    "df.to_csv(outfile2, sep='\\t', index=False)"
   ]
  },
  {
   "cell_type": "code",
   "execution_count": null,
   "id": "6d5f1da4",
   "metadata": {},
   "outputs": [],
   "source": [
    "fo = open(outfile1, 'w')\n",
    "fo.write('\\t'.join(['strain', 'count', 'mean', 'median', 'std dev']))\n",
    "\n",
    "for strain in strainDict:\n",
    "    #print(strain)\n",
    "    subdf = df.loc[df['strain'] == strain]\n",
    "    vol = pd.Series(subdf['vol'])\n",
    "    print(strain, vol.count(), vol.mean(), vol.median(), vol.std())\n",
    "    \n",
    "    fo.write('\\t'.join([strain, str(vol.count()), str(vol.mean()), str(vol.median()), str(vol.std())]))\n",
    "    \n",
    "fo.close()"
   ]
  },
  {
   "cell_type": "code",
   "execution_count": null,
   "id": "acde258f",
   "metadata": {},
   "outputs": [],
   "source": []
  }
 ],
 "metadata": {
  "kernelspec": {
   "display_name": "Python (My env.genomics Kernel)",
   "language": "python",
   "name": "env.genomics"
  },
  "language_info": {
   "codemirror_mode": {
    "name": "ipython",
    "version": 3
   },
   "file_extension": ".py",
   "mimetype": "text/x-python",
   "name": "python",
   "nbconvert_exporter": "python",
   "pygments_lexer": "ipython3",
   "version": "3.6.10"
  }
 },
 "nbformat": 4,
 "nbformat_minor": 5
}
