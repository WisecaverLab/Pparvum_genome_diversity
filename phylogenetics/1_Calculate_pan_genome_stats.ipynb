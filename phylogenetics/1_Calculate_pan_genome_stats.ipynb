{
 "cells": [
  {
   "cell_type": "code",
   "execution_count": null,
   "id": "53be81cb",
   "metadata": {},
   "outputs": [],
   "source": [
    "%matplotlib inline\n",
    "import seaborn as sns\n",
    "import matplotlib.pyplot as plt\n",
    "import matplotlib.colors\n",
    "from matplotlib.colors import LinearSegmentedColormap\n",
    "import pandas as pd\n",
    "import numpy as np\n",
    "import glob\n",
    "import statistics"
   ]
  },
  {
   "cell_type": "code",
   "execution_count": null,
   "id": "0d9e8fb6",
   "metadata": {},
   "outputs": [],
   "source": [
    "ogfile = '../../../figshare/orthofinder/Orthogroups/Orthogroups.txt'\n",
    "skipfile = '../GenesOnContigsToRemove.ids.txt'\n",
    "\n",
    "overlapfile = '../../../figshare/orthofinder/Comparative_Genomics_Statistics/shared_OGs_matrix.txt'\n",
    "heatfile = '../../../figshare/orthofinder/Comparative_Genomics_Statistics/shared_OGs_heatmap.svg'"
   ]
  },
  {
   "cell_type": "code",
   "execution_count": null,
   "id": "dc1255b2",
   "metadata": {},
   "outputs": [],
   "source": [
    "all_strains = ['12B1','UTEX2797','CCMP3037','12A1','CCMP2941','RCC3703','K0081','K0374','RCC3426','KAC39','K0252','RCC191','RCC1433','UTEX995','RCC1436']"
   ]
  },
  {
   "cell_type": "code",
   "execution_count": null,
   "id": "5750d457",
   "metadata": {},
   "outputs": [],
   "source": [
    "# skip 18 12B1 genes determined to be bacterial contamination at the ends of scaffolds 8 and 32\n",
    "fi = open(skipfile)\n",
    "skiplist = set()\n",
    "for gene in fi:\n",
    "    if gene[0] == '#':\n",
    "        continue\n",
    "    gene = gene.rstrip()\n",
    "    skiplist.add(gene)\n",
    "fi.close()"
   ]
  },
  {
   "cell_type": "markdown",
   "id": "0a1c87a8",
   "metadata": {},
   "source": [
    "## Parse OrthoFinder output"
   ]
  },
  {
   "cell_type": "code",
   "execution_count": null,
   "id": "c95a36fd",
   "metadata": {},
   "outputs": [],
   "source": [
    "core_ogs = 0\n",
    "accessory_ogs = 0\n",
    "singleton_ogs = 0\n",
    "\n",
    "strain_og_dict = {}\n",
    "for strain in all_strains:\n",
    "    strain_og_dict[strain] = []\n",
    "\n",
    "ogDict = {}\n",
    "\n",
    "revogDict = {}\n",
    "skipogs = set()\n",
    "\n",
    "singletonSet = set()\n",
    "accessorySet = set()\n",
    "coreSet = set()\n",
    "\n",
    "accessoryDict = {}\n",
    "singletonDict = {}\n",
    "for strain in all_strains:\n",
    "    accessoryDict[strain] = set()\n",
    "    singletonDict[strain] = set()\n",
    "\n",
    "    \n",
    "fi = open(ogfile)\n",
    "for line in fi:\n",
    "    genelist = line.rstrip().split()\n",
    "    og = genelist.pop(0).split(':')[0]\n",
    "\n",
    "    strainSet = set()\n",
    "    for gene in genelist:\n",
    "        if gene in skiplist:\n",
    "            continue\n",
    "        \n",
    "        revogDict[gene] = og\n",
    "        strain = gene.split('_')[1]\n",
    "        strainSet.add(strain)\n",
    "\n",
    "\n",
    "    if len(strainSet) == 0: \n",
    "        skipogs.add(og)\n",
    "        continue\n",
    "    else:\n",
    "        ogDict[og] = genelist\n",
    "        for strain1 in strainSet:\n",
    "            for strain2 in strainSet:\n",
    "                strain_og_dict[strain1].append(strain2)\n",
    "\n",
    "\n",
    "    if len(strainSet) == 15: \n",
    "        core_ogs += 1\n",
    "        coreSet.add(og)\n",
    "\n",
    "    elif len(strainSet) == 1: \n",
    "        singleton_ogs += 1\n",
    "        singletonSet.add(og)\n",
    "        for strain in strainSet:\n",
    "            singletonDict[strain].add(og)\n",
    "        \n",
    "    else: \n",
    "        accessory_ogs += 1\n",
    "        accessorySet.add(og)\n",
    "        for strain in strainSet:\n",
    "            accessoryDict[strain].add(og)\n",
    "\n",
    "\n",
    "fi.close()\n",
    "\n",
    "total_ogs = core_ogs + singleton_ogs + accessory_ogs"
   ]
  },
  {
   "cell_type": "markdown",
   "id": "aabceb68",
   "metadata": {},
   "source": [
    "## Print pan genome statistics"
   ]
  },
  {
   "cell_type": "code",
   "execution_count": null,
   "id": "ca8f7bc4",
   "metadata": {},
   "outputs": [],
   "source": [
    "print(total_ogs)"
   ]
  },
  {
   "cell_type": "code",
   "execution_count": null,
   "id": "5b2c5d89",
   "metadata": {},
   "outputs": [],
   "source": [
    "print(core_ogs)"
   ]
  },
  {
   "cell_type": "code",
   "execution_count": null,
   "id": "01657fd7",
   "metadata": {},
   "outputs": [],
   "source": [
    "print(singleton_ogs)"
   ]
  },
  {
   "cell_type": "code",
   "execution_count": null,
   "id": "8fe3c73a",
   "metadata": {},
   "outputs": [],
   "source": [
    "print(accessory_ogs)"
   ]
  },
  {
   "cell_type": "code",
   "execution_count": null,
   "id": "b77ad00b",
   "metadata": {},
   "outputs": [],
   "source": [
    "print(len(accessorySet))"
   ]
  },
  {
   "cell_type": "code",
   "execution_count": null,
   "id": "89fd8ec2",
   "metadata": {},
   "outputs": [],
   "source": [
    "outfile = '../../../figshare/orthofinder/Comparative_Genomics_Statistics/core_OGs.txt'    \n",
    "\n",
    "fo = open(outfile, 'w')\n",
    "\n",
    "for og in coreSet:\n",
    "    fo.write(og + '\\n')\n",
    "\n",
    "fo.close()"
   ]
  },
  {
   "cell_type": "code",
   "execution_count": null,
   "id": "8e67c667",
   "metadata": {},
   "outputs": [],
   "source": [
    "for strain in all_strains:\n",
    "    print(strain, len(accessoryDict[strain]), len(singletonDict[strain]))\n",
    "    \n",
    "    outfile1 = '../../../figshare/orthofinder/Comparative_Genomics_Statistics/' + strain + 'accessory_OGs.txt'        \n",
    "    outfile2 = '../../../figshare/orthofinder/Comparative_Genomics_Statistics/' + strain + 'singleton_OGs.txt'        \n",
    "   \n",
    "    fo1 = open(outfile1, 'w')\n",
    "    fo2 = open(outfile2, 'w')\n",
    "    \n",
    "    for og in accessoryDict[strain]:\n",
    "        fo1.write(og + '\\n')\n",
    "    \n",
    "    for og in singletonDict[strain]:\n",
    "        fo2.write(og + '\\n')\n",
    "\n",
    "    fo1.close()\n",
    "    fo2.close()"
   ]
  },
  {
   "cell_type": "markdown",
   "id": "508d41c0",
   "metadata": {},
   "source": [
    "```\n",
    "library(ggplot2)\n",
    "df = read.table(\"Orthofinder_stats.Rin\", sep = '\\t', header = TRUE)\n",
    "\n",
    "df$strain <- factor(df$strain, levels=c('RCC1436', 'UTEX995','RCC1433','RCC191','K0252','KAC39','RCC3426','K0374','K0081','RCC3703','CCMP2941','12A1','CCMP3037','UTEX2797','12B1'))\n",
    "\n",
    "ggplot(data=df, aes(x=strain, y=count, fill=type)) + geom_bar(stat=\"identity\") + coord_flip() + theme_classic() + facet_grid(cols = vars(type), scales = \"free\")\n",
    "```"
   ]
  },
  {
   "cell_type": "markdown",
   "id": "cb21bb10",
   "metadata": {},
   "source": [
    "## Create shared orthogroup heatmap"
   ]
  },
  {
   "cell_type": "code",
   "execution_count": null,
   "id": "cc5324b7",
   "metadata": {},
   "outputs": [],
   "source": [
    "plot_dict = {}\n",
    "\n",
    "i = 0\n",
    "\n",
    "\"\"\"for strain1 in all_strains:\n",
    "    for strain2 in all_strains:\n",
    "        i += 1\n",
    "        count = strain_og_dict[strain1].count(strain2)\n",
    "        plot_dict['Comb-' + str(i)] = [strain1, strain2, count]\"\"\"\n",
    "\n",
    "for strain1 in all_strains:\n",
    "    plot_dict[strain1] = {}\n",
    "    for strain2 in all_strains:\n",
    "        #Count shared orthogroups stored in dict\n",
    "        count = strain_og_dict[strain1].count(strain2)\n",
    "        #Store this information in the new dict\n",
    "        plot_dict[strain1][strain2] = count"
   ]
  },
  {
   "cell_type": "code",
   "execution_count": null,
   "id": "18de3be2",
   "metadata": {},
   "outputs": [],
   "source": [
    "df=pd.DataFrame.from_dict(plot_dict, orient='index')#, columns=['StrainA', 'StrainB', 'shared'])\n",
    "df.to_csv(overlapfile, sep='\\t', header=True, index=True)"
   ]
  },
  {
   "cell_type": "code",
   "execution_count": null,
   "id": "7f0dd03a",
   "metadata": {},
   "outputs": [],
   "source": [
    "df"
   ]
  },
  {
   "cell_type": "markdown",
   "id": "d0ef5afd",
   "metadata": {},
   "source": [
    "#### Min shared per strain"
   ]
  },
  {
   "cell_type": "code",
   "execution_count": null,
   "id": "3b872786",
   "metadata": {},
   "outputs": [],
   "source": [
    "df.min()"
   ]
  },
  {
   "cell_type": "markdown",
   "id": "c77a85ee",
   "metadata": {},
   "source": [
    "#### Min shared across all strains"
   ]
  },
  {
   "cell_type": "code",
   "execution_count": null,
   "id": "88531b17",
   "metadata": {},
   "outputs": [],
   "source": [
    "min(df.min())"
   ]
  },
  {
   "cell_type": "markdown",
   "id": "e1c5863f",
   "metadata": {},
   "source": [
    "#### Max shared per strain"
   ]
  },
  {
   "cell_type": "code",
   "execution_count": null,
   "id": "15548b85",
   "metadata": {},
   "outputs": [],
   "source": [
    "df.max()"
   ]
  },
  {
   "cell_type": "markdown",
   "id": "aa9dbd79",
   "metadata": {},
   "source": [
    "#### Max shared across all strains"
   ]
  },
  {
   "cell_type": "code",
   "execution_count": null,
   "id": "27eba4ae",
   "metadata": {},
   "outputs": [],
   "source": [
    "max(df.max())"
   ]
  },
  {
   "cell_type": "markdown",
   "id": "dc352c73",
   "metadata": {},
   "source": [
    "_____"
   ]
  },
  {
   "cell_type": "markdown",
   "id": "120bb422",
   "metadata": {},
   "source": [
    "## Plotting heatmaps"
   ]
  },
  {
   "cell_type": "markdown",
   "id": "e292b596",
   "metadata": {},
   "source": [
    "### Heatmap of shared orthogroups among strains"
   ]
  },
  {
   "cell_type": "code",
   "execution_count": null,
   "id": "8033cc47",
   "metadata": {},
   "outputs": [],
   "source": [
    "#Define colors of the heatmap scale\n",
    "colours = ['#FEFBE9', '#FCF7D5', '#F5F3C1', '#EAF0B5', '#DDECBF',\n",
    "           '#D0E7CA', '#C2E3D2', '#B5DDD8', '#A8D8DC', '#9BD2E1', \n",
    "           '#8DCBE4', '#81C4E7', '#7BBCE7', '#7EB2E4', '#88A5DD', \n",
    "           '#9398D2', '#9B8AC4', '#9D7DB2', '#9A709E', '#906388', \n",
    "           '#805770', '#684957', '#46353A']\n",
    "\n",
    "#define scale here, normalize by the approximate max and min printed\n",
    "# out above\n",
    "norm = plt.Normalize(18500,28000)\n",
    "\n",
    "#Create the colormap\n",
    "cmap = matplotlib.colors.LinearSegmentedColormap.from_list(\"\", colours)\n",
    "\n",
    "#Plot\n",
    "with sns.axes_style(\"white\"):\n",
    "    f, ax = plt.subplots(figsize=(15, 7))\n",
    "    ax = sns.heatmap(df, square=True, cmap=cmap)\n",
    "    plt.savefig(heatfile,dpi=500) #save fig"
   ]
  },
  {
   "cell_type": "markdown",
   "id": "decc8b73",
   "metadata": {},
   "source": [
    "### Plotting with hierarchical clustering\n",
    "Same data as above, but with clustering "
   ]
  },
  {
   "cell_type": "code",
   "execution_count": null,
   "id": "2328676b",
   "metadata": {},
   "outputs": [],
   "source": [
    "#Uses same colorbar as defined in plot above.\n",
    "ax = sns.clustermap(df, square=True, cmap=cmap)\n",
    "\n",
    "#Heatfile2 output name is same as heatmapfile but adding \n",
    "#.  'clustered' to filename\n",
    "heatfile2 = heatfile.replace('.svg', '_clustered.svg')\n",
    "\n",
    "#Save the plot\n",
    "plt.savefig(heatfile2, dpi=500)"
   ]
  },
  {
   "cell_type": "code",
   "execution_count": null,
   "id": "55461419",
   "metadata": {},
   "outputs": [],
   "source": []
  }
 ],
 "metadata": {
  "kernelspec": {
   "display_name": "Python (My env.genomics Kernel)",
   "language": "python",
   "name": "env.genomics"
  },
  "language_info": {
   "codemirror_mode": {
    "name": "ipython",
    "version": 3
   },
   "file_extension": ".py",
   "mimetype": "text/x-python",
   "name": "python",
   "nbconvert_exporter": "python",
   "pygments_lexer": "ipython3",
   "version": "3.6.10"
  }
 },
 "nbformat": 4,
 "nbformat_minor": 5
}
