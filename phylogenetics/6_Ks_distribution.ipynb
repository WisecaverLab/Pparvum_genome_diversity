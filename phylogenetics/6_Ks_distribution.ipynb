{
 "cells": [
  {
   "cell_type": "code",
   "execution_count": null,
   "id": "e4c4f4f2",
   "metadata": {},
   "outputs": [],
   "source": [
    "import glob\n",
    "import os\n",
    "import statistics\n",
    "%matplotlib inline\n",
    "import matplotlib.pyplot as plt\n",
    "import pandas as pd"
   ]
  },
  {
   "cell_type": "markdown",
   "id": "eb273c20",
   "metadata": {},
   "source": [
    "# Create yn00 control files"
   ]
  },
  {
   "cell_type": "code",
   "execution_count": null,
   "id": "74c0f3d1",
   "metadata": {},
   "outputs": [],
   "source": [
    "alnfiles = '../../../figshare/orthofinder/MultipleSequenceAlignments_GUIDANCE/*.trim.aln'"
   ]
  },
  {
   "cell_type": "markdown",
   "id": "4754ec22",
   "metadata": {},
   "source": [
    "Example yn00 control file\n",
    "\n",
    "```\n",
    "seqfile = file.fa * sequence data file name\n",
    "outfile = file.ks           * main result file\n",
    "verbose = 0      * 1: detailed output (list sequences), 0: concise output\n",
    "icode = 0  * 0:universal code; 1:mammalian mt; 2-10:see below\n",
    "weighting = 0  * weighting pathways between codons (0/1)?\n",
    "commonf3x4 = 0  * use one set of codon freqs for all pairs (0/1)?\n",
    "```"
   ]
  },
  {
   "cell_type": "code",
   "execution_count": null,
   "id": "827f4f6b",
   "metadata": {},
   "outputs": [],
   "source": [
    "for alnfile in glob.glob(alnfiles):\n",
    "    #print(alnfile)\n",
    "    \n",
    "    alndir = os.path.dirname(alnfile)\n",
    "    og = alnfile.split('/')[-1].split('.')[0]\n",
    "    #print(og,alndir)\n",
    "    \n",
    "    ynfile = alndir + '/' + og + '.yn00.ctl'\n",
    "    #print(ynfile)\n",
    "    \n",
    "    fo = open(ynfile, 'w')\n",
    "    \n",
    "    fo.write('seqfile = ' + og + '.trim.aln\\n')\n",
    "    fo.write('outfile = ' + og + '.yn00.ks\\n')\n",
    "    fo.write('verbose = 0\\n')\n",
    "    fo.write('icode = 0\\n')\n",
    "    fo.write('weighting = 0\\n')\n",
    "    fo.write('commonf3x4 = 0\\n')\n",
    "    \n",
    "    fo.close()"
   ]
  },
  {
   "cell_type": "code",
   "execution_count": null,
   "id": "a6862d24",
   "metadata": {},
   "outputs": [],
   "source": [
    "! cat ../../../7_Pangenome/1_OrthoFinder/MultipleSequenceAlignments_GUIDANCE/OG0000141.yn00.ks"
   ]
  },
  {
   "cell_type": "markdown",
   "id": "c2a8b355",
   "metadata": {},
   "source": [
    "# Parse yn00 output"
   ]
  },
  {
   "cell_type": "code",
   "execution_count": null,
   "id": "c2f5a68c",
   "metadata": {},
   "outputs": [],
   "source": [
    "strains = ['12B1','CCMP3037','UTEX2797','12A1','RCC3703','CCMP2941','KAC39','RCC3426','K0374','K0081','K0252','RCC1436','UTEX995','RCC1433','RCC191']\n",
    "\n",
    "ksDict = {}\n",
    "for strain1 in strains:\n",
    "    ksDict[strain1] = {}\n",
    "    for strain2 in strains:\n",
    "        ksDict[strain1][strain2] = {}"
   ]
  },
  {
   "cell_type": "code",
   "execution_count": null,
   "id": "a2a92c91",
   "metadata": {},
   "outputs": [],
   "source": [
    "treefiles = '../../../figshare/orthofinder/Gene_Trees_IQTREE/*.ntr.tree'\n",
    "ksfiles = '../../../figshare/orthofinder/MultipleSequenceAlignments_GUIDANCE/*.yn00.ks'\n",
    "ksmodel = 'LPB93'"
   ]
  },
  {
   "cell_type": "code",
   "execution_count": null,
   "id": "2b42312d",
   "metadata": {},
   "outputs": [],
   "source": [
    "for treefile in glob.glob(treefiles):\n",
    "    og = treefile.split('/')[-1].split('.')[0]\n",
    "    \n",
    "    infile = '../../../figshare/orthofinder/MultipleSequenceAlignments_GUIDANCE/' + og + '.yn00.ks'\n",
    "    fi = open(infile)\n",
    "\n",
    "    gene1 = ''\n",
    "    gene2 = ''\n",
    "    ks = -1\n",
    "\n",
    "\n",
    "    for line in fi:\n",
    "\n",
    "        if 'vs.' in line:\n",
    "            #print(line)\n",
    "\n",
    "            gene1 = line.split('(')[1].split(')')[0]\n",
    "            gene2 = line.split('(')[2].split(')')[0]\n",
    "\n",
    "            #print(strain1, strain2)\n",
    "\n",
    "        if ksmodel + ':' in line:\n",
    "            #print(line)\n",
    "            ks = line.split()[3].split()[0]\n",
    "            #print(strain1,strain2,ks)\n",
    "\n",
    "            strain1 = gene1.split('_')[-1]\n",
    "            strain2 = gene2.split('_')[-1]\n",
    "\n",
    "            genePair = tuple({gene1,gene2})\n",
    "\n",
    "            ksDict[strain1][strain2][genePair] = [og, ks]\n",
    "            ksDict[strain2][strain1][genePair] = [og, ks]\n",
    "\n",
    "    fi.close()"
   ]
  },
  {
   "cell_type": "code",
   "execution_count": null,
   "id": "aad94f02",
   "metadata": {},
   "outputs": [],
   "source": [
    "outfile = '../figures/ks_pairwise_allstrains_treeogsonly_' + ksmodel + '.Rin'\n",
    "\n",
    "fo = open(outfile, 'w')\n",
    "fo.write('strain1\\tstrain2\\tgenes\\tog\\tks\\n')\n",
    "\n",
    "for strain1 in ksDict:\n",
    "    for strain2 in ksDict:\n",
    "        for genepair in ksDict[strain1][strain2]:\n",
    "            genes = ' '.join(list(genepair))\n",
    "            og = ksDict[strain1][strain2][genepair][0]\n",
    "            ks = ksDict[strain1][strain2][genepair][1]\n",
    "            #print(strain1, strain2, genes, og, ks)\n",
    "            \n",
    "            fo.write(f'{strain1}\\t{strain2}\\t{genes}\\t{og}\\t{ks}\\n')\n",
    "            \n",
    "fo.close()"
   ]
  },
  {
   "cell_type": "markdown",
   "id": "90f353d7",
   "metadata": {},
   "source": [
    "# UTEX subgenomes"
   ]
  },
  {
   "cell_type": "code",
   "execution_count": null,
   "id": "1d9b6f89",
   "metadata": {},
   "outputs": [],
   "source": [
    "a1bedfile = '../../../figshare/orthofinder/Comparative_Genomics_Statistics/UTEX2797_sisrels_orange0.bed'\n",
    "a2bedfile = '../../../figshare/orthofinder/Comparative_Genomics_Statistics/UTEX2797_sisrels_pink0.bed'"
   ]
  },
  {
   "cell_type": "code",
   "execution_count": null,
   "id": "c5502b17",
   "metadata": {},
   "outputs": [],
   "source": [
    "a1Set = set()\n",
    "a2Set = set()\n",
    "\n",
    "fi = open(a1bedfile)\n",
    "for line in fi:\n",
    "    if line[0] == '#':\n",
    "        continue\n",
    "    col = line.rstrip().split('\\t')\n",
    "    gene = col[-1].split('_')[1].split('UTEX2797')[1]\n",
    "    #print(gene)\n",
    "    a1Set.add(gene)\n",
    "fi.close()\n",
    "\n",
    "fi = open(a2bedfile)\n",
    "for line in fi:\n",
    "    if line[0] == '#':\n",
    "        continue\n",
    "    col = line.rstrip().split('\\t')\n",
    "    gene = col[-1].split('_')[1].split('UTEX2797')[1]\n",
    "    #print(gene)\n",
    "    a2Set.add(gene)\n",
    "fi.close()"
   ]
  },
  {
   "cell_type": "code",
   "execution_count": null,
   "id": "3d5124b4",
   "metadata": {},
   "outputs": [],
   "source": [
    "outfile = '../figures/ks_pairwise_UTEX2797subgenomes_support0' + ksmodel + '.Rin'\n",
    "\n",
    "fo = open(outfile, 'w')\n",
    "fo.write('cat\\tstrain2\\tgenes\\tog\\tks\\n')\n",
    "\n",
    "for strain2 in ksDict['UTEX2797']:\n",
    "    for genepair in ksDict['UTEX2797'][strain2]:\n",
    "        ugene = ''\n",
    "        utype = 'unknown'\n",
    "        for gene in genepair:\n",
    "            if 'UTEX2797' in gene:\n",
    "                #print(gene)\n",
    "                ugene = gene.split('.')[0]\n",
    "        \n",
    "        if ugene in a1Set:\n",
    "            #print(ugene)\n",
    "            utype = 'A1'\n",
    "            \n",
    "        if ugene in a2Set:\n",
    "            #print(ugene)\n",
    "            utype = 'A2'\n",
    "\n",
    "        genes = ' '.join(list(genepair))\n",
    "        og = ksDict['UTEX2797'][strain2][genepair][0]\n",
    "        ks = ksDict['UTEX2797'][strain2][genepair][1]\n",
    "        #print(strain1, strain2, genes, og, ks)\n",
    "        fo.write(f'{utype}\\t{strain2}\\t{genes}\\t{og}\\t{ks}\\n')\n",
    "        \n",
    "fo.close()"
   ]
  },
  {
   "cell_type": "code",
   "execution_count": null,
   "id": "cea6380e",
   "metadata": {},
   "outputs": [],
   "source": [
    "outfile = '../figures/ks_pairwise_allstrains_treeogsonly_' + ksmodel + '.Rin'\n",
    "\n",
    "fo = open(outfile, 'a')\n",
    "\n",
    "for strain2 in ksDict['UTEX2797']:\n",
    "    for genepair in ksDict['UTEX2797'][strain2]:\n",
    "        ugene = ''\n",
    "        utype = 'unknown'\n",
    "        for gene in genepair:\n",
    "            if 'UTEX2797' in gene:\n",
    "                #print(gene)\n",
    "                ugene = gene.split('.')[0]\n",
    "        \n",
    "        if ugene in a1Set:\n",
    "            #print(ugene)\n",
    "            utype = 'UTEX2797-A1'\n",
    "            \n",
    "        if ugene in a2Set:\n",
    "            #print(ugene)\n",
    "            utype = 'UTEX2797-A2'\n",
    "\n",
    "        if utype != 'unknown':\n",
    "        \n",
    "            genes = ' '.join(list(genepair))\n",
    "            og = ksDict['UTEX2797'][strain2][genepair][0]\n",
    "            ks = ksDict['UTEX2797'][strain2][genepair][1]\n",
    "            #print(strain1, strain2, genes, og, ks)\n",
    "            fo.write(f'{utype}\\t{strain2}\\t{genes}\\t{og}\\t{ks}\\n')\n",
    "        \n",
    "fo.close()"
   ]
  },
  {
   "cell_type": "code",
   "execution_count": null,
   "id": "81564e10",
   "metadata": {},
   "outputs": [],
   "source": [
    "astrains = ['12B1', 'CCMP3037', 'RCC3703', 'CCMP2941']\n",
    "infile = '../figures/ks_pairwise_UTEX2797subgenomes_support0LPB93.Rin'\n",
    "\n",
    "fi = open(infile)\n",
    "\n",
    "mydict = {}\n",
    "for strain in astrains:\n",
    "    mydict[strain] = {}\n",
    "    mydict[strain]['A1'] = []\n",
    "    mydict[strain]['A2'] = []\n",
    "\n",
    "for line in fi: \n",
    "    \n",
    "    col = line.rstrip().split('\\t')\n",
    "    \n",
    "    strain = col[1]\n",
    "    if strain not in astrains:\n",
    "            #print(strain)\n",
    "            continue\n",
    "    \n",
    "    #print(strain)\n",
    "    cat = col[0]\n",
    "    if cat == 'unknown':\n",
    "        #print(cat)\n",
    "        continue\n",
    "\n",
    "    ks = col[-1]\n",
    "\n",
    "    if ks == 'inf' or ks == '-inf' or ks == 'nan' or ks == '-nan':\n",
    "        #print(ks)\n",
    "        continue\n",
    "\n",
    "    ks = float(ks)\n",
    "\n",
    "    if ks > 0.05 or ks < 0: \n",
    "        #print(strain, cat, ks)\n",
    "        continue\n",
    "\n",
    "    #print(strain, cat, ks)\n",
    "    mydict[strain][cat].append(ks)\n",
    "\n",
    "    #print(strain, cat, ks)\n",
    "\n",
    "fi.close()"
   ]
  },
  {
   "cell_type": "code",
   "execution_count": null,
   "id": "e062fd98",
   "metadata": {},
   "outputs": [],
   "source": [
    "for strain in mydict:\n",
    "    for cat in mydict[strain]:\n",
    "        ks_vals = mydict[strain][cat]\n",
    "        ks_vals.sort()\n",
    "        \n",
    "        medish = len(ks_vals) / 2\n",
    "        \n",
    "        \n",
    "        median = statistics.median(mydict[strain][cat])\n",
    "        print(strain, cat, ks_vals[int(medish)], median, len(mydict[strain][cat]))"
   ]
  },
  {
   "cell_type": "code",
   "execution_count": null,
   "id": "1f061745",
   "metadata": {},
   "outputs": [],
   "source": [
    "mydict['CCMP2941']['A2']"
   ]
  },
  {
   "cell_type": "markdown",
   "id": "7d2042d1",
   "metadata": {},
   "source": [
    "# Create heatmap"
   ]
  },
  {
   "cell_type": "code",
   "execution_count": null,
   "id": "c994d096",
   "metadata": {},
   "outputs": [],
   "source": [
    "treefiles = '../../../figshare/orthofinder/Gene_Trees_IQTREE/*.ntr.tree'\n",
    "ksfiles = '../../../7figshare/orthofinder/MultipleSequenceAlignments_GUIDANCE/*.yn00.ks'\n",
    "ksmodel = 'LPB93'"
   ]
  },
  {
   "cell_type": "code",
   "execution_count": null,
   "id": "1ccc124d",
   "metadata": {},
   "outputs": [],
   "source": [
    "def isfloat(num):\n",
    "    try:\n",
    "        float(num)\n",
    "        return True\n",
    "    except ValueError:\n",
    "        return False"
   ]
  },
  {
   "cell_type": "code",
   "execution_count": null,
   "id": "dc3fa3d8",
   "metadata": {},
   "outputs": [],
   "source": [
    "ks_dict = {}\n",
    "\n",
    "for treefile in glob.glob(treefiles):\n",
    "    og = treefile.split('/')[-1].split('.')[0]\n",
    "    #print(og)\n",
    "    \n",
    "    infile = '../../../figshare/orthofinder/MultipleSequenceAlignments_GUIDANCE/' + og + '.yn00.ks'\n",
    "    fi = open(infile)\n",
    "\n",
    "    gene1 = ''\n",
    "    gene2 = ''\n",
    "    ks = -1\n",
    "\n",
    "    for line in fi:\n",
    "\n",
    "        if 'vs.' in line:\n",
    "            #print(line)\n",
    "\n",
    "            gene1 = line.split('(')[1].split(')')[0]\n",
    "            gene2 = line.split('(')[2].split(')')[0]\n",
    "\n",
    "            #print(strain1, strain2)\n",
    "\n",
    "        if ksmodel + ':' in line:\n",
    "            #print(line)\n",
    "            \n",
    "            ks = line.split()[3].split()[0]\n",
    "            \n",
    "            if ks == 'inf' or ks == '-inf' or ks == 'nan' or ks == '-nan':\n",
    "                continue\n",
    "            \n",
    "            ks = float(ks)\n",
    "\n",
    "            if ks <= 0.25 and ks >= 0:\n",
    "                #print(ks)\n",
    "\n",
    "                strain1 = gene1.split('_')[-1]\n",
    "                strain2 = gene2.split('_')[-1]\n",
    "\n",
    "                strains = [strain1,strain2]\n",
    "                strains.sort()\n",
    "                strains = '-'.join(strains)\n",
    "                #print(strains, ks)\n",
    "\n",
    "                if strains in ks_dict:\n",
    "                    ks_dict[strains].append(ks)\n",
    "                else:\n",
    "                    ks_dict[strains]=[ks]\n",
    "            \n",
    "    fi.close()"
   ]
  },
  {
   "cell_type": "code",
   "execution_count": null,
   "id": "6350fcec",
   "metadata": {},
   "outputs": [],
   "source": [
    "count=0\n",
    "plot_dict={}\n",
    "for strains in ks_dict:\n",
    "    count+=1\n",
    "        \n",
    "    ks_vals=ks_dict[strains]\n",
    "    strainA=strains.split('-')[0]\n",
    "    strainB=strains.split('-')[1]\n",
    "    if strainA == strainB:\n",
    "        continue\n",
    "    median=statistics.median(ks_vals)\n",
    "    #print(strainA, strainB, median)\n",
    "\n",
    "    plot_dict['Comb-'+str(count)]=[strainA,strainB,median]\n",
    "    count+=1\n",
    "    plot_dict['Comb-'+str(count)]=[strainB,strainA,median]"
   ]
  },
  {
   "cell_type": "code",
   "execution_count": null,
   "id": "df930d26",
   "metadata": {},
   "outputs": [],
   "source": [
    "df=pd.DataFrame.from_dict(plot_dict, orient='index', columns=['StrainA', 'StrainB', 'KS'])\n",
    "df"
   ]
  },
  {
   "cell_type": "code",
   "execution_count": null,
   "id": "44d57c16",
   "metadata": {},
   "outputs": [],
   "source": [
    "df['KS'].min()"
   ]
  },
  {
   "cell_type": "code",
   "execution_count": null,
   "id": "02560b9c",
   "metadata": {},
   "outputs": [],
   "source": [
    "df['KS'].max()"
   ]
  },
  {
   "cell_type": "code",
   "execution_count": null,
   "id": "fb06072d",
   "metadata": {},
   "outputs": [],
   "source": [
    "order=['12B1','UTEX2797','CCMP3037','12A1','CCMP2941','RCC3703','K0081','K0374','RCC3426','KAC39','K0252','RCC191','RCC1433','UTEX995','RCC1436']\n",
    "df_heat = df.pivot(\"StrainA\", \"StrainB\", \"KS\")\n",
    "df_heat = df_heat.reindex(index=order, columns=order)\n",
    "df_heat.to_csv('../../../figshare/orthofinder/Comparative_Genomics_Statistics/strain_pairwise_ks.txt', sep='\\t', header=True, index=True)\n",
    "df_heat"
   ]
  },
  {
   "cell_type": "code",
   "execution_count": null,
   "id": "41dc0cfa",
   "metadata": {},
   "outputs": [],
   "source": [
    "import seaborn as sns\n",
    "import matplotlib.colors\n",
    "from matplotlib.colors import LinearSegmentedColormap\n",
    "\n",
    "#Colours=['#6F4C9B', '#6059A9', '#5568B8', '#4E79C5', '#4D8AC6', '#4E96BC', '#549EB3', '#59A5A9', '#60AB9E', '#69B190', '#77B77D', '#8CBC68', '#A6BE54', '#BEBC48', '#D1B541', '#DDAA3C', '#E49C39', '#E78C35', '#E67932', '#E4632D', '#DF4828', '#DA2222']\n",
    "#Colours=[ '#FCF7D5', '#F5F3C1', '#EAF0B5', '#DDECBF', '#D0E7CA', '#C2E3D2', '#B5DDD8', '#A8D8DC', '#9BD2E1', '#8DCBE4', '#81C4E7', '#7BBCE7', '#7EB2E4', '#88A5DD', '#9398D2', '#9B8AC4', '#9D7DB2', '#9A709E', '#906388', '#805770', '#684957', '#46353A']\n",
    "Colours=['#FFF7BC', '#FEE391', '#FEC44F', '#FB9A29', '#EC7014', '#CC4C02', '#993404', '#662506']\n",
    "#Colours=['#FEE391', '#FEC44F', '#FB9A29', '#EC7014', '#CC4C02', '#993404', '#662506']\n",
    "\n",
    "#Colours.reverse()\n",
    "\n",
    "#normalize colors to min and maxc identities\n",
    "norm=plt.Normalize(0,0.1)\n",
    "\n",
    "cmap = matplotlib.colors.LinearSegmentedColormap.from_list(\"\", Colours)\n",
    "\n",
    "with sns.axes_style(\"white\"):\n",
    "    f, ax = plt.subplots(figsize=(15, 7))\n",
    "    ax = sns.heatmap(df_heat, square=True, cmap=cmap, norm=norm)\n",
    "    plt.savefig('../../../figshare/orthofinder/Comparative_Genomics_Statistics/strain_pairwise_ks_heatmap.svg',dpi=500)"
   ]
  }
 ],
 "metadata": {
  "kernelspec": {
   "display_name": "Python (My env.genomics Kernel)",
   "language": "python",
   "name": "env.genomics"
  },
  "language_info": {
   "codemirror_mode": {
    "name": "ipython",
    "version": 3
   },
   "file_extension": ".py",
   "mimetype": "text/x-python",
   "name": "python",
   "nbconvert_exporter": "python",
   "pygments_lexer": "ipython3",
   "version": "3.6.10"
  }
 },
 "nbformat": 4,
 "nbformat_minor": 5
}
