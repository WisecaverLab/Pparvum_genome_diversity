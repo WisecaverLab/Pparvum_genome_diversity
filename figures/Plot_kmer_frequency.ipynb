{
 "cells": [
  {
   "cell_type": "code",
   "execution_count": null,
   "metadata": {},
   "outputs": [],
   "source": [
    "import pandas as pd\n",
    "import numpy as np\n",
    "import matplotlib.pyplot as plt\n",
    "import seaborn as sns\n",
    "import glob"
   ]
  },
  {
   "cell_type": "code",
   "execution_count": null,
   "metadata": {},
   "outputs": [],
   "source": [
    "infiles = '../../../figshare/heterozygosity/*/*_k21.histo'\n",
    "typeDict = {\n",
    "    \"UTEX2797\": \"A-type\",\n",
    "    \"12B1\": \"A-type\",\n",
    "    \"12A1\": \"A-type\",\n",
    "    \"CCMP2941\": \"A-type\",\n",
    "    \"CCMP3037\": \"A-type\",\n",
    "    \"K0081\": \"B-type\",\n",
    "    \"K0252\": \"C-type\",\n",
    "    \"K0374\": \"B-type\",\n",
    "    \"KAC39\": \"B-type\",\n",
    "    \"RCC1433\": \"C-type\",\n",
    "    \"RCC1436\": \"C-type\",\n",
    "    \"RCC191\": \"C-type\",\n",
    "    \"RCC3426\": \"B-type\",\n",
    "    \"RCC3703\": \"A-type\",\n",
    "    \"UTEX995\": \"C-type\",\n",
    "}"
   ]
  },
  {
   "cell_type": "code",
   "execution_count": null,
   "metadata": {},
   "outputs": [],
   "source": [
    "data = []\n",
    "\n",
    "for infile in glob.glob(infiles):\n",
    "    #print(infile)\n",
    "    #filt = infile.split('/')[0].split('_')[-1]\n",
    "    strain = infile.split('/')[-1].split('_')[0]\n",
    "    ptype = typeDict[strain]\n",
    "    #print(filt,strain,ptype)\n",
    "    \n",
    "    fi = open(infile)\n",
    "    \n",
    "    for line in fi:\n",
    "        cov, freq = line.rstrip().split('\\t')\n",
    "        #print(cov,freq,strain)\n",
    "        data.append([int(cov),int(freq),strain,ptype])\n",
    "    \n",
    "    fi.close()"
   ]
  },
  {
   "cell_type": "code",
   "execution_count": null,
   "metadata": {},
   "outputs": [],
   "source": [
    "histo = pd.DataFrame(data, columns=['cov', 'freq', 'strain', 'type'])"
   ]
  },
  {
   "cell_type": "code",
   "execution_count": null,
   "metadata": {},
   "outputs": [],
   "source": [
    "histo"
   ]
  },
  {
   "cell_type": "code",
   "execution_count": null,
   "metadata": {},
   "outputs": [],
   "source": [
    "histo_filt = histo[histo[\"cov\"] > 10]\n",
    "histo_filt = histo_filt[histo_filt[\"cov\"] < 200]"
   ]
  },
  {
   "cell_type": "code",
   "execution_count": null,
   "metadata": {},
   "outputs": [],
   "source": [
    "histo_filt"
   ]
  },
  {
   "cell_type": "code",
   "execution_count": null,
   "metadata": {},
   "outputs": [],
   "source": [
    "histo_filt.to_csv('kmer_freq.Rin', index=False, sep='\\t')"
   ]
  },
  {
   "cell_type": "code",
   "execution_count": null,
   "metadata": {},
   "outputs": [],
   "source": [
    "sns.despine(offset=10, trim=True)"
   ]
  },
  {
   "cell_type": "code",
   "execution_count": null,
   "metadata": {},
   "outputs": [],
   "source": [
    "sns.set_style(\"ticks\")\n",
    "sns.set(font_scale = 1.5, style = 'ticks')\n",
    "\n",
    "g = sns.FacetGrid(histo_filt, col=\"Strain\", row=\"Data\", margin_titles=True)\n",
    "g.map_dataframe(sns.lineplot, x=\"Coverage\", y=\"Frequency\")\n",
    "g.set_titles(col_template=\"{col_name}\", row_template=\"{row_name}\")\n",
    "g.tight_layout()\n",
    "g.savefig(\"facet_plot.pdf\", dpi=300)"
   ]
  },
  {
   "cell_type": "code",
   "execution_count": null,
   "metadata": {},
   "outputs": [],
   "source": []
  },
  {
   "cell_type": "code",
   "execution_count": null,
   "metadata": {},
   "outputs": [],
   "source": []
  },
  {
   "cell_type": "code",
   "execution_count": null,
   "metadata": {},
   "outputs": [],
   "source": [
    "a_filt = histo_filt[histo_filt[\"Prymnesin\"] == 'A-type']\n",
    "\n",
    "sns.set_style(\"ticks\")\n",
    "sns.set(font_scale = 1.5, style = 'ticks')\n",
    "\n",
    "a = sns.FacetGrid(a_filt, col=\"Strain\", row=\"Data\", margin_titles=True)\n",
    "a.map_dataframe(sns.lineplot, x=\"Coverage\", y=\"Frequency\")\n",
    "a.set_titles(col_template=\"{col_name}\", row_template=\"{row_name}\")\n",
    "a.tight_layout()\n",
    "a.savefig(\"facet_plot_Atypes.pdf\", dpi=300)"
   ]
  },
  {
   "cell_type": "code",
   "execution_count": null,
   "metadata": {},
   "outputs": [],
   "source": [
    "b_filt = histo_filt[histo_filt[\"Prymnesin\"] == 'B-type']\n",
    "\n",
    "sns.set_style(\"ticks\")\n",
    "sns.set(font_scale = 1.5, style = 'ticks')\n",
    "\n",
    "b = sns.FacetGrid(b_filt, col=\"Strain\", row=\"Data\", margin_titles=True)\n",
    "b.map_dataframe(sns.lineplot, x=\"Coverage\", y=\"Frequency\")\n",
    "b.set_titles(col_template=\"{col_name}\", row_template=\"{row_name}\")\n",
    "b.tight_layout()\n",
    "b.savefig(\"facet_plot_Btypes.pdf\", dpi=300)"
   ]
  },
  {
   "cell_type": "code",
   "execution_count": null,
   "metadata": {},
   "outputs": [],
   "source": [
    "c_filt = histo_filt[histo_filt[\"Prymnesin\"] == 'C-type']\n",
    "\n",
    "sns.set_style(\"ticks\")\n",
    "sns.set(font_scale = 1.5, style = 'ticks')\n",
    "\n",
    "c = sns.FacetGrid(c_filt, col=\"Strain\", row=\"Data\", margin_titles=True)\n",
    "c.map_dataframe(sns.lineplot, x=\"Coverage\", y=\"Frequency\")\n",
    "c.set_titles(col_template=\"{col_name}\", row_template=\"{row_name}\")\n",
    "c.tight_layout()\n",
    "c.savefig(\"facet_plot_Ctypes.pdf\", dpi=300)"
   ]
  },
  {
   "cell_type": "code",
   "execution_count": null,
   "metadata": {},
   "outputs": [],
   "source": []
  },
  {
   "cell_type": "code",
   "execution_count": null,
   "metadata": {},
   "outputs": [],
   "source": []
  },
  {
   "cell_type": "code",
   "execution_count": null,
   "metadata": {},
   "outputs": [],
   "source": []
  },
  {
   "cell_type": "code",
   "execution_count": null,
   "metadata": {},
   "outputs": [],
   "source": [
    "counted_data = {}\n",
    "x1 = []\n",
    "x2 = []\n",
    "\n",
    "fi = open(infile)\n",
    "for line in fi:\n",
    "    #print(line)\n",
    "    cov, freq = line.rstrip().split('\\t')\n",
    "    if int(cov) < 10 or int(cov) > 1000:\n",
    "        continue\n",
    "    counted_data[int(cov)] = int(freq)\n",
    "    x1.append(int(cov))\n",
    "    x2.append(int(freq))\n",
    "\n",
    "fi.close()\n",
    "\n",
    "pyplot.hist(counted_data.keys(), weights=counted_data.values(), bins=range(1000))"
   ]
  }
 ],
 "metadata": {
  "kernelspec": {
   "display_name": "Python (My env.genomics Kernel)",
   "language": "python",
   "name": "env.genomics"
  },
  "language_info": {
   "codemirror_mode": {
    "name": "ipython",
    "version": 3
   },
   "file_extension": ".py",
   "mimetype": "text/x-python",
   "name": "python",
   "nbconvert_exporter": "python",
   "pygments_lexer": "ipython3",
   "version": "3.6.10"
  }
 },
 "nbformat": 4,
 "nbformat_minor": 4
}
