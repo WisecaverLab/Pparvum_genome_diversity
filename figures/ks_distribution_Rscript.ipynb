{
 "cells": [
  {
   "cell_type": "code",
   "execution_count": null,
   "id": "8e711cb2",
   "metadata": {},
   "outputs": [],
   "source": [
    "library(ggplot2)\n",
    "library(scales)\n",
    "library(plyr)"
   ]
  },
  {
   "cell_type": "markdown",
   "id": "8063f58b",
   "metadata": {},
   "source": [
    "# Recreate data from Wolfe paper"
   ]
  },
  {
   "cell_type": "code",
   "execution_count": null,
   "id": "37c42bb7",
   "metadata": {},
   "outputs": [],
   "source": [
    "# df = read.table(\"tmp2\", sep = '\\t', header = TRUE)\n",
    "# #head(df)\n",
    "# gg = ggplot(df, aes(x=ks)) + geom_histogram(binwidth=0.01)\n",
    "# #gg = gg + scale_x_continuous(limits = c(0, .5))\n",
    "# #gg = gg + scale_x_continuous(trans = \"log10\", labels = function(x) format(x, scientific = FALSE))\n",
    "# gg = gg + theme(axis.text.x = element_text(angle = 90, vjust = 0.5, hjust=1))\n",
    "# #gg = gg + theme_classic()\n",
    "# gg"
   ]
  },
  {
   "cell_type": "markdown",
   "id": "609bd7c9",
   "metadata": {},
   "source": [
    "# All by all"
   ]
  },
  {
   "cell_type": "code",
   "execution_count": null,
   "id": "4799828d",
   "metadata": {},
   "outputs": [],
   "source": [
    "df = read.table(\"ks_pairwise_allstrains_treeogsonly_LPB93.Rin\", sep = '\\t', header = TRUE)\n",
    "df$strain1 <- factor(df$strain1, levels=c('12B1','CCMP3037','UTEX2797','UTEX2797-A1','UTEX2797-A2','12A1','RCC3703','CCMP2941','KAC39','RCC3426','K0374','K0081','K0252','RCC1436','UTEX995','RCC1433','RCC191'))    \n",
    "df$strain2 <- factor(df$strain2, levels=c('12B1','CCMP3037','UTEX2797','12A1','RCC3703','CCMP2941','KAC39','RCC3426','K0374','K0081','K0252','RCC1436','UTEX995','RCC1433','RCC191'))     \n",
    "head(df)"
   ]
  },
  {
   "cell_type": "code",
   "execution_count": null,
   "id": "039ed14f",
   "metadata": {},
   "outputs": [],
   "source": [
    "subdf = subset(subset(df, ks <= 0.25), ks >=0)\n",
    "mu <- ddply(subdf, .(strain1, strain2), summarise, grp.avg=median(ks))\n",
    "#head(mu)"
   ]
  },
  {
   "cell_type": "code",
   "execution_count": null,
   "id": "f4dedf30",
   "metadata": {},
   "outputs": [],
   "source": [
    "gg = ggplot(mu, aes(strain1, strain2, fill=grp.avg)) + geom_tile()\n",
    "gg = gg + theme(axis.text.x = element_text(angle = 90, vjust = 0.5, hjust=1))\n",
    "gg"
   ]
  },
  {
   "cell_type": "code",
   "execution_count": null,
   "id": "cb829408",
   "metadata": {},
   "outputs": [],
   "source": [
    "# testdf = subset(subset(subdf, strain1 == '12B1'), strain2 == 'UTEX2797')\n",
    "# #head(testdf)\n",
    "\n",
    "# gg = ggplot(testdf, aes(x=ks)) + geom_histogram(binwidth=0.01)\n",
    "# #gg = gg + scale_x_continuous(limits = c(0, .5))\n",
    "# #gg = gg + scale_x_continuous(trans = \"log10\", labels = function(x) format(x, scientific = FALSE))\n",
    "# gg = gg + theme(axis.text.x = element_text(angle = 90, vjust = 0.5, hjust=1))\n",
    "# #gg = gg + theme_classic()\n",
    "# gg\n"
   ]
  },
  {
   "cell_type": "markdown",
   "id": "f9409653",
   "metadata": {},
   "source": [
    "### Log transformed"
   ]
  },
  {
   "cell_type": "code",
   "execution_count": null,
   "id": "ca308825",
   "metadata": {},
   "outputs": [],
   "source": [
    "# #https://stackoverflow.com/questions/21283026/how-to-map-ggplot-histogram-x-axis-intervals-to-fixed-colour-palette\n",
    "# MyBreaks <- c(-Inf, seq(0.01, 0.25, by=0.02), Inf) \n",
    "# MyColours <- c('#6F4C9B', '#6059A9', '#5568B8', '#4E79C5', '#4D8AC6', \n",
    "#                '#4E96BC', '#549EB3', '#59A5A9', '#60AB9E', '#69B190', \n",
    "#                '#77B77D', '#8CBC68', '#A6BE54', '#BEBC48', '#D1B541')\n",
    "\n",
    "# subdf$breaks <- cut(subdf$ks, MyBreaks)\n",
    "\n",
    "# gg = ggplot(subdf, aes(x=ks, fill=subdf$breaks)) + geom_histogram(binwidth=0.1)\n",
    "# gg = gg + theme_light()\n",
    "# gg = gg + facet_grid(strain1 ~ strain2)\n",
    "# gg = gg + scale_x_continuous(trans = \"log10\", labels = function(x) format(x, scientific = FALSE))\n",
    "# #gg = gg + scale_x_continuous(limits = c(0, 0.25))\n",
    "# gg = gg + theme(axis.text.x = element_text(angle = 90, vjust = 0.5, hjust=1))\n",
    "# gg = gg + scale_fill_manual(breaks = levels(subdf$breaks), values = MyColours, name = \"X Intervals\", drop=FALSE)\n",
    "# #gg = gg + theme_classic()\n",
    "# gg\n",
    "\n"
   ]
  },
  {
   "cell_type": "code",
   "execution_count": null,
   "id": "4b0f999a",
   "metadata": {},
   "outputs": [],
   "source": [
    "# ggsave('ks_pairwise_allstrains_log.pdf', device = \"pdf\", width = 20, height = 20, units = \"in\")"
   ]
  },
  {
   "cell_type": "markdown",
   "id": "adb97bb6",
   "metadata": {},
   "source": [
    "### Standard"
   ]
  },
  {
   "cell_type": "code",
   "execution_count": null,
   "id": "89e2a2e5",
   "metadata": {},
   "outputs": [],
   "source": [
    "MyBreaks <- c(-Inf, seq(0.01, 0.21, by=0.02), Inf) \n",
    "MyColours <- c('#6F4C9B', '#5568B8', '#4D8AC6', '#549EB3', \n",
    "               '#60AB9E', '#77B77D', '#A6BE54', '#D1B541', \n",
    "               '#E49C39', '#E67932', '#DF4828', '#B8221E')\n",
    "\n",
    "# MyBreaks <- c(-Inf, seq(0.01, 0.21, by=0.02), Inf) \n",
    "# MyColours <- c('#882E72', '#1965B0', '#5289C7', '#7BAFDE', '#4EB265', \n",
    "#                '#90C987', '#CAE0AB', '#F7F056', '#F6C141', '#F1932D', \n",
    "#                '#E8601C', '#DC050C', '#777777')\n",
    "\n",
    "# MyBreaks <- c(-Inf, seq(0.01, 0.25, by=0.02), Inf) \n",
    "# MyColours <- c('#6F4C9B', '#6059A9', '#5568B8', '#4E79C5', '#4D8AC6', \n",
    "#                '#4E96BC', '#549EB3', '#59A5A9', '#60AB9E', '#69B190', \n",
    "#                '#77B77D', '#8CBC68', '#A6BE54', '#BEBC48', '#D1B541')\n",
    "\n",
    "subdf$breaks <- cut(subdf$ks, MyBreaks)\n",
    "\n",
    "gg = ggplot(subdf, aes(x=ks, fill=subdf$breaks)) + geom_histogram(binwidth=0.01)\n",
    "gg = gg + theme_light()\n",
    "gg = gg + facet_grid(strain2 ~ strain1)\n",
    "#gg = gg + scale_x_continuous(trans = \"log10\", labels = function(x) format(x, scientific = FALSE))\n",
    "#gg = gg + scale_x_continuous(limits = c(0, 0.25))\n",
    "gg = gg + theme(axis.text.x = element_text(angle = 90, vjust = 0.5, hjust=1))\n",
    "gg = gg + scale_fill_manual(breaks = levels(subdf$breaks), values = MyColours, name = \"X Intervals\", drop=FALSE)\n",
    "#gg = gg + theme(panel.grid.minor.x = element_blank(), panel.grid.minor.y = element_blank())\n",
    "gg\n",
    "\n"
   ]
  },
  {
   "cell_type": "code",
   "execution_count": null,
   "id": "94b86a2b",
   "metadata": {},
   "outputs": [],
   "source": [
    "# gg = ggplot(subdf, aes(x=ks)) + geom_density()\n",
    "# gg = gg + theme_light()\n",
    "# gg = gg + facet_grid(strain2 ~ strain1)\n",
    "# gg = gg + scale_x_continuous(trans = \"log10\", labels = function(x) format(x, scientific = FALSE))\n",
    "# #gg = gg + scale_x_continuous(limits = c(0, 0.25))\n",
    "# gg = gg + theme(axis.text.x = element_text(angle = 90, vjust = 0.5, hjust=1))\n",
    "# #gg = gg + scale_fill_manual(breaks = levels(subdf$breaks), values = MyColours, name = \"X Intervals\", drop=FALSE)\n",
    "# #gg = gg + theme(panel.grid.minor.x = element_blank(), panel.grid.minor.y = element_blank())\n",
    "# gg\n",
    "\n"
   ]
  },
  {
   "cell_type": "code",
   "execution_count": null,
   "id": "75a5d3bf",
   "metadata": {},
   "outputs": [],
   "source": [
    "ggsave('ks_pairwise_allstrains_LPB93_sept18.pdf', device = \"pdf\", width = 22, height = 20, units = \"in\")"
   ]
  },
  {
   "cell_type": "code",
   "execution_count": null,
   "id": "3158f46e",
   "metadata": {},
   "outputs": [],
   "source": []
  },
  {
   "cell_type": "markdown",
   "id": "2c3ec7c4",
   "metadata": {},
   "source": [
    "# UTEX subgenomes"
   ]
  },
  {
   "cell_type": "code",
   "execution_count": null,
   "id": "55700ec0",
   "metadata": {},
   "outputs": [],
   "source": [
    "df = read.table(\"ks_pairwise_allstrains_treeogsonly_LPB93.Rin\", sep = '\\t', header = TRUE)\n",
    "df$strain1 <- factor(df$strain1, levels=c('12B1','CCMP3037','UTEX2797','UTEX2797-A1','UTEX2797-A2','12A1','RCC3703','CCMP2941','KAC39','RCC3426','K0374','K0081','K0252','RCC1436','UTEX995','RCC1433','RCC191'))    \n",
    "df$strain2 <- factor(df$strain2, levels=c('12B1','CCMP3037','UTEX2797','12A1','RCC3703','CCMP2941','KAC39','RCC3426','K0374','K0081','K0252','RCC1436','UTEX995','RCC1433','RCC191'))     \n",
    "head(df)"
   ]
  },
  {
   "cell_type": "code",
   "execution_count": null,
   "id": "38babd3e",
   "metadata": {},
   "outputs": [],
   "source": [
    "subdf = subset(subset(df, ks <= 0.05), ks >=0)\n",
    "subdf = subdf[subdf$strain1 %in% c('UTEX2797','UTEX2797-A1','UTEX2797-A2'), ]\n",
    "subdf = subdf[subdf$strain2 %in% c(\"12B1\",\"CCMP3037\",\"RCC3703\",\"CCMP2941\"), ]\n",
    "\n",
    "head(subdf)"
   ]
  },
  {
   "cell_type": "code",
   "execution_count": null,
   "id": "2f8dcc06",
   "metadata": {},
   "outputs": [],
   "source": [
    "#https://stackoverflow.com/questions/21283026/how-to-map-ggplot-histogram-x-axis-intervals-to-fixed-colour-palette\n",
    "# MyBreaks <- c(-Inf, seq(0.01, 0.25, by=0.02), Inf) \n",
    "# MyColours <- c('#6F4C9B', '#6059A9', '#5568B8', '#4E79C5', '#4D8AC6', \n",
    "#                '#4E96BC', '#549EB3', '#59A5A9', '#60AB9E', '#69B190', \n",
    "#                '#77B77D', '#8CBC68', '#A6BE54', '#BEBC48', '#D1B541')\n",
    "\n",
    "# subdf$breaks <- cut(subdf$ks, MyBreaks)\n",
    "\n",
    "# gg = ggplot(subdf, aes(x=ks+0.05, fill=subdf$breaks)) + geom_histogram(binwidth=0.01)\n",
    "# gg = gg + theme_light()\n",
    "# gg = gg + facet_grid(strain2 ~ cat, scales = 'free_y')\n",
    "# gg = gg + scale_x_continuous(trans = \"log10\", labels = function(x) format(x, scientific = FALSE))\n",
    "# #gg = gg + scale_x_continuous(limits = c(0, 0.25))\n",
    "# gg = gg + theme(axis.text.x = element_text(angle = 90, vjust = 0.5, hjust=1))\n",
    "# gg = gg + scale_fill_manual(breaks = levels(subdf$breaks), values = MyColours, name = \"X Intervals\", drop=FALSE)\n",
    "# #gg = gg + theme_classic()\n",
    "# gg\n",
    "\n",
    "\n"
   ]
  },
  {
   "cell_type": "code",
   "execution_count": null,
   "id": "a8ed65db",
   "metadata": {},
   "outputs": [],
   "source": [
    "#ggsave('ks_pairwise_UTEX2797genes_log.pdf', device = \"pdf\", width = 5, height = 10, units = \"in\")"
   ]
  },
  {
   "cell_type": "code",
   "execution_count": null,
   "id": "3f51e4d7",
   "metadata": {},
   "outputs": [],
   "source": [
    "# #https://stackoverflow.com/questions/21283026/how-to-map-ggplot-histogram-x-axis-intervals-to-fixed-colour-palette\n",
    "# MyBreaks <- c(-Inf, seq(0.01, 0.21, by=0.02), Inf) \n",
    "# MyColours <- c('#6F4C9B', '#5568B8', '#4D8AC6', '#549EB3', \n",
    "#                '#60AB9E', '#77B77D', '#A6BE54', '#D1B541', \n",
    "#                '#E49C39', '#E67932', '#DF4828', '#B8221E')\n",
    "\n",
    "\n",
    "# subdf$breaks <- cut(subdf$ks, MyBreaks)\n",
    "\n",
    "# gg = ggplot(subdf, aes(x=ks, fill=subdf$breaks)) + geom_histogram(binwidth=0.005)\n",
    "# gg = gg + theme_classic()\n",
    "# gg = gg + facet_grid(strain2 ~ cat)\n",
    "# #gg = gg + scale_x_continuous(trans = \"log10\", labels = function(x) format(x, scientific = FALSE))\n",
    "# #gg = gg + scale_x_continuous(limits = c(0, 0.25))\n",
    "# gg = gg + theme(axis.text.x = element_text(angle = 90, vjust = 0.5, hjust=1))\n",
    "# gg = gg + scale_fill_manual(breaks = levels(subdf$breaks), values = MyColours, name = \"X Intervals\", drop=FALSE)\n",
    "# #gg = gg + theme_classic()\n",
    "# gg\n",
    "\n",
    "\n",
    "\n"
   ]
  },
  {
   "cell_type": "code",
   "execution_count": null,
   "id": "d762b3e7",
   "metadata": {},
   "outputs": [],
   "source": [
    "gg = ggplot(subdf, aes(x=ks)) + geom_histogram(binwidth=0.005)\n",
    "gg = gg + theme_classic()\n",
    "gg = gg + facet_grid(strain2 ~ strain1)\n",
    "#gg = gg + scale_x_continuous(trans = \"log10\", labels = function(x) format(x, scientific = FALSE))\n",
    "#gg = gg + scale_x_continuous(limits = c(0, 0.25))\n",
    "#gg = gg + theme(text = element_text(size=6))\n",
    "#gg = gg + theme(panel.spacing = unit(0, \"cm\"))\n",
    "#gg = gg + theme(axis.text.x = element_text(angle = 90, vjust = 0.5, hjust=1))\n",
    "#gg = gg + theme_classic()\n",
    "gg\n",
    "\n",
    "\n"
   ]
  },
  {
   "cell_type": "code",
   "execution_count": null,
   "id": "1a991dd2",
   "metadata": {},
   "outputs": [],
   "source": [
    "ggsave('ks_pairwise_UTEX2797genes_LPB93.pdf', device = \"pdf\", width = 4, height = 4, units = \"in\")"
   ]
  },
  {
   "cell_type": "code",
   "execution_count": null,
   "id": "2a24d251",
   "metadata": {},
   "outputs": [],
   "source": [
    "df = read.table(\"ks_pairwise_UTEX2797subgenomes_support0LPB93.Rin\", sep = '\\t', header = TRUE)\n",
    "#df$strain1 <- factor(df$strain1, levels=c('12B1','CCMP3037','UTEX2797','UTEX2797-A1','UTEX2797-A2','12A1','RCC3703','CCMP2941','KAC39','RCC3426','K0374','K0081','K0252','RCC1436','UTEX995','RCC1433','RCC191'))    \n",
    "df$strain2 <- factor(df$strain2, levels=c('12B1','CCMP3037','UTEX2797','12A1','RCC3703','CCMP2941','KAC39','RCC3426','K0374','K0081','K0252','RCC1436','UTEX995','RCC1433','RCC191'))     \n",
    "head(df)"
   ]
  },
  {
   "cell_type": "code",
   "execution_count": null,
   "id": "a9fba8d6",
   "metadata": {},
   "outputs": [],
   "source": [
    "subdf = subset(subset(df, ks <= 0.05), ks >=0)\n",
    "subdf = subdf[subdf$cat %in% c('A1','A2'), ]\n",
    "subdf = subdf[subdf$strain2 %in% c(\"12B1\",\"CCMP3037\",\"RCC3703\",\"CCMP2941\"), ]\n",
    "\n",
    "head(subdf)"
   ]
  },
  {
   "cell_type": "code",
   "execution_count": null,
   "id": "22b3fbf2",
   "metadata": {},
   "outputs": [],
   "source": [
    "gg = ggplot(subdf, aes(x=ks)) + geom_histogram()\n",
    "gg = gg + theme_classic()\n",
    "gg = gg + facet_grid(strain2 ~ cat)\n",
    "#gg = gg + scale_x_continuous(trans = \"log10\", labels = function(x) format(x, scientific = FALSE))\n",
    "#gg = gg + scale_x_continuous(limits = c(0, 0.25))\n",
    "#gg = gg + theme(text = element_text(size=6))\n",
    "#gg = gg + theme(panel.spacing = unit(0, \"cm\"))\n",
    "#gg = gg + theme(axis.text.x = element_text(angle = 90, vjust = 0.5, hjust=1))\n",
    "#gg = gg + theme_classic()\n",
    "gg\n",
    "\n",
    "\n",
    "\n"
   ]
  },
  {
   "cell_type": "code",
   "execution_count": null,
   "id": "a90ef5c2",
   "metadata": {},
   "outputs": [],
   "source": [
    "testdf = subdf[subdf$cat %in% c('A1'), ]\n",
    "testdf = testdf[testdf$strain2 %in% c(\"CCMP3037\"), ]\n",
    "\n",
    "median(testdf$ks)"
   ]
  },
  {
   "cell_type": "markdown",
   "id": "64a0f182",
   "metadata": {},
   "source": [
    "# Just 12B1 to everything"
   ]
  },
  {
   "cell_type": "code",
   "execution_count": null,
   "id": "25a7ba7f",
   "metadata": {},
   "outputs": [],
   "source": [
    "df = read.table(\"ks_pairwise_allstrains_treeogsonly_LPB93.Rin\", sep = '\\t', header = TRUE)\n",
    "df$strain1 <- factor(df$strain1, levels=c('12B1','CCMP3037','UTEX2797','UTEX2797-A1','UTEX2797-A2','12A1','RCC3703','CCMP2941','KAC39','RCC3426','K0374','K0081','K0252','RCC1436','UTEX995','RCC1433','RCC191'))    \n",
    "df$strain2 <- factor(df$strain2, levels=c('12B1','CCMP3037','UTEX2797','12A1','RCC3703','CCMP2941','KAC39','RCC3426','K0374','K0081','K0252','RCC1436','UTEX995','RCC1433','RCC191'))     \n",
    "#head(df)"
   ]
  },
  {
   "cell_type": "code",
   "execution_count": null,
   "id": "91598242",
   "metadata": {},
   "outputs": [],
   "source": [
    "subdf = subset(subset(df, ks <= 0.15), ks >=0)\n",
    "subdf = subdf[subdf$strain1 %in% c('12B1'), ]\n",
    "subdf = subdf[subdf$strain2 %in% c('CCMP3037','UTEX2797','12A1','RCC3703','CCMP2941','KAC39','RCC3426','K0374','K0081','K0252','RCC1436','UTEX995','RCC1433','RCC191'), ]\n",
    "#head(subdf)"
   ]
  },
  {
   "cell_type": "code",
   "execution_count": null,
   "id": "5da29146",
   "metadata": {},
   "outputs": [],
   "source": [
    "chemdf = read.table(\"chemotypes.Rin\", sep = '\\t', header = TRUE)\n",
    "#chemdf\n",
    "subdf = merge(subdf, chemdf, by = \"strain2\", sort = F, all.x = T)\n",
    "#head(subdf)"
   ]
  },
  {
   "cell_type": "code",
   "execution_count": null,
   "id": "5672560c",
   "metadata": {},
   "outputs": [],
   "source": [
    "library(plyr)\n",
    "mu <- ddply(subdf, \"strain2\", summarise, grp.avg=median(ks))\n",
    "#mu\n",
    "mu = merge(mu, chemdf, by = \"strain2\", sort = F, all.x = T)\n",
    "#mu\n"
   ]
  },
  {
   "cell_type": "code",
   "execution_count": null,
   "id": "7beb413e",
   "metadata": {},
   "outputs": [],
   "source": [
    "gg = ggplot(subdf, aes(x=ks, color=ctype, fill=strain2)) + geom_density(alpha=0.4)\n",
    "gg = gg + theme_classic()\n",
    "gg = gg + geom_vline(data=mu, aes(xintercept=grp.avg, color=ctype), linetype=\"dashed\", size=2)\n",
    "gg = gg + scale_color_manual(values=c(\"#d95f02\", \"#7570b3\", \"#1b9e77\"))\n",
    "gg = gg + scale_fill_manual(values=c('#d95f02','#d95f02','#d95f02','#d95f02','#d95f02','#7570b3','#7570b3','#7570b3','#7570b3','#1b9e77','#1b9e77','#1b9e77','#1b9e77','#1b9e77'))\n",
    "gg = gg + theme(text = element_text(size=7))\n",
    "gg = gg + theme(legend.position=\"none\")\n",
    "gg"
   ]
  },
  {
   "cell_type": "code",
   "execution_count": null,
   "id": "a5dc70ef",
   "metadata": {},
   "outputs": [],
   "source": [
    "ggsave('ks_12B1_toall_treeogsonly_LPB93.pdf', device = \"pdf\", width = 7, height = 4, units = \"cm\")"
   ]
  },
  {
   "cell_type": "markdown",
   "id": "789955aa",
   "metadata": {},
   "source": [
    "# RCC 191 to everything"
   ]
  },
  {
   "cell_type": "code",
   "execution_count": null,
   "id": "531c84a0",
   "metadata": {},
   "outputs": [],
   "source": [
    "df = read.table(\"ks_pairwise_allstrains_treeogsonly_LPB93.Rin\", sep = '\\t', header = TRUE)\n",
    "df$strain1 <- factor(df$strain1, levels=c('12B1','CCMP3037','UTEX2797','UTEX2797-A1','UTEX2797-A2','12A1','RCC3703','CCMP2941','KAC39','RCC3426','K0374','K0081','K0252','RCC1436','UTEX995','RCC1433','RCC191'))    \n",
    "df$strain2 <- factor(df$strain2, levels=c('12B1','CCMP3037','UTEX2797','12A1','RCC3703','CCMP2941','KAC39','RCC3426','K0374','K0081','K0252','RCC1436','UTEX995','RCC1433','RCC191'))     \n",
    "#head(df)"
   ]
  },
  {
   "cell_type": "code",
   "execution_count": null,
   "id": "00ee8bbc",
   "metadata": {},
   "outputs": [],
   "source": [
    "subdf = subset(subset(df, ks <= 0.15), ks >=0)\n",
    "subdf = subdf[subdf$strain1 %in% c('RCC191'), ]\n",
    "subdf = subdf[subdf$strain2 %in% c('12B1','CCMP3037','UTEX2797','12A1','RCC3703','CCMP2941','KAC39','RCC3426','K0374','K0081','K0252','RCC1436','UTEX995','RCC1433'), ]\n",
    "\n",
    "#head(subdf)"
   ]
  },
  {
   "cell_type": "code",
   "execution_count": null,
   "id": "057b2a8b",
   "metadata": {},
   "outputs": [],
   "source": [
    "chemdf = read.table(\"chemotypes.Rin\", sep = '\\t', header = TRUE)\n",
    "#chemdf\n",
    "subdf = merge(subdf, chemdf, by = \"strain2\", sort = F, all.x = T)\n",
    "#head(subdf)"
   ]
  },
  {
   "cell_type": "code",
   "execution_count": null,
   "id": "9b298469",
   "metadata": {},
   "outputs": [],
   "source": [
    "library(plyr)\n",
    "mu <- ddply(subdf, \"strain2\", summarise, grp.avg=median(ks))\n",
    "#mu\n",
    "mu = merge(mu, chemdf, by = \"strain2\", sort = F, all.x = T)\n",
    "mu"
   ]
  },
  {
   "cell_type": "code",
   "execution_count": null,
   "id": "0e20e967",
   "metadata": {},
   "outputs": [],
   "source": [
    "gg = ggplot(subdf, aes(x=ks, color=ctype, fill=strain2)) + geom_density(alpha=0.4)\n",
    "gg = gg + theme_classic()\n",
    "gg = gg + geom_vline(data=mu, aes(xintercept=grp.avg, color=ctype), linetype=\"dashed\", size=2)\n",
    "gg = gg + scale_color_manual(values=c(\"#d95f02\", \"#7570b3\", \"#1b9e77\"))\n",
    "gg = gg + scale_fill_manual(values=c('#d95f02','#d95f02','#d95f02','#d95f02','#d95f02','#7570b3','#7570b3','#7570b3','#7570b3','#1b9e77','#1b9e77','#1b9e77','#1b9e77','#1b9e77'))\n",
    "gg = gg + theme(text = element_text(size=7))\n",
    "gg = gg + theme(legend.position=\"none\")\n",
    "gg\n",
    "\n",
    "\n",
    "\n"
   ]
  },
  {
   "cell_type": "code",
   "execution_count": null,
   "id": "79588583",
   "metadata": {},
   "outputs": [],
   "source": []
  },
  {
   "cell_type": "code",
   "execution_count": null,
   "id": "f8306745",
   "metadata": {},
   "outputs": [],
   "source": [
    "df = read.table(\"ks_pairwise_allstrains_treeogsonly_LPB93.Rin\", sep = '\\t', header = TRUE)\n",
    "df$strain1 <- factor(df$strain1, levels=c('12B1','CCMP3037','UTEX2797','UTEX2797-A1','UTEX2797-A2','12A1','RCC3703','CCMP2941','KAC39','RCC3426','K0374','K0081','K0252','RCC1436','UTEX995','RCC1433','RCC191'))    \n",
    "df$strain2 <- factor(df$strain2, levels=c('12B1','CCMP3037','UTEX2797','12A1','RCC3703','CCMP2941','KAC39','RCC3426','K0374','K0081','K0252','RCC1436','UTEX995','RCC1433','RCC191'))     \n",
    "#head(df)\n",
    "\n",
    "subdf = subset(subset(df, ks <= 0.15), ks >=0)\n",
    "subdf = subdf[subdf$strain1 %in% c('KAC39'), ]\n",
    "subdf = subdf[subdf$strain2 %in% c('12B1','CCMP3037','UTEX2797','12A1','RCC3703','CCMP2941','RCC3426','K0374','K0081','K0252','RCC1436','UTEX995','RCC1433', 'RCC191'), ]\n",
    "\n",
    "chemdf = read.table(\"chemotypes.Rin\", sep = '\\t', header = TRUE)\n",
    "#chemdf\n",
    "subdf = merge(subdf, chemdf, by = \"strain2\", sort = F, all.x = T)\n",
    "#head(subdf)\n",
    "\n",
    "library(plyr)\n",
    "mu <- ddply(subdf, \"strain2\", summarise, grp.avg=median(ks))\n",
    "#mu\n",
    "mu = merge(mu, chemdf, by = \"strain2\", sort = F, all.x = T)\n",
    "#mu\n",
    "\n",
    "gg = ggplot(subdf, aes(x=ks, color=ctype, fill=strain2)) + geom_density(alpha=0.4)\n",
    "gg = gg + theme_classic()\n",
    "gg = gg + geom_vline(data=mu, aes(xintercept=grp.avg, color=ctype), linetype=\"dashed\", size=2)\n",
    "gg = gg + scale_color_manual(values=c(\"#d95f02\", \"#7570b3\", \"#1b9e77\"))\n",
    "gg = gg + scale_fill_manual(values=c('#d95f02','#d95f02','#d95f02','#d95f02','#d95f02','#7570b3','#7570b3','#7570b3','#7570b3','#1b9e77','#1b9e77','#1b9e77','#1b9e77','#1b9e77'))\n",
    "gg = gg + theme(text = element_text(size=7))\n",
    "gg = gg + theme(legend.position=\"none\")\n",
    "gg\n"
   ]
  },
  {
   "cell_type": "markdown",
   "id": "190dddbe",
   "metadata": {},
   "source": [
    "### "
   ]
  }
 ],
 "metadata": {
  "kernelspec": {
   "display_name": "R 4.1.2",
   "language": "R",
   "name": "ir-4.1.2"
  },
  "language_info": {
   "codemirror_mode": "r",
   "file_extension": ".r",
   "mimetype": "text/x-r-source",
   "name": "R",
   "pygments_lexer": "r",
   "version": "4.1.2"
  }
 },
 "nbformat": 4,
 "nbformat_minor": 5
}
