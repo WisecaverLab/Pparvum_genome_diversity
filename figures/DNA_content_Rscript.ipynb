{
 "cells": [
  {
   "cell_type": "code",
   "execution_count": null,
   "id": "1286b241",
   "metadata": {},
   "outputs": [],
   "source": [
    "library(ggplot2)"
   ]
  },
  {
   "cell_type": "code",
   "execution_count": null,
   "id": "8bad47ab",
   "metadata": {},
   "outputs": [],
   "source": [
    "df = read.table(\"dna_content.Rin\", sep = '\\t', header = TRUE)\n",
    "df$peak <- factor(df$peak, levels=rev(c('12B1','CCMP3037','UTEX2797','12A1','RCC3703','CCMP2941','KAC39','RCC3426','K0374','K0081','K0252','RCC1436','UTEX995','RCC1433','RCC191')))       \n",
    "\n",
    "head(df)"
   ]
  },
  {
   "cell_type": "code",
   "execution_count": null,
   "id": "b3a84433",
   "metadata": {},
   "outputs": [],
   "source": [
    "gg = ggplot(data=df, aes(x=peak, y=mbp, color=type))\n",
    "gg = gg + geom_hline(yintercept = 115.6, color = \"#bdbdbd\", size=.5)\n",
    "gg = gg + geom_hline(yintercept = 115.6*2, color = \"#bdbdbd\", size=.5)\n",
    "gg = gg + geom_hline(yintercept = 115.6*4, color = \"#bdbdbd\", size=.5)\n",
    "gg = gg + geom_hline(yintercept = 115.6*8, color = \"#bdbdbd\", size=.5)\n",
    "gg = gg + geom_boxplot() + coord_flip()\n",
    "#gg = gg + geom_point()\n",
    "gg = gg + theme_classic()\n",
    "gg = gg + labs(x=NULL, y='DNA content per nuclei (pg)', color=\"Prymnesin type\") \n",
    "#gg = gg + theme(axis.text.x = element_text(angle = 90, vjust = 0.5, hjust=1))\n",
    "gg = gg + theme(text = element_text(size=7))\n",
    "gg = gg + scale_y_continuous(trans='log2', breaks=c(100,200,500,1000))\n",
    "gg = gg + scale_color_manual(values=c(\"#d95f02\", \"#7570b3\", \"#1b9e77\"))\n",
    "gg = gg + theme(legend.position=\"none\")\n",
    "# gg = gg + scale_y_continuous(breaks=seq(0,900,100))\n",
    "# gg = gg + geom_text(label=df$strain, size=4, color='#000000')\n",
    "# gg = gg + scale_shape_manual(values=c(19, 15, 17, 8))\n",
    "# gg = gg + xlim(60, 140)\n",
    "gg"
   ]
  },
  {
   "cell_type": "code",
   "execution_count": null,
   "id": "24aded08",
   "metadata": {},
   "outputs": [],
   "source": [
    "ggsave('dna_content_mbp.pdf', device = \"pdf\", width = 2, height = 2, units = \"in\")"
   ]
  },
  {
   "cell_type": "code",
   "execution_count": null,
   "id": "f7cd0eef",
   "metadata": {},
   "outputs": [],
   "source": []
  },
  {
   "cell_type": "code",
   "execution_count": null,
   "id": "731cf9b8",
   "metadata": {},
   "outputs": [],
   "source": []
  }
 ],
 "metadata": {
  "kernelspec": {
   "display_name": "R 4.1.2",
   "language": "R",
   "name": "ir-4.1.2"
  },
  "language_info": {
   "codemirror_mode": "r",
   "file_extension": ".r",
   "mimetype": "text/x-r-source",
   "name": "R",
   "pygments_lexer": "r",
   "version": "4.1.2"
  }
 },
 "nbformat": 4,
 "nbformat_minor": 5
}
