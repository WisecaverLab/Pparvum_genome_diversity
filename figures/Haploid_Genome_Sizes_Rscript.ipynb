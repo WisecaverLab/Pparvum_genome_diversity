{
 "cells": [
  {
   "cell_type": "code",
   "execution_count": null,
   "id": "3530c86e",
   "metadata": {},
   "outputs": [],
   "source": [
    "library(ggplot2)"
   ]
  },
  {
   "cell_type": "code",
   "execution_count": null,
   "id": "60f16b6f",
   "metadata": {},
   "outputs": [],
   "source": [
    "df = read.table(\"haploid_genome_size.Rin\", sep = '\\t', header = TRUE)\n",
    "df$strain <- factor(df$strain, levels=rev(c('12B1','CCMP3037','UTEX2797','12A1','RCC3703','CCMP2941','KAC39','RCC3426','K0374','','K0081','K0252','RCC1436','UTEX995','RCC1433','RCC191')))       \n",
    "#df$cat <- factor(df$cat, levels=c('scog', 'flow'))\n"
   ]
  },
  {
   "cell_type": "code",
   "execution_count": null,
   "id": "b5f9eb17",
   "metadata": {},
   "outputs": [],
   "source": [
    "gg = ggplot(data=df, aes(x=strain, y=mbp, fill=chemotype)) \n",
    "gg = gg + geom_bar(stat='identity') + coord_flip()\n",
    "gg = gg + theme_classic()\n",
    "gg = gg + facet_grid(. ~ cat, scales = \"free\")\n",
    "gg = gg + theme(legend.position=\"top\")\n",
    "#gg = gg + scale_fill_manual(values=c(\"#d95f02\", \"#7570b3\", \"#1b9e77\", \"#000000\"))\n",
    "#gg = gg + scale_fill_gradientn(colours = c('#7BBCE7', '#7EB2E4', '#88A5DD', '#9398D2', '#9B8AC4', '#9D7DB2', '#9A709E', '#906388', '#805770', '#684957', '#46353A'))\n",
    "#gg = gg + scale_fill_gradientn(colours = c('#CEFFFF', '#C6F7D6', '#A2F49B', '#BBE453', '#D5CE04', '#E7B503', '#F19903', '#F6790B', '#F94902', '#E40515', '#A80003'), name='Haploid genome size (Mbp)', limits = c(75, 375), breaks=c(100, 150, 200, 250, 300, 350))\n",
    "#gg = gg + scale_fill_gradientn(colours = c('#364B9A', '#4A7BB7', '#6EA6CD', '#98CAE1', '#C2E4EF', '#EAECCC', '#FEDA8B', '#FDB366', '#F67E4B', '#DD3D2D', '#A50026'), name='Haploid genome size (Mbp)')\n",
    "#gg = gg + scale_fill_gradientn(colours = c('#EAF0B5', '#DDECBF', '#D0E7CA', '#C2E3D2', '#B5DDD8', '#A8D8DC', '#9BD2E1', '#8DCBE4', '#81C4E7', '#7BBCE7', '#7EB2E4', '#88A5DD', '#9398D2', '#9B8AC4', '#9D7DB2', '#9A709E', '#906388', '#805770', '#684957', '#46353A'), name='Haploid genome size (Mbp)')\n",
    "gg = gg + scale_fill_manual(values=c(\"#d95f02\", \"#7570b3\", \"#1b9e77\", \"#000000\"))\n",
    "gg = gg + scale_color_manual(values=c(\"#d95f02\", \"#7570b3\", \"#1b9e77\", \"#000000\"))\n",
    "\n",
    "\n",
    "gg = gg + labs(x=NULL, y='Haploid genome size (Mbp)') \n",
    "gg = gg + theme(text = element_text(size=6))\n",
    "gg = gg + theme(legend.position=\"none\")\n",
    "gg = gg + geom_text(aes(label = mbp, color=chemotype))\n",
    "\n",
    "#gg = gg + geom_text(label=df$per, size=1, color='#000000')\n",
    "# gg = gg + xlim(20, 250)\n",
    "# gg = gg + ylim(10, 50)\n",
    "# gg = gg + theme(legend.key.size=unit(0.2, \"cm\")) \n",
    "# gg = gg + theme(legend.key.width=unit(0.3, \"cm\")) \n",
    "gg"
   ]
  },
  {
   "cell_type": "code",
   "execution_count": null,
   "id": "c4f55211",
   "metadata": {},
   "outputs": [],
   "source": [
    "ggsave('haploid_genome_size.pdf', device = \"pdf\", width = 2, height = 2, units = \"in\")"
   ]
  },
  {
   "cell_type": "code",
   "execution_count": null,
   "id": "326d71e4",
   "metadata": {},
   "outputs": [],
   "source": []
  }
 ],
 "metadata": {
  "kernelspec": {
   "display_name": "R 4.1.2",
   "language": "R",
   "name": "ir-4.1.2"
  },
  "language_info": {
   "codemirror_mode": "r",
   "file_extension": ".r",
   "mimetype": "text/x-r-source",
   "name": "R",
   "pygments_lexer": "r",
   "version": "4.1.2"
  }
 },
 "nbformat": 4,
 "nbformat_minor": 5
}
